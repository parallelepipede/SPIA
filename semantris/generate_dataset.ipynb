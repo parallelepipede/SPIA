{
 "cells": [
  {
   "cell_type": "code",
   "execution_count": 1,
   "id": "ad9bfe52",
   "metadata": {},
   "outputs": [],
   "source": [
    "from PIL import Image, ImageFont,ImageDraw\n",
    "import os\n",
    "from random import randint, choice, choices,random\n",
    "from io import BytesIO\n",
    "import string"
   ]
  },
  {
   "cell_type": "code",
   "execution_count": 2,
   "id": "67b8dfb1",
   "metadata": {},
   "outputs": [],
   "source": [
    "\n",
    "DEFAULTS_FONTS = [os.path.join(os.getcwd(), 'verdana.ttf')]\n",
    "#JetJaneMono Bold Condensedb"
   ]
  },
  {
   "cell_type": "code",
   "execution_count": 47,
   "id": "94b39bac",
   "metadata": {},
   "outputs": [],
   "source": [
    "class TextGeneration(object):\n",
    "    \n",
    "    def __init__(self,directory ='five', width = 280, height = 25, fonts: list[str] = None, font_sizes:int = None):\n",
    "        self.width = width\n",
    "        self.height = height\n",
    "        self.fonts = fonts or DEFAULTS_FONTS\n",
    "        self.dir = directory\n",
    "    \n",
    "    \n",
    "    @staticmethod\n",
    "    def create_line(image,number = 5):\n",
    "        w,h = image.size\n",
    "        color = randint(0,10)\n",
    "        draw = ImageDraw.Draw(image)\n",
    "        line_width = h//number\n",
    "        for i in range(number):\n",
    "            draw.line(((0,i * line_width), (w,i*line_width)), fill=(142,142,142),width = line_width//2)\n",
    "        return image\n",
    "        \n",
    "    def generate_image(self,chars, color = 'white', background = 0):\n",
    "        image = Image.new('RGB', (self.width, self.height), (0,0,0))\n",
    "        draw = ImageDraw.Draw(image) \n",
    "        self.create_line(image)\n",
    "        font = ImageFont.truetype(choice(self.fonts), 14)\n",
    "        dx,dy = randint(0,6), randint(0,6)\n",
    "        draw.text((dx,dy), chars,font=font, fill='#5fdfeb')  #95, 223, 235\n",
    "        image.save(os.path.join(self.dir, chars+'.png'), format = 'png')\n",
    "        return image"
   ]
  },
  {
   "cell_type": "code",
   "execution_count": 48,
   "id": "4575259e",
   "metadata": {},
   "outputs": [],
   "source": [
    "textGeneration = TextGeneration('completeBDDColor')"
   ]
  },
  {
   "cell_type": "code",
   "execution_count": 49,
   "id": "b7ed1435",
   "metadata": {},
   "outputs": [],
   "source": [
    "s = string.ascii_letters\n",
    "nb_data = 4\n",
    "space_proba = .1\n",
    "for i in range(nb_data):\n",
    "    nb_letter = randint(4,30)\n",
    "    chars = choices(s, k = nb_letter)\n",
    "    #if random() < space_proba:\n",
    "    #    chars.insert(randint(0,nb_letter - 1), ' ')\n",
    "    textGeneration.generate_image(''.join(chars))"
   ]
  },
  {
   "cell_type": "code",
   "execution_count": null,
   "id": "74baad5d",
   "metadata": {},
   "outputs": [],
   "source": []
  }
 ],
 "metadata": {
  "kernelspec": {
   "display_name": "Python 3 (ipykernel)",
   "language": "python",
   "name": "python3"
  },
  "language_info": {
   "codemirror_mode": {
    "name": "ipython",
    "version": 3
   },
   "file_extension": ".py",
   "mimetype": "text/x-python",
   "name": "python",
   "nbconvert_exporter": "python",
   "pygments_lexer": "ipython3",
   "version": "3.9.7"
  }
 },
 "nbformat": 4,
 "nbformat_minor": 5
}
