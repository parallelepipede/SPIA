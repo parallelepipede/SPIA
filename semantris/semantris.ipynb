{
 "cells": [
  {
   "cell_type": "code",
   "execution_count": 9,
   "id": "c1fdfa5a",
   "metadata": {},
   "outputs": [
    {
     "name": "stdout",
     "output_type": "stream",
     "text": [
      "Requirement already satisfied: pyautogui in /Users/paul/opt/anaconda3/lib/python3.9/site-packages (0.9.53)\n",
      "Requirement already satisfied: pyobjc in /Users/paul/opt/anaconda3/lib/python3.9/site-packages (from pyautogui) (8.4)\n",
      "Requirement already satisfied: mouseinfo in /Users/paul/opt/anaconda3/lib/python3.9/site-packages (from pyautogui) (0.1.3)\n",
      "Requirement already satisfied: PyTweening>=1.0.1 in /Users/paul/opt/anaconda3/lib/python3.9/site-packages (from pyautogui) (1.0.4)\n",
      "Requirement already satisfied: pyobjc-core in /Users/paul/opt/anaconda3/lib/python3.9/site-packages (from pyautogui) (8.4)\n",
      "Requirement already satisfied: pygetwindow>=0.0.5 in /Users/paul/opt/anaconda3/lib/python3.9/site-packages (from pyautogui) (0.0.9)\n",
      "Requirement already satisfied: pymsgbox in /Users/paul/opt/anaconda3/lib/python3.9/site-packages (from pyautogui) (1.0.9)\n",
      "Requirement already satisfied: pyscreeze>=0.1.21 in /Users/paul/opt/anaconda3/lib/python3.9/site-packages (from pyautogui) (0.1.28)\n",
      "Requirement already satisfied: pyrect in /Users/paul/opt/anaconda3/lib/python3.9/site-packages (from pygetwindow>=0.0.5->pyautogui) (0.1.4)\n",
      "Requirement already satisfied: pyperclip in /Users/paul/opt/anaconda3/lib/python3.9/site-packages (from mouseinfo->pyautogui) (1.8.2)\n",
      "Requirement already satisfied: rubicon-objc in /Users/paul/opt/anaconda3/lib/python3.9/site-packages (from mouseinfo->pyautogui) (0.4.2)\n",
      "Requirement already satisfied: pyobjc-framework-BusinessChat==8.4 in /Users/paul/opt/anaconda3/lib/python3.9/site-packages (from pyobjc->pyautogui) (8.4)\n",
      "Requirement already satisfied: pyobjc-framework-OSLog==8.4 in /Users/paul/opt/anaconda3/lib/python3.9/site-packages (from pyobjc->pyautogui) (8.4)\n",
      "Requirement already satisfied: pyobjc-framework-MailKit==8.4 in /Users/paul/opt/anaconda3/lib/python3.9/site-packages (from pyobjc->pyautogui) (8.4)\n",
      "Requirement already satisfied: pyobjc-framework-VideoSubscriberAccount==8.4 in /Users/paul/opt/anaconda3/lib/python3.9/site-packages (from pyobjc->pyautogui) (8.4)\n",
      "Requirement already satisfied: pyobjc-framework-NetFS==8.4 in /Users/paul/opt/anaconda3/lib/python3.9/site-packages (from pyobjc->pyautogui) (8.4)\n",
      "Requirement already satisfied: pyobjc-framework-Accounts==8.4 in /Users/paul/opt/anaconda3/lib/python3.9/site-packages (from pyobjc->pyautogui) (8.4)\n",
      "Requirement already satisfied: pyobjc-framework-ScreenSaver==8.4 in /Users/paul/opt/anaconda3/lib/python3.9/site-packages (from pyobjc->pyautogui) (8.4)\n",
      "Requirement already satisfied: pyobjc-framework-CalendarStore==8.4 in /Users/paul/opt/anaconda3/lib/python3.9/site-packages (from pyobjc->pyautogui) (8.4)\n",
      "Requirement already satisfied: pyobjc-framework-NotificationCenter==8.4 in /Users/paul/opt/anaconda3/lib/python3.9/site-packages (from pyobjc->pyautogui) (8.4)\n",
      "Requirement already satisfied: pyobjc-framework-ModelIO==8.4 in /Users/paul/opt/anaconda3/lib/python3.9/site-packages (from pyobjc->pyautogui) (8.4)\n",
      "Requirement already satisfied: pyobjc-framework-LatentSemanticMapping==8.4 in /Users/paul/opt/anaconda3/lib/python3.9/site-packages (from pyobjc->pyautogui) (8.4)\n",
      "Requirement already satisfied: pyobjc-framework-ClassKit==8.4 in /Users/paul/opt/anaconda3/lib/python3.9/site-packages (from pyobjc->pyautogui) (8.4)\n",
      "Requirement already satisfied: pyobjc-framework-DiscRecordingUI==8.4 in /Users/paul/opt/anaconda3/lib/python3.9/site-packages (from pyobjc->pyautogui) (8.4)\n",
      "Requirement already satisfied: pyobjc-framework-CoreHaptics==8.4 in /Users/paul/opt/anaconda3/lib/python3.9/site-packages (from pyobjc->pyautogui) (8.4)\n",
      "Requirement already satisfied: pyobjc-framework-CoreMediaIO==8.4 in /Users/paul/opt/anaconda3/lib/python3.9/site-packages (from pyobjc->pyautogui) (8.4)\n",
      "Requirement already satisfied: pyobjc-framework-MultipeerConnectivity==8.4 in /Users/paul/opt/anaconda3/lib/python3.9/site-packages (from pyobjc->pyautogui) (8.4)\n",
      "Requirement already satisfied: pyobjc-framework-CFNetwork==8.4 in /Users/paul/opt/anaconda3/lib/python3.9/site-packages (from pyobjc->pyautogui) (8.4)\n",
      "Requirement already satisfied: pyobjc-framework-ExceptionHandling==8.4 in /Users/paul/opt/anaconda3/lib/python3.9/site-packages (from pyobjc->pyautogui) (8.4)\n",
      "Requirement already satisfied: pyobjc-framework-ScreenCaptureKit==8.4 in /Users/paul/opt/anaconda3/lib/python3.9/site-packages (from pyobjc->pyautogui) (8.4)\n",
      "Requirement already satisfied: pyobjc-framework-iTunesLibrary==8.4 in /Users/paul/opt/anaconda3/lib/python3.9/site-packages (from pyobjc->pyautogui) (8.4)\n",
      "Requirement already satisfied: pyobjc-framework-ExecutionPolicy==8.4 in /Users/paul/opt/anaconda3/lib/python3.9/site-packages (from pyobjc->pyautogui) (8.4)\n",
      "Requirement already satisfied: pyobjc-framework-OSAKit==8.4 in /Users/paul/opt/anaconda3/lib/python3.9/site-packages (from pyobjc->pyautogui) (8.4)\n",
      "Requirement already satisfied: pyobjc-framework-InputMethodKit==8.4 in /Users/paul/opt/anaconda3/lib/python3.9/site-packages (from pyobjc->pyautogui) (8.4)\n",
      "Requirement already satisfied: pyobjc-framework-GameKit==8.4 in /Users/paul/opt/anaconda3/lib/python3.9/site-packages (from pyobjc->pyautogui) (8.4)\n",
      "Requirement already satisfied: pyobjc-framework-Intents==8.4 in /Users/paul/opt/anaconda3/lib/python3.9/site-packages (from pyobjc->pyautogui) (8.4)\n",
      "Requirement already satisfied: pyobjc-framework-PushKit==8.4 in /Users/paul/opt/anaconda3/lib/python3.9/site-packages (from pyobjc->pyautogui) (8.4)\n",
      "Requirement already satisfied: pyobjc-framework-LaunchServices==8.4 in /Users/paul/opt/anaconda3/lib/python3.9/site-packages (from pyobjc->pyautogui) (8.4)\n",
      "Requirement already satisfied: pyobjc-framework-IntentsUI==8.4 in /Users/paul/opt/anaconda3/lib/python3.9/site-packages (from pyobjc->pyautogui) (8.4)\n",
      "Requirement already satisfied: pyobjc-framework-PassKit==8.4 in /Users/paul/opt/anaconda3/lib/python3.9/site-packages (from pyobjc->pyautogui) (8.4)\n",
      "Requirement already satisfied: pyobjc-framework-ScriptingBridge==8.4 in /Users/paul/opt/anaconda3/lib/python3.9/site-packages (from pyobjc->pyautogui) (8.4)\n",
      "Requirement already satisfied: pyobjc-framework-VideoToolbox==8.4 in /Users/paul/opt/anaconda3/lib/python3.9/site-packages (from pyobjc->pyautogui) (8.4)\n",
      "Requirement already satisfied: pyobjc-framework-CallKit==8.4 in /Users/paul/opt/anaconda3/lib/python3.9/site-packages (from pyobjc->pyautogui) (8.4)\n",
      "Requirement already satisfied: pyobjc-framework-SecurityInterface==8.4 in /Users/paul/opt/anaconda3/lib/python3.9/site-packages (from pyobjc->pyautogui) (8.4)\n",
      "Requirement already satisfied: pyobjc-framework-CoreMedia==8.4 in /Users/paul/opt/anaconda3/lib/python3.9/site-packages (from pyobjc->pyautogui) (8.4)\n",
      "Requirement already satisfied: pyobjc-framework-AppTrackingTransparency==8.4 in /Users/paul/opt/anaconda3/lib/python3.9/site-packages (from pyobjc->pyautogui) (8.4)\n",
      "Requirement already satisfied: pyobjc-framework-OpenDirectory==8.4 in /Users/paul/opt/anaconda3/lib/python3.9/site-packages (from pyobjc->pyautogui) (8.4)\n",
      "Requirement already satisfied: pyobjc-framework-SoundAnalysis==8.4 in /Users/paul/opt/anaconda3/lib/python3.9/site-packages (from pyobjc->pyautogui) (8.4)\n",
      "Requirement already satisfied: pyobjc-framework-InstantMessage==8.4 in /Users/paul/opt/anaconda3/lib/python3.9/site-packages (from pyobjc->pyautogui) (8.4)\n",
      "Requirement already satisfied: pyobjc-framework-DVDPlayback==8.4 in /Users/paul/opt/anaconda3/lib/python3.9/site-packages (from pyobjc->pyautogui) (8.4)\n",
      "Requirement already satisfied: pyobjc-framework-ExternalAccessory==8.4 in /Users/paul/opt/anaconda3/lib/python3.9/site-packages (from pyobjc->pyautogui) (8.4)\n",
      "Requirement already satisfied: pyobjc-framework-CryptoTokenKit==8.4 in /Users/paul/opt/anaconda3/lib/python3.9/site-packages (from pyobjc->pyautogui) (8.4)\n",
      "Requirement already satisfied: pyobjc-framework-AutomaticAssessmentConfiguration==8.4 in /Users/paul/opt/anaconda3/lib/python3.9/site-packages (from pyobjc->pyautogui) (8.4)\n",
      "Requirement already satisfied: pyobjc-framework-SystemExtensions==8.4 in /Users/paul/opt/anaconda3/lib/python3.9/site-packages (from pyobjc->pyautogui) (8.4)\n",
      "Requirement already satisfied: pyobjc-framework-MediaLibrary==8.4 in /Users/paul/opt/anaconda3/lib/python3.9/site-packages (from pyobjc->pyautogui) (8.4)\n",
      "Requirement already satisfied: pyobjc-framework-Vision==8.4 in /Users/paul/opt/anaconda3/lib/python3.9/site-packages (from pyobjc->pyautogui) (8.4)\n"
     ]
    },
    {
     "name": "stdout",
     "output_type": "stream",
     "text": [
      "Requirement already satisfied: pyobjc-framework-SceneKit==8.4 in /Users/paul/opt/anaconda3/lib/python3.9/site-packages (from pyobjc->pyautogui) (8.4)\n",
      "Requirement already satisfied: pyobjc-framework-QuickLookThumbnailing==8.4 in /Users/paul/opt/anaconda3/lib/python3.9/site-packages (from pyobjc->pyautogui) (8.4)\n",
      "Requirement already satisfied: pyobjc-framework-ImageCaptureCore==8.4 in /Users/paul/opt/anaconda3/lib/python3.9/site-packages (from pyobjc->pyautogui) (8.4)\n",
      "Requirement already satisfied: pyobjc-framework-ContactsUI==8.4 in /Users/paul/opt/anaconda3/lib/python3.9/site-packages (from pyobjc->pyautogui) (8.4)\n",
      "Requirement already satisfied: pyobjc-framework-Security==8.4 in /Users/paul/opt/anaconda3/lib/python3.9/site-packages (from pyobjc->pyautogui) (8.4)\n",
      "Requirement already satisfied: pyobjc-framework-NaturalLanguage==8.4 in /Users/paul/opt/anaconda3/lib/python3.9/site-packages (from pyobjc->pyautogui) (8.4)\n",
      "Requirement already satisfied: pyobjc-framework-LocalAuthentication==8.4 in /Users/paul/opt/anaconda3/lib/python3.9/site-packages (from pyobjc->pyautogui) (8.4)\n",
      "Requirement already satisfied: pyobjc-framework-FileProvider==8.4 in /Users/paul/opt/anaconda3/lib/python3.9/site-packages (from pyobjc->pyautogui) (8.4)\n",
      "Requirement already satisfied: pyobjc-framework-AppleScriptObjC==8.4 in /Users/paul/opt/anaconda3/lib/python3.9/site-packages (from pyobjc->pyautogui) (8.4)\n",
      "Requirement already satisfied: pyobjc-framework-CoreMotion==8.4 in /Users/paul/opt/anaconda3/lib/python3.9/site-packages (from pyobjc->pyautogui) (8.4)\n",
      "Requirement already satisfied: pyobjc-framework-DataDetection==8.4 in /Users/paul/opt/anaconda3/lib/python3.9/site-packages (from pyobjc->pyautogui) (8.4)\n",
      "Requirement already satisfied: pyobjc-framework-CoreAudio==8.4 in /Users/paul/opt/anaconda3/lib/python3.9/site-packages (from pyobjc->pyautogui) (8.4)\n",
      "Requirement already satisfied: pyobjc-framework-SearchKit==8.4 in /Users/paul/opt/anaconda3/lib/python3.9/site-packages (from pyobjc->pyautogui) (8.4)\n",
      "Requirement already satisfied: pyobjc-framework-UserNotificationsUI==8.4 in /Users/paul/opt/anaconda3/lib/python3.9/site-packages (from pyobjc->pyautogui) (8.4)\n",
      "Requirement already satisfied: pyobjc-framework-SystemConfiguration==8.4 in /Users/paul/opt/anaconda3/lib/python3.9/site-packages (from pyobjc->pyautogui) (8.4)\n",
      "Requirement already satisfied: pyobjc-framework-ShazamKit==8.4 in /Users/paul/opt/anaconda3/lib/python3.9/site-packages (from pyobjc->pyautogui) (8.4)\n",
      "Requirement already satisfied: pyobjc-framework-GameplayKit==8.4 in /Users/paul/opt/anaconda3/lib/python3.9/site-packages (from pyobjc->pyautogui) (8.4)\n",
      "Requirement already satisfied: pyobjc-framework-NetworkExtension==8.4 in /Users/paul/opt/anaconda3/lib/python3.9/site-packages (from pyobjc->pyautogui) (8.4)\n",
      "Requirement already satisfied: pyobjc-framework-Network==8.4 in /Users/paul/opt/anaconda3/lib/python3.9/site-packages (from pyobjc->pyautogui) (8.4)\n",
      "Requirement already satisfied: pyobjc-framework-CoreText==8.4 in /Users/paul/opt/anaconda3/lib/python3.9/site-packages (from pyobjc->pyautogui) (8.4)\n",
      "Requirement already satisfied: pyobjc-framework-Automator==8.4 in /Users/paul/opt/anaconda3/lib/python3.9/site-packages (from pyobjc->pyautogui) (8.4)\n",
      "Requirement already satisfied: pyobjc-framework-Cocoa==8.4 in /Users/paul/opt/anaconda3/lib/python3.9/site-packages (from pyobjc->pyautogui) (8.4)\n",
      "Requirement already satisfied: pyobjc-framework-EventKit==8.4 in /Users/paul/opt/anaconda3/lib/python3.9/site-packages (from pyobjc->pyautogui) (8.4)\n",
      "Requirement already satisfied: pyobjc-framework-Speech==8.4 in /Users/paul/opt/anaconda3/lib/python3.9/site-packages (from pyobjc->pyautogui) (8.4)\n",
      "Requirement already satisfied: pyobjc-framework-Virtualization==8.4 in /Users/paul/opt/anaconda3/lib/python3.9/site-packages (from pyobjc->pyautogui) (8.4)\n",
      "Requirement already satisfied: pyobjc-framework-ReplayKit==8.4 in /Users/paul/opt/anaconda3/lib/python3.9/site-packages (from pyobjc->pyautogui) (8.4)\n",
      "Requirement already satisfied: pyobjc-framework-PhotosUI==8.4 in /Users/paul/opt/anaconda3/lib/python3.9/site-packages (from pyobjc->pyautogui) (8.4)\n",
      "Requirement already satisfied: pyobjc-framework-IMServicePlugIn==8.4 in /Users/paul/opt/anaconda3/lib/python3.9/site-packages (from pyobjc->pyautogui) (8.4)\n",
      "Requirement already satisfied: pyobjc-framework-CoreBluetooth==8.4 in /Users/paul/opt/anaconda3/lib/python3.9/site-packages (from pyobjc->pyautogui) (8.4)\n",
      "Requirement already satisfied: pyobjc-framework-WebKit==8.4 in /Users/paul/opt/anaconda3/lib/python3.9/site-packages (from pyobjc->pyautogui) (8.4)\n",
      "Requirement already satisfied: pyobjc-framework-MLCompute==8.4 in /Users/paul/opt/anaconda3/lib/python3.9/site-packages (from pyobjc->pyautogui) (8.4)\n",
      "Requirement already satisfied: pyobjc-framework-SpriteKit==8.4 in /Users/paul/opt/anaconda3/lib/python3.9/site-packages (from pyobjc->pyautogui) (8.4)\n",
      "Requirement already satisfied: pyobjc-framework-LocalAuthenticationEmbeddedUI==8.4 in /Users/paul/opt/anaconda3/lib/python3.9/site-packages (from pyobjc->pyautogui) (8.4)\n",
      "Requirement already satisfied: pyobjc-framework-AudioVideoBridging==8.4 in /Users/paul/opt/anaconda3/lib/python3.9/site-packages (from pyobjc->pyautogui) (8.4)\n",
      "Requirement already satisfied: pyobjc-framework-AdSupport==8.4 in /Users/paul/opt/anaconda3/lib/python3.9/site-packages (from pyobjc->pyautogui) (8.4)\n",
      "Requirement already satisfied: pyobjc-framework-CoreServices==8.4 in /Users/paul/opt/anaconda3/lib/python3.9/site-packages (from pyobjc->pyautogui) (8.4)\n",
      "Requirement already satisfied: pyobjc-framework-CloudKit==8.4 in /Users/paul/opt/anaconda3/lib/python3.9/site-packages (from pyobjc->pyautogui) (8.4)\n",
      "Requirement already satisfied: pyobjc-framework-CoreSpotlight==8.4 in /Users/paul/opt/anaconda3/lib/python3.9/site-packages (from pyobjc->pyautogui) (8.4)\n",
      "Requirement already satisfied: pyobjc-framework-MetricKit==8.4 in /Users/paul/opt/anaconda3/lib/python3.9/site-packages (from pyobjc->pyautogui) (8.4)\n",
      "Requirement already satisfied: pyobjc-framework-DictionaryServices==8.4 in /Users/paul/opt/anaconda3/lib/python3.9/site-packages (from pyobjc->pyautogui) (8.4)\n",
      "Requirement already satisfied: pyobjc-framework-DiscRecording==8.4 in /Users/paul/opt/anaconda3/lib/python3.9/site-packages (from pyobjc->pyautogui) (8.4)\n",
      "Requirement already satisfied: pyobjc-framework-SafariServices==8.4 in /Users/paul/opt/anaconda3/lib/python3.9/site-packages (from pyobjc->pyautogui) (8.4)\n",
      "Requirement already satisfied: pyobjc-framework-LinkPresentation==8.4 in /Users/paul/opt/anaconda3/lib/python3.9/site-packages (from pyobjc->pyautogui) (8.4)\n",
      "Requirement already satisfied: pyobjc-framework-ApplicationServices==8.4 in /Users/paul/opt/anaconda3/lib/python3.9/site-packages (from pyobjc->pyautogui) (8.4)\n",
      "Requirement already satisfied: pyobjc-framework-AddressBook==8.4 in /Users/paul/opt/anaconda3/lib/python3.9/site-packages (from pyobjc->pyautogui) (8.4)\n",
      "Requirement already satisfied: pyobjc-framework-SecurityFoundation==8.4 in /Users/paul/opt/anaconda3/lib/python3.9/site-packages (from pyobjc->pyautogui) (8.4)\n",
      "Requirement already satisfied: pyobjc-framework-MediaPlayer==8.4 in /Users/paul/opt/anaconda3/lib/python3.9/site-packages (from pyobjc->pyautogui) (8.4)\n",
      "Requirement already satisfied: pyobjc-framework-DeviceCheck==8.4 in /Users/paul/opt/anaconda3/lib/python3.9/site-packages (from pyobjc->pyautogui) (8.4)\n",
      "Requirement already satisfied: pyobjc-framework-libdispatch==8.4 in /Users/paul/opt/anaconda3/lib/python3.9/site-packages (from pyobjc->pyautogui) (8.4)\n",
      "Requirement already satisfied: pyobjc-framework-Social==8.4 in /Users/paul/opt/anaconda3/lib/python3.9/site-packages (from pyobjc->pyautogui) (8.4)\n",
      "Requirement already satisfied: pyobjc-framework-MetalKit==8.4 in /Users/paul/opt/anaconda3/lib/python3.9/site-packages (from pyobjc->pyautogui) (8.4)\n",
      "Requirement already satisfied: pyobjc-framework-FileProviderUI==8.4 in /Users/paul/opt/anaconda3/lib/python3.9/site-packages (from pyobjc->pyautogui) (8.4)\n",
      "Requirement already satisfied: pyobjc-framework-CoreML==8.4 in /Users/paul/opt/anaconda3/lib/python3.9/site-packages (from pyobjc->pyautogui) (8.4)\n",
      "Requirement already satisfied: pyobjc-framework-AdServices==8.4 in /Users/paul/opt/anaconda3/lib/python3.9/site-packages (from pyobjc->pyautogui) (8.4)\n",
      "Requirement already satisfied: pyobjc-framework-PencilKit==8.4 in /Users/paul/opt/anaconda3/lib/python3.9/site-packages (from pyobjc->pyautogui) (8.4)\n",
      "Requirement already satisfied: pyobjc-framework-GameController==8.4 in /Users/paul/opt/anaconda3/lib/python3.9/site-packages (from pyobjc->pyautogui) (8.4)\n"
     ]
    },
    {
     "name": "stdout",
     "output_type": "stream",
     "text": [
      "Requirement already satisfied: pyobjc-framework-UserNotifications==8.4 in /Users/paul/opt/anaconda3/lib/python3.9/site-packages (from pyobjc->pyautogui) (8.4)\n",
      "Requirement already satisfied: pyobjc-framework-ScreenTime==8.4 in /Users/paul/opt/anaconda3/lib/python3.9/site-packages (from pyobjc->pyautogui) (8.4)\n",
      "Requirement already satisfied: pyobjc-framework-AppleScriptKit==8.4 in /Users/paul/opt/anaconda3/lib/python3.9/site-packages (from pyobjc->pyautogui) (8.4)\n",
      "Requirement already satisfied: pyobjc-framework-MediaToolbox==8.4 in /Users/paul/opt/anaconda3/lib/python3.9/site-packages (from pyobjc->pyautogui) (8.4)\n",
      "Requirement already satisfied: pyobjc-framework-Collaboration==8.4 in /Users/paul/opt/anaconda3/lib/python3.9/site-packages (from pyobjc->pyautogui) (8.4)\n",
      "Requirement already satisfied: pyobjc-framework-IOSurface==8.4 in /Users/paul/opt/anaconda3/lib/python3.9/site-packages (from pyobjc->pyautogui) (8.4)\n",
      "Requirement already satisfied: pyobjc-framework-ServiceManagement==8.4 in /Users/paul/opt/anaconda3/lib/python3.9/site-packages (from pyobjc->pyautogui) (8.4)\n",
      "Requirement already satisfied: pyobjc-framework-FinderSync==8.4 in /Users/paul/opt/anaconda3/lib/python3.9/site-packages (from pyobjc->pyautogui) (8.4)\n",
      "Requirement already satisfied: pyobjc-framework-PreferencePanes==8.4 in /Users/paul/opt/anaconda3/lib/python3.9/site-packages (from pyobjc->pyautogui) (8.4)\n",
      "Requirement already satisfied: pyobjc-framework-Quartz==8.4 in /Users/paul/opt/anaconda3/lib/python3.9/site-packages (from pyobjc->pyautogui) (8.4)\n",
      "Requirement already satisfied: pyobjc-framework-CoreMIDI==8.4 in /Users/paul/opt/anaconda3/lib/python3.9/site-packages (from pyobjc->pyautogui) (8.4)\n",
      "Requirement already satisfied: pyobjc-framework-MetalPerformanceShaders==8.4 in /Users/paul/opt/anaconda3/lib/python3.9/site-packages (from pyobjc->pyautogui) (8.4)\n",
      "Requirement already satisfied: pyobjc-framework-CoreData==8.4 in /Users/paul/opt/anaconda3/lib/python3.9/site-packages (from pyobjc->pyautogui) (8.4)\n",
      "Requirement already satisfied: pyobjc-framework-SyncServices==8.4 in /Users/paul/opt/anaconda3/lib/python3.9/site-packages (from pyobjc->pyautogui) (8.4)\n",
      "Requirement already satisfied: pyobjc-framework-MapKit==8.4 in /Users/paul/opt/anaconda3/lib/python3.9/site-packages (from pyobjc->pyautogui) (8.4)\n",
      "Requirement already satisfied: pyobjc-framework-AVKit==8.4 in /Users/paul/opt/anaconda3/lib/python3.9/site-packages (from pyobjc->pyautogui) (8.4)\n",
      "Requirement already satisfied: pyobjc-framework-DiskArbitration==8.4 in /Users/paul/opt/anaconda3/lib/python3.9/site-packages (from pyobjc->pyautogui) (8.4)\n",
      "Requirement already satisfied: pyobjc-framework-FSEvents==8.4 in /Users/paul/opt/anaconda3/lib/python3.9/site-packages (from pyobjc->pyautogui) (8.4)\n",
      "Requirement already satisfied: pyobjc-framework-MetalPerformanceShadersGraph==8.4 in /Users/paul/opt/anaconda3/lib/python3.9/site-packages (from pyobjc->pyautogui) (8.4)\n",
      "Requirement already satisfied: pyobjc-framework-Photos==8.4 in /Users/paul/opt/anaconda3/lib/python3.9/site-packages (from pyobjc->pyautogui) (8.4)\n",
      "Requirement already satisfied: pyobjc-framework-CoreLocation==8.4 in /Users/paul/opt/anaconda3/lib/python3.9/site-packages (from pyobjc->pyautogui) (8.4)\n",
      "Requirement already satisfied: pyobjc-framework-GameCenter==8.4 in /Users/paul/opt/anaconda3/lib/python3.9/site-packages (from pyobjc->pyautogui) (8.4)\n",
      "Requirement already satisfied: pyobjc-framework-UniformTypeIdentifiers==8.4 in /Users/paul/opt/anaconda3/lib/python3.9/site-packages (from pyobjc->pyautogui) (8.4)\n",
      "Requirement already satisfied: pyobjc-framework-InstallerPlugins==8.4 in /Users/paul/opt/anaconda3/lib/python3.9/site-packages (from pyobjc->pyautogui) (8.4)\n",
      "Requirement already satisfied: pyobjc-framework-CoreAudioKit==8.4 in /Users/paul/opt/anaconda3/lib/python3.9/site-packages (from pyobjc->pyautogui) (8.4)\n",
      "Requirement already satisfied: pyobjc-framework-KernelManagement==8.4 in /Users/paul/opt/anaconda3/lib/python3.9/site-packages (from pyobjc->pyautogui) (8.4)\n",
      "Requirement already satisfied: pyobjc-framework-ColorSync==8.4 in /Users/paul/opt/anaconda3/lib/python3.9/site-packages (from pyobjc->pyautogui) (8.4)\n",
      "Requirement already satisfied: pyobjc-framework-AVFoundation==8.4 in /Users/paul/opt/anaconda3/lib/python3.9/site-packages (from pyobjc->pyautogui) (8.4)\n",
      "Requirement already satisfied: pyobjc-framework-Accessibility==8.4 in /Users/paul/opt/anaconda3/lib/python3.9/site-packages (from pyobjc->pyautogui) (8.4)\n",
      "Requirement already satisfied: pyobjc-framework-AuthenticationServices==8.4 in /Users/paul/opt/anaconda3/lib/python3.9/site-packages (from pyobjc->pyautogui) (8.4)\n",
      "Requirement already satisfied: pyobjc-framework-Metal==8.4 in /Users/paul/opt/anaconda3/lib/python3.9/site-packages (from pyobjc->pyautogui) (8.4)\n",
      "Requirement already satisfied: pyobjc-framework-MediaAccessibility==8.4 in /Users/paul/opt/anaconda3/lib/python3.9/site-packages (from pyobjc->pyautogui) (8.4)\n",
      "Requirement already satisfied: pyobjc-framework-CoreWLAN==8.4 in /Users/paul/opt/anaconda3/lib/python3.9/site-packages (from pyobjc->pyautogui) (8.4)\n",
      "Requirement already satisfied: pyobjc-framework-StoreKit==8.4 in /Users/paul/opt/anaconda3/lib/python3.9/site-packages (from pyobjc->pyautogui) (8.4)\n",
      "Requirement already satisfied: pyobjc-framework-Contacts==8.4 in /Users/paul/opt/anaconda3/lib/python3.9/site-packages (from pyobjc->pyautogui) (8.4)\n",
      "Requirement already satisfied: annoy in /Users/paul/opt/anaconda3/lib/python3.9/site-packages (1.17.0)\n",
      "Requirement already satisfied: tensorflow_hub in /Users/paul/opt/anaconda3/lib/python3.9/site-packages (0.12.0)\n",
      "Requirement already satisfied: protobuf>=3.8.0 in /Users/paul/opt/anaconda3/lib/python3.9/site-packages (from tensorflow_hub) (3.19.4)\n",
      "Requirement already satisfied: numpy>=1.12.0 in /Users/paul/opt/anaconda3/lib/python3.9/site-packages (from tensorflow_hub) (1.23.3)\n",
      "Requirement already satisfied: pyscreeze in /Users/paul/opt/anaconda3/lib/python3.9/site-packages (0.1.28)\n"
     ]
    }
   ],
   "source": [
    "!pip install pyautogui\n",
    "!pip install annoy\n",
    "!pip install tensorflow_hub"
   ]
  },
  {
   "cell_type": "code",
   "execution_count": 1,
   "id": "9d0c4fb3",
   "metadata": {},
   "outputs": [],
   "source": [
    "import annoy\n",
    "import cv2\n",
    "import matplotlib.pyplot as plt\n",
    "import numpy as np\n",
    "import os\n",
    "import pickle\n",
    "import pyautogui\n",
    "import pyperclip\n",
    "import pytesseract\n",
    "import string\n",
    "import random\n",
    "import tensorflow as tf\n",
    "import tensorflow_hub as hub\n",
    "import time\n",
    "os.environ['TFHUB_CACHE_DIR'] = os.getcwd()"
   ]
  },
  {
   "cell_type": "code",
   "execution_count": 2,
   "id": "60fb456e",
   "metadata": {},
   "outputs": [],
   "source": [
    "def screenshot(bbox=None): #bbox format : left - top - width - height\n",
    "    return pyautogui.screenshot(region=bbox)\n",
    "\n",
    "FIGSIZE = (6,6)\n",
    "def plot_img(image, figsize=FIGSIZE,cmap=None):\n",
    "    plt.figure(figsize=figsize)\n",
    "    plt.imshow(image,cmap=cmap)"
   ]
  },
  {
   "cell_type": "code",
   "execution_count": 3,
   "id": "61316609",
   "metadata": {},
   "outputs": [],
   "source": [
    "def start_game():\n",
    "    pyautogui.click(242, 585)\n",
    "    pyautogui.click(242, 585)"
   ]
  },
  {
   "cell_type": "code",
   "execution_count": 4,
   "id": "856afe9f",
   "metadata": {},
   "outputs": [
    {
     "data": {
      "image/png": "[encoded data removed]",
      "text/plain": [
       "<Figure size 432x432 with 1 Axes>"
      ]
     },
     "metadata": {
      "needs_background": "light"
     },
     "output_type": "display_data"
    }
   ],
   "source": [
    "triangle_area = (218,130,11,390) #218\n",
    "threshold = 120\n",
    "fn = lambda x : 255 if x> threshold else 0\n",
    "resize = 1\n",
    "screen = screenshot(triangle_area).convert(\"L\")\n",
    "plot_img(screen,cmap = 'gray')\n",
    "array_screen = np.array(screen)"
   ]
  },
  {
   "cell_type": "code",
   "execution_count": 5,
   "id": "0afaca76",
   "metadata": {},
   "outputs": [
    {
     "data": {
      "image/png": "[encoded data removed]",
      "text/plain": [
       "<Figure size 432x288 with 2 Axes>"
      ]
     },
     "metadata": {},
     "output_type": "display_data"
    }
   ],
   "source": [
    "template = cv2.imread(os.path.join('images','arrow.png'), cv2.IMREAD_GRAYSCALE)\n",
    "\n",
    "w, h = template.shape\n",
    "\n",
    "method = cv2.TM_CCORR\n",
    "img = array_screen.copy()\n",
    "res = cv2.matchTemplate(img,template,method)\n",
    "min_val, max_val, min_loc, max_loc = cv2.minMaxLoc(res)\n",
    "\n",
    "top_left = max_loc\n",
    "bottom_right = (top_left[0] + w, top_left[1] + h)\n",
    "cv2.rectangle(img,top_left, bottom_right, 255, 2)\n",
    "plt.subplot(121),plt.imshow(res,cmap = 'gray')\n",
    "plt.title('Matching Result'), plt.xticks([]), plt.yticks([])\n",
    "plt.subplot(122),plt.imshow(img,cmap = 'gray')\n",
    "plt.title('Detected Point'), plt.xticks([]), plt.yticks([])\n",
    "plt.suptitle(method)\n",
    "plt.show()"
   ]
  },
  {
   "cell_type": "code",
   "execution_count": 6,
   "id": "6530c738",
   "metadata": {},
   "outputs": [],
   "source": [
    "threshold = 120\n",
    "fn = lambda x : 255 if x> threshold else 0\n",
    "resize = 1\n",
    "triangle_area = (220,130,11,390)\n",
    "\n",
    "def take_screenshot():\n",
    "    return np.array(screenshot(triangle_area).convert(\"L\"))\n",
    "\n",
    "def screenshot_text(line_index):\n",
    "    text_area = (239,130 + line_index - 6, 240,21)\n",
    "    text_screen = screenshot(text_area).convert(\"L\")\n",
    "    return np.array(text_screen)"
   ]
  },
  {
   "cell_type": "code",
   "execution_count": 7,
   "id": "0dceb637",
   "metadata": {},
   "outputs": [
    {
     "data": {
      "image/png": "[encoded data removed]",
      "text/plain": [
       "<Figure size 432x432 with 1 Axes>"
      ]
     },
     "metadata": {
      "needs_background": "light"
     },
     "output_type": "display_data"
    }
   ],
   "source": [
    "tim = time.time()\n",
    "method = cv2.TM_CCORR\n",
    "\n",
    "def find_arrow_index() : \n",
    "    screen = take_screenshot()\n",
    "    res = cv2.matchTemplate(screen,template,method)\n",
    "    _, _, _, max_loc = cv2.minMaxLoc(res)\n",
    "    return max_loc[1]\n",
    "\n",
    "arrow_index = find_arrow_index()\n",
    "text_screen = screenshot_text(arrow_index) #line_index\n",
    "plot_img(text_screen,cmap='gray')"
   ]
  },
  {
   "cell_type": "code",
   "execution_count": 8,
   "id": "b506219b",
   "metadata": {},
   "outputs": [
    {
     "name": "stdout",
     "output_type": "stream",
     "text": [
      "Annoy index is loaded.\n",
      "Mapping file is loaded.\n"
     ]
    }
   ],
   "source": [
    "embedding_dimension = 64\n",
    "index_filename = 'indexes/index2'\n",
    "index = annoy.AnnoyIndex(embedding_dimension,metric = 'angular')\n",
    "index.load(index_filename)\n",
    "print('Annoy index is loaded.')\n",
    "with open(index_filename + '.mapping', 'rb') as handle:\n",
    "    mapping = pickle.load(handle)\n",
    "print('Mapping file is loaded.')"
   ]
  },
  {
   "cell_type": "code",
   "execution_count": 9,
   "id": "ac33d61b",
   "metadata": {},
   "outputs": [
    {
     "name": "stdout",
     "output_type": "stream",
     "text": [
      "Loading the TF-Hub model...\n"
     ]
    },
    {
     "name": "stderr",
     "output_type": "stream",
     "text": [
      "2022-10-09 16:47:06.222337: I tensorflow/core/platform/cpu_feature_guard.cc:151] This TensorFlow binary is optimized with oneAPI Deep Neural Network Library (oneDNN) to use the following CPU instructions in performance-critical operations:  AVX2 FMA\n",
      "To enable them in other operations, rebuild TensorFlow with the appropriate compiler flags.\n"
     ]
    },
    {
     "name": "stdout",
     "output_type": "stream",
     "text": [
      "CPU times: user 6.48 s, sys: 2.55 s, total: 9.03 s\n",
      "Wall time: 12.7 s\n",
      "TF-Hub model is loaded.\n"
     ]
    }
   ],
   "source": [
    "model_url = 'https://tfhub.dev/google/universal-sentence-encoder/4'\n",
    "print(\"Loading the TF-Hub model...\")\n",
    "try : \n",
    "    %time embed_fn = hub.load(model_url)\n",
    "except OSError as oserror : \n",
    "    print(\"Check the access rights of current folder\")\n",
    "print(\"TF-Hub model is loaded.\")"
   ]
  },
  {
   "cell_type": "code",
   "execution_count": 10,
   "id": "01ac659b",
   "metadata": {},
   "outputs": [],
   "source": [
    "def find_similar_items(embedding, num_matches=5):\n",
    "    '''Finds similar items to a given embedding in the ANN index'''\n",
    "    ids = index.get_nns_by_vector(embedding, num_matches, search_k=-1, include_distances=False)\n",
    "    items = [mapping[i] for i in ids]\n",
    "    return items"
   ]
  },
  {
   "cell_type": "code",
   "execution_count": 11,
   "id": "fcbd042a",
   "metadata": {},
   "outputs": [
    {
     "name": "stdout",
     "output_type": "stream",
     "text": [
      "Loading random projection matrix...\n",
      "random projection matrix is loaded.\n"
     ]
    },
    {
     "name": "stderr",
     "output_type": "stream",
     "text": [
      "/Users/paul/opt/anaconda3/lib/python3.9/site-packages/sklearn/base.py:329: UserWarning: Trying to unpickle estimator GaussianRandomProjection from version 1.0.2 when using version 1.1.2. This might lead to breaking code or invalid results. Use at your own risk. For more info please refer to:\n",
      "https://scikit-learn.org/stable/model_persistence.html#security-maintainability-limitations\n",
      "  warnings.warn(\n"
     ]
    }
   ],
   "source": [
    "random_projection_matrix = None\n",
    "random_projection_matrix_filename = os.path.join('random_projection_matrices','random_projection_matrix2')\n",
    "if os.path.exists(random_projection_matrix_filename):\n",
    "    print(\"Loading random projection matrix...\")\n",
    "    with open(random_projection_matrix_filename, 'rb') as handle:\n",
    "        random_projection_matrix = pickle.load(handle)\n",
    "    print('random projection matrix is loaded.')\n",
    "\n",
    "def extract_embeddings(query):\n",
    "    '''Generates the embedding for the query'''\n",
    "    query_embedding =  embed_fn([query])[0].numpy()\n",
    "\n",
    "    if random_projection_matrix is not None:\n",
    "        query_embedding = random_projection_matrix.transform(query_embedding.reshape(1,-1)).reshape(-1,)\n",
    "    return query_embedding"
   ]
  },
  {
   "cell_type": "code",
   "execution_count": 12,
   "id": "96a06611",
   "metadata": {},
   "outputs": [
    {
     "name": "stdout",
     "output_type": "stream",
     "text": [
      "Generating embedding for the query...\n",
      "CPU times: user 667 ms, sys: 95.2 ms, total: 763 ms\n",
      "Wall time: 1.39 s\n",
      "\n",
      "Finding relevant items in the index...\n",
      "CPU times: user 28 ms, sys: 53.8 ms, total: 81.8 ms\n",
      "Wall time: 201 ms\n",
      "\n",
      "treadmill\n",
      "jogging\n",
      "feline\n",
      "resize\n",
      "clubbing\n",
      "gym\n",
      "divorce\n",
      "gymnasium\n",
      "concourse\n",
      "gecko\n"
     ]
    }
   ],
   "source": [
    "query = 'treadmill'\n",
    "\n",
    "print(\"Generating embedding for the query...\")\n",
    "%time query_embedding = extract_embeddings(query)\n",
    "\n",
    "print(\"\")\n",
    "print(\"Finding relevant items in the index...\")\n",
    "%time items = find_similar_items(query_embedding, 10)\n",
    "\n",
    "print(\"\")\n",
    "for item in items:\n",
    "    print(item)\n",
    "    "
   ]
  },
  {
   "cell_type": "code",
   "execution_count": 13,
   "id": "81ba7882",
   "metadata": {},
   "outputs": [
    {
     "name": "stdout",
     "output_type": "stream",
     "text": [
      "——————\n",
      " 0.8806729316711426\n"
     ]
    }
   ],
   "source": [
    "import time\n",
    "tim = time.time()\n",
    "text = pytesseract.image_to_string(text_screen,config='--psm 10 --oem 3')\n",
    "print(text, time.time() - tim)"
   ]
  },
  {
   "cell_type": "code",
   "execution_count": 14,
   "id": "e7bcc1a6",
   "metadata": {},
   "outputs": [],
   "source": [
    "def begin_with(root,words) :\n",
    "    return not root.startswith(words[:3])\n",
    "\n",
    "def get_words(query,items): \n",
    "    return list(filter(lambda word : begin_with(query,word),items))\n",
    "\n",
    "punctuation = string.punctuation\n",
    "not_accepted_punctutation = punctuation[:6] + punctuation[7:]\n",
    "def is_possible_text(text):\n",
    "    if len(text) <= 2 : \n",
    "        return False\n",
    "    for character in not_accepted_punctutation : \n",
    "        if character in text : \n",
    "            return False\n",
    "    return True"
   ]
  },
  {
   "cell_type": "code",
   "execution_count": 17,
   "id": "5b0041e5",
   "metadata": {},
   "outputs": [],
   "source": [
    "def run(verbose = False):\n",
    "    line_index = -1\n",
    "    while True :   \n",
    "        line_index_temp = find_arrow_index()\n",
    "        \n",
    "        if line_index_temp < 20 : \n",
    "            continue\n",
    "        if abs(line_index - line_index_temp) < 5 : \n",
    "            break\n",
    "        line_index = line_index_temp\n",
    "    text_screen = screenshot_text(line_index)\n",
    "    if verbose : \n",
    "        plot_img(text_screen,cmap='gray')\n",
    "    try : \n",
    "        text = pytesseract.image_to_string(text_screen,config='--psm 10 --oem 3')\n",
    "        text = text.strip().lower()\n",
    "    except IndexError : \n",
    "        return\n",
    "    if not is_possible_text(text) : \n",
    "        return\n",
    "    print(text)\n",
    "    query_embedding = extract_embeddings(text)\n",
    "    items = find_similar_items(query_embedding, 10)\n",
    "    words = get_words(text,items)\n",
    "    print(words)\n",
    "    selected_word = words[random.randint(0,(len(words)-1))//2]\n",
    "    pyperclip.copy(selected_word)\n",
    "    pyautogui.click(x=100, y=200)\n",
    "    pyautogui.hotkey('command', 'v')\n",
    "    pyautogui.press('enter')"
   ]
  },
  {
   "cell_type": "code",
   "execution_count": 18,
   "id": "7d64ded9",
   "metadata": {},
   "outputs": [
    {
     "name": "stdout",
     "output_type": "stream",
     "text": [
      "cake\n",
      "['gateau', 'gateaux', 'trifle', 'fruitcake', 'baking', 'frosting', 'pie', 'steely', 'meteors']\n"
     ]
    },
    {
     "data": {
      "image/png": "[encoded data removed]",
      "text/plain": [
       "<Figure size 432x432 with 1 Axes>"
      ]
     },
     "metadata": {
      "needs_background": "light"
     },
     "output_type": "display_data"
    }
   ],
   "source": [
    "run(verbose=True)"
   ]
  },
  {
   "cell_type": "code",
   "execution_count": 16,
   "id": "4cc2b3b7",
   "metadata": {},
   "outputs": [
    {
     "name": "stdout",
     "output_type": "stream",
     "text": [
      "teacher\n",
      "sss sss\n",
      "scissors\n",
      "sports\n",
      "sleep\n",
      "cat\n",
      "telephone\n",
      "eye\n",
      "dog\n",
      "kitten\n",
      "furniture\n",
      "song\n",
      "splsse\n",
      "star\n",
      "sword\n",
      "hear\n",
      "tea\n",
      "candy\n",
      "candy\n",
      "mango\n",
      "worm\n",
      "onion\n",
      "internet\n",
      "ocean\n",
      "marriage\n",
      "ocean\n",
      "water\n",
      "microwave\n",
      "muscle\n",
      "tomato\n",
      "peace\n",
      "table\n",
      "protein\n",
      "ice cream\n",
      "nurse\n",
      "software\n",
      "broadcasting\n",
      "ice cream\n",
      "broadcasting\n",
      "pharmacy\n",
      "twitter\n",
      "srandfather clock\n"
     ]
    },
    {
     "ename": "KeyboardInterrupt",
     "evalue": "",
     "output_type": "error",
     "traceback": [
      "\u001b[0;31m---------------------------------------------------------------------------\u001b[0m",
      "\u001b[0;31mKeyboardInterrupt\u001b[0m                         Traceback (most recent call last)",
      "\u001b[0;32m/var/folders/nm/lm6vpz5s5v7_bt4xx0jq3fq00000gn/T/ipykernel_48860/443590853.py\u001b[0m in \u001b[0;36m<module>\u001b[0;34m\u001b[0m\n\u001b[1;32m      1\u001b[0m \u001b[0;32mwhile\u001b[0m \u001b[0;32mTrue\u001b[0m\u001b[0;34m:\u001b[0m\u001b[0;34m\u001b[0m\u001b[0;34m\u001b[0m\u001b[0m\n\u001b[0;32m----> 2\u001b[0;31m     \u001b[0mrun\u001b[0m\u001b[0;34m(\u001b[0m\u001b[0;34m)\u001b[0m\u001b[0;34m\u001b[0m\u001b[0;34m\u001b[0m\u001b[0m\n\u001b[0m",
      "\u001b[0;32m/var/folders/nm/lm6vpz5s5v7_bt4xx0jq3fq00000gn/T/ipykernel_48860/3699369037.py\u001b[0m in \u001b[0;36mrun\u001b[0;34m(verbose)\u001b[0m\n\u001b[1;32m      2\u001b[0m     \u001b[0mline_index\u001b[0m \u001b[0;34m=\u001b[0m \u001b[0;34m-\u001b[0m\u001b[0;36m1\u001b[0m\u001b[0;34m\u001b[0m\u001b[0;34m\u001b[0m\u001b[0m\n\u001b[1;32m      3\u001b[0m     \u001b[0;32mwhile\u001b[0m \u001b[0;32mTrue\u001b[0m \u001b[0;34m:\u001b[0m\u001b[0;34m\u001b[0m\u001b[0;34m\u001b[0m\u001b[0m\n\u001b[0;32m----> 4\u001b[0;31m         \u001b[0mline_index_temp\u001b[0m \u001b[0;34m=\u001b[0m \u001b[0mfind_arrow_index\u001b[0m\u001b[0;34m(\u001b[0m\u001b[0;34m)\u001b[0m\u001b[0;34m\u001b[0m\u001b[0;34m\u001b[0m\u001b[0m\n\u001b[0m\u001b[1;32m      5\u001b[0m \u001b[0;34m\u001b[0m\u001b[0m\n\u001b[1;32m      6\u001b[0m         \u001b[0;32mif\u001b[0m \u001b[0mline_index_temp\u001b[0m \u001b[0;34m<\u001b[0m \u001b[0;36m20\u001b[0m \u001b[0;34m:\u001b[0m\u001b[0;34m\u001b[0m\u001b[0;34m\u001b[0m\u001b[0m\n",
      "\u001b[0;32m/var/folders/nm/lm6vpz5s5v7_bt4xx0jq3fq00000gn/T/ipykernel_48860/715169839.py\u001b[0m in \u001b[0;36mfind_arrow_index\u001b[0;34m()\u001b[0m\n\u001b[1;32m      3\u001b[0m \u001b[0;34m\u001b[0m\u001b[0m\n\u001b[1;32m      4\u001b[0m \u001b[0;32mdef\u001b[0m \u001b[0mfind_arrow_index\u001b[0m\u001b[0;34m(\u001b[0m\u001b[0;34m)\u001b[0m \u001b[0;34m:\u001b[0m\u001b[0;34m\u001b[0m\u001b[0;34m\u001b[0m\u001b[0m\n\u001b[0;32m----> 5\u001b[0;31m     \u001b[0mscreen\u001b[0m \u001b[0;34m=\u001b[0m \u001b[0mtake_screenshot\u001b[0m\u001b[0;34m(\u001b[0m\u001b[0;34m)\u001b[0m\u001b[0;34m\u001b[0m\u001b[0;34m\u001b[0m\u001b[0m\n\u001b[0m\u001b[1;32m      6\u001b[0m     \u001b[0mres\u001b[0m \u001b[0;34m=\u001b[0m \u001b[0mcv2\u001b[0m\u001b[0;34m.\u001b[0m\u001b[0mmatchTemplate\u001b[0m\u001b[0;34m(\u001b[0m\u001b[0mscreen\u001b[0m\u001b[0;34m,\u001b[0m\u001b[0mtemplate\u001b[0m\u001b[0;34m,\u001b[0m\u001b[0mmethod\u001b[0m\u001b[0;34m)\u001b[0m\u001b[0;34m\u001b[0m\u001b[0;34m\u001b[0m\u001b[0m\n\u001b[1;32m      7\u001b[0m     \u001b[0m_\u001b[0m\u001b[0;34m,\u001b[0m \u001b[0m_\u001b[0m\u001b[0;34m,\u001b[0m \u001b[0m_\u001b[0m\u001b[0;34m,\u001b[0m \u001b[0mmax_loc\u001b[0m \u001b[0;34m=\u001b[0m \u001b[0mcv2\u001b[0m\u001b[0;34m.\u001b[0m\u001b[0mminMaxLoc\u001b[0m\u001b[0;34m(\u001b[0m\u001b[0mres\u001b[0m\u001b[0;34m)\u001b[0m\u001b[0;34m\u001b[0m\u001b[0;34m\u001b[0m\u001b[0m\n",
      "\u001b[0;32m/var/folders/nm/lm6vpz5s5v7_bt4xx0jq3fq00000gn/T/ipykernel_48860/537325856.py\u001b[0m in \u001b[0;36mtake_screenshot\u001b[0;34m()\u001b[0m\n\u001b[1;32m      5\u001b[0m \u001b[0;34m\u001b[0m\u001b[0m\n\u001b[1;32m      6\u001b[0m \u001b[0;32mdef\u001b[0m \u001b[0mtake_screenshot\u001b[0m\u001b[0;34m(\u001b[0m\u001b[0;34m)\u001b[0m\u001b[0;34m:\u001b[0m\u001b[0;34m\u001b[0m\u001b[0;34m\u001b[0m\u001b[0m\n\u001b[0;32m----> 7\u001b[0;31m     \u001b[0;32mreturn\u001b[0m \u001b[0mnp\u001b[0m\u001b[0;34m.\u001b[0m\u001b[0marray\u001b[0m\u001b[0;34m(\u001b[0m\u001b[0mscreenshot\u001b[0m\u001b[0;34m(\u001b[0m\u001b[0mtriangle_area\u001b[0m\u001b[0;34m)\u001b[0m\u001b[0;34m.\u001b[0m\u001b[0mconvert\u001b[0m\u001b[0;34m(\u001b[0m\u001b[0;34m\"L\"\u001b[0m\u001b[0;34m)\u001b[0m\u001b[0;34m)\u001b[0m\u001b[0;34m\u001b[0m\u001b[0;34m\u001b[0m\u001b[0m\n\u001b[0m\u001b[1;32m      8\u001b[0m \u001b[0;34m\u001b[0m\u001b[0m\n\u001b[1;32m      9\u001b[0m \u001b[0;32mdef\u001b[0m \u001b[0mscreenshot_text\u001b[0m\u001b[0;34m(\u001b[0m\u001b[0mline_index\u001b[0m\u001b[0;34m)\u001b[0m\u001b[0;34m:\u001b[0m\u001b[0;34m\u001b[0m\u001b[0;34m\u001b[0m\u001b[0m\n",
      "\u001b[0;32m/var/folders/nm/lm6vpz5s5v7_bt4xx0jq3fq00000gn/T/ipykernel_48860/3152764877.py\u001b[0m in \u001b[0;36mscreenshot\u001b[0;34m(bbox)\u001b[0m\n\u001b[1;32m      1\u001b[0m \u001b[0;32mdef\u001b[0m \u001b[0mscreenshot\u001b[0m\u001b[0;34m(\u001b[0m\u001b[0mbbox\u001b[0m\u001b[0;34m=\u001b[0m\u001b[0;32mNone\u001b[0m\u001b[0;34m)\u001b[0m\u001b[0;34m:\u001b[0m \u001b[0;31m#bbox format : left - top - width - height\u001b[0m\u001b[0;34m\u001b[0m\u001b[0;34m\u001b[0m\u001b[0m\n\u001b[0;32m----> 2\u001b[0;31m     \u001b[0;32mreturn\u001b[0m \u001b[0mpyautogui\u001b[0m\u001b[0;34m.\u001b[0m\u001b[0mscreenshot\u001b[0m\u001b[0;34m(\u001b[0m\u001b[0mregion\u001b[0m\u001b[0;34m=\u001b[0m\u001b[0mbbox\u001b[0m\u001b[0;34m)\u001b[0m\u001b[0;34m\u001b[0m\u001b[0;34m\u001b[0m\u001b[0m\n\u001b[0m\u001b[1;32m      3\u001b[0m \u001b[0;34m\u001b[0m\u001b[0m\n\u001b[1;32m      4\u001b[0m \u001b[0mFIGSIZE\u001b[0m \u001b[0;34m=\u001b[0m \u001b[0;34m(\u001b[0m\u001b[0;36m6\u001b[0m\u001b[0;34m,\u001b[0m\u001b[0;36m6\u001b[0m\u001b[0;34m)\u001b[0m\u001b[0;34m\u001b[0m\u001b[0;34m\u001b[0m\u001b[0m\n\u001b[1;32m      5\u001b[0m \u001b[0;32mdef\u001b[0m \u001b[0mplot_img\u001b[0m\u001b[0;34m(\u001b[0m\u001b[0mimage\u001b[0m\u001b[0;34m,\u001b[0m \u001b[0mfigsize\u001b[0m\u001b[0;34m=\u001b[0m\u001b[0mFIGSIZE\u001b[0m\u001b[0;34m,\u001b[0m\u001b[0mcmap\u001b[0m\u001b[0;34m=\u001b[0m\u001b[0;32mNone\u001b[0m\u001b[0;34m)\u001b[0m\u001b[0;34m:\u001b[0m\u001b[0;34m\u001b[0m\u001b[0;34m\u001b[0m\u001b[0m\n",
      "\u001b[0;32m~/opt/anaconda3/lib/python3.9/site-packages/pyscreeze/__init__.py\u001b[0m in \u001b[0;36m_screenshot_osx\u001b[0;34m(imageFilename, region)\u001b[0m\n\u001b[1;32m    474\u001b[0m     \u001b[0;32melse\u001b[0m\u001b[0;34m:\u001b[0m\u001b[0;34m\u001b[0m\u001b[0;34m\u001b[0m\u001b[0m\n\u001b[1;32m    475\u001b[0m         \u001b[0mtmpFilename\u001b[0m \u001b[0;34m=\u001b[0m \u001b[0mimageFilename\u001b[0m\u001b[0;34m\u001b[0m\u001b[0;34m\u001b[0m\u001b[0m\n\u001b[0;32m--> 476\u001b[0;31m     \u001b[0msubprocess\u001b[0m\u001b[0;34m.\u001b[0m\u001b[0mcall\u001b[0m\u001b[0;34m(\u001b[0m\u001b[0;34m[\u001b[0m\u001b[0;34m'screencapture'\u001b[0m\u001b[0;34m,\u001b[0m \u001b[0;34m'-x'\u001b[0m\u001b[0;34m,\u001b[0m \u001b[0mtmpFilename\u001b[0m\u001b[0;34m]\u001b[0m\u001b[0;34m)\u001b[0m\u001b[0;34m\u001b[0m\u001b[0;34m\u001b[0m\u001b[0m\n\u001b[0m\u001b[1;32m    477\u001b[0m     \u001b[0mim\u001b[0m \u001b[0;34m=\u001b[0m \u001b[0mImage\u001b[0m\u001b[0;34m.\u001b[0m\u001b[0mopen\u001b[0m\u001b[0;34m(\u001b[0m\u001b[0mtmpFilename\u001b[0m\u001b[0;34m)\u001b[0m\u001b[0;34m\u001b[0m\u001b[0;34m\u001b[0m\u001b[0m\n\u001b[1;32m    478\u001b[0m \u001b[0;34m\u001b[0m\u001b[0m\n",
      "\u001b[0;32m~/opt/anaconda3/lib/python3.9/subprocess.py\u001b[0m in \u001b[0;36mcall\u001b[0;34m(timeout, *popenargs, **kwargs)\u001b[0m\n\u001b[1;32m    349\u001b[0m     \u001b[0;32mwith\u001b[0m \u001b[0mPopen\u001b[0m\u001b[0;34m(\u001b[0m\u001b[0;34m*\u001b[0m\u001b[0mpopenargs\u001b[0m\u001b[0;34m,\u001b[0m \u001b[0;34m**\u001b[0m\u001b[0mkwargs\u001b[0m\u001b[0;34m)\u001b[0m \u001b[0;32mas\u001b[0m \u001b[0mp\u001b[0m\u001b[0;34m:\u001b[0m\u001b[0;34m\u001b[0m\u001b[0;34m\u001b[0m\u001b[0m\n\u001b[1;32m    350\u001b[0m         \u001b[0;32mtry\u001b[0m\u001b[0;34m:\u001b[0m\u001b[0;34m\u001b[0m\u001b[0;34m\u001b[0m\u001b[0m\n\u001b[0;32m--> 351\u001b[0;31m             \u001b[0;32mreturn\u001b[0m \u001b[0mp\u001b[0m\u001b[0;34m.\u001b[0m\u001b[0mwait\u001b[0m\u001b[0;34m(\u001b[0m\u001b[0mtimeout\u001b[0m\u001b[0;34m=\u001b[0m\u001b[0mtimeout\u001b[0m\u001b[0;34m)\u001b[0m\u001b[0;34m\u001b[0m\u001b[0;34m\u001b[0m\u001b[0m\n\u001b[0m\u001b[1;32m    352\u001b[0m         \u001b[0;32mexcept\u001b[0m\u001b[0;34m:\u001b[0m  \u001b[0;31m# Including KeyboardInterrupt, wait handled that.\u001b[0m\u001b[0;34m\u001b[0m\u001b[0;34m\u001b[0m\u001b[0m\n\u001b[1;32m    353\u001b[0m             \u001b[0mp\u001b[0m\u001b[0;34m.\u001b[0m\u001b[0mkill\u001b[0m\u001b[0;34m(\u001b[0m\u001b[0;34m)\u001b[0m\u001b[0;34m\u001b[0m\u001b[0;34m\u001b[0m\u001b[0m\n",
      "\u001b[0;32m~/opt/anaconda3/lib/python3.9/subprocess.py\u001b[0m in \u001b[0;36mwait\u001b[0;34m(self, timeout)\u001b[0m\n\u001b[1;32m   1187\u001b[0m             \u001b[0mendtime\u001b[0m \u001b[0;34m=\u001b[0m \u001b[0m_time\u001b[0m\u001b[0;34m(\u001b[0m\u001b[0;34m)\u001b[0m \u001b[0;34m+\u001b[0m \u001b[0mtimeout\u001b[0m\u001b[0;34m\u001b[0m\u001b[0;34m\u001b[0m\u001b[0m\n\u001b[1;32m   1188\u001b[0m         \u001b[0;32mtry\u001b[0m\u001b[0;34m:\u001b[0m\u001b[0;34m\u001b[0m\u001b[0;34m\u001b[0m\u001b[0m\n\u001b[0;32m-> 1189\u001b[0;31m             \u001b[0;32mreturn\u001b[0m \u001b[0mself\u001b[0m\u001b[0;34m.\u001b[0m\u001b[0m_wait\u001b[0m\u001b[0;34m(\u001b[0m\u001b[0mtimeout\u001b[0m\u001b[0;34m=\u001b[0m\u001b[0mtimeout\u001b[0m\u001b[0;34m)\u001b[0m\u001b[0;34m\u001b[0m\u001b[0;34m\u001b[0m\u001b[0m\n\u001b[0m\u001b[1;32m   1190\u001b[0m         \u001b[0;32mexcept\u001b[0m \u001b[0mKeyboardInterrupt\u001b[0m\u001b[0;34m:\u001b[0m\u001b[0;34m\u001b[0m\u001b[0;34m\u001b[0m\u001b[0m\n\u001b[1;32m   1191\u001b[0m             \u001b[0;31m# https://bugs.python.org/issue25942\u001b[0m\u001b[0;34m\u001b[0m\u001b[0;34m\u001b[0m\u001b[0m\n",
      "\u001b[0;32m~/opt/anaconda3/lib/python3.9/subprocess.py\u001b[0m in \u001b[0;36m_wait\u001b[0;34m(self, timeout)\u001b[0m\n\u001b[1;32m   1915\u001b[0m                         \u001b[0;32mif\u001b[0m \u001b[0mself\u001b[0m\u001b[0;34m.\u001b[0m\u001b[0mreturncode\u001b[0m \u001b[0;32mis\u001b[0m \u001b[0;32mnot\u001b[0m \u001b[0;32mNone\u001b[0m\u001b[0;34m:\u001b[0m\u001b[0;34m\u001b[0m\u001b[0;34m\u001b[0m\u001b[0m\n\u001b[1;32m   1916\u001b[0m                             \u001b[0;32mbreak\u001b[0m  \u001b[0;31m# Another thread waited.\u001b[0m\u001b[0;34m\u001b[0m\u001b[0;34m\u001b[0m\u001b[0m\n\u001b[0;32m-> 1917\u001b[0;31m                         \u001b[0;34m(\u001b[0m\u001b[0mpid\u001b[0m\u001b[0;34m,\u001b[0m \u001b[0msts\u001b[0m\u001b[0;34m)\u001b[0m \u001b[0;34m=\u001b[0m \u001b[0mself\u001b[0m\u001b[0;34m.\u001b[0m\u001b[0m_try_wait\u001b[0m\u001b[0;34m(\u001b[0m\u001b[0;36m0\u001b[0m\u001b[0;34m)\u001b[0m\u001b[0;34m\u001b[0m\u001b[0;34m\u001b[0m\u001b[0m\n\u001b[0m\u001b[1;32m   1918\u001b[0m                         \u001b[0;31m# Check the pid and loop as waitpid has been known to\u001b[0m\u001b[0;34m\u001b[0m\u001b[0;34m\u001b[0m\u001b[0m\n\u001b[1;32m   1919\u001b[0m                         \u001b[0;31m# return 0 even without WNOHANG in odd situations.\u001b[0m\u001b[0;34m\u001b[0m\u001b[0;34m\u001b[0m\u001b[0m\n",
      "\u001b[0;32m~/opt/anaconda3/lib/python3.9/subprocess.py\u001b[0m in \u001b[0;36m_try_wait\u001b[0;34m(self, wait_flags)\u001b[0m\n\u001b[1;32m   1873\u001b[0m             \u001b[0;34m\"\"\"All callers to this function MUST hold self._waitpid_lock.\"\"\"\u001b[0m\u001b[0;34m\u001b[0m\u001b[0;34m\u001b[0m\u001b[0m\n\u001b[1;32m   1874\u001b[0m             \u001b[0;32mtry\u001b[0m\u001b[0;34m:\u001b[0m\u001b[0;34m\u001b[0m\u001b[0;34m\u001b[0m\u001b[0m\n\u001b[0;32m-> 1875\u001b[0;31m                 \u001b[0;34m(\u001b[0m\u001b[0mpid\u001b[0m\u001b[0;34m,\u001b[0m \u001b[0msts\u001b[0m\u001b[0;34m)\u001b[0m \u001b[0;34m=\u001b[0m \u001b[0mos\u001b[0m\u001b[0;34m.\u001b[0m\u001b[0mwaitpid\u001b[0m\u001b[0;34m(\u001b[0m\u001b[0mself\u001b[0m\u001b[0;34m.\u001b[0m\u001b[0mpid\u001b[0m\u001b[0;34m,\u001b[0m \u001b[0mwait_flags\u001b[0m\u001b[0;34m)\u001b[0m\u001b[0;34m\u001b[0m\u001b[0;34m\u001b[0m\u001b[0m\n\u001b[0m\u001b[1;32m   1876\u001b[0m             \u001b[0;32mexcept\u001b[0m \u001b[0mChildProcessError\u001b[0m\u001b[0;34m:\u001b[0m\u001b[0;34m\u001b[0m\u001b[0;34m\u001b[0m\u001b[0m\n\u001b[1;32m   1877\u001b[0m                 \u001b[0;31m# This happens if SIGCLD is set to be ignored or waiting\u001b[0m\u001b[0;34m\u001b[0m\u001b[0;34m\u001b[0m\u001b[0m\n",
      "\u001b[0;31mKeyboardInterrupt\u001b[0m: "
     ]
    }
   ],
   "source": [
    "while True:\n",
    "    run()"
   ]
  },
  {
   "cell_type": "markdown",
   "id": "562714b1",
   "metadata": {},
   "source": [
    "\n",
    "Best score so far : \n",
    "- 3065\n",
    "- 2870\n",
    "- 2615\n",
    "- 2610\n",
    "- 2540\n",
    "- 2405\n",
    "- 2325"
   ]
  },
  {
   "cell_type": "markdown",
   "id": "2cbc9ba2",
   "metadata": {},
   "source": [
    "Complicated Words : \n",
    "- School\n",
    "- Technology\n",
    "- Camera\n",
    "- Electricity\n",
    "- Map\n",
    "- Avocado\n",
    "- Printing\n",
    "- Rock climbing"
   ]
  },
  {
   "cell_type": "code",
   "execution_count": null,
   "id": "e19947de",
   "metadata": {},
   "outputs": [],
   "source": [
    "def remove_temporary_screenshots():\n",
    "    !rm -fv screenshot*\n",
    "    !rm -fv ..screenshot*"
   ]
  },
  {
   "cell_type": "code",
   "execution_count": null,
   "id": "b39203ad",
   "metadata": {},
   "outputs": [],
   "source": [
    "remove_temporary_screenshots()\n",
    "os.listdir()"
   ]
  },
  {
   "cell_type": "code",
   "execution_count": null,
   "id": "87be6ee8",
   "metadata": {},
   "outputs": [],
   "source": []
  },
  {
   "cell_type": "code",
   "execution_count": null,
   "id": "d62896ee",
   "metadata": {},
   "outputs": [],
   "source": []
  }
 ],
 "metadata": {
  "kernelspec": {
   "display_name": "Python 3 (ipykernel)",
   "language": "python",
   "name": "python3"
  },
  "language_info": {
   "codemirror_mode": {
    "name": "ipython",
    "version": 3
   },
   "file_extension": ".py",
   "mimetype": "text/x-python",
   "name": "python",
   "nbconvert_exporter": "python",
   "pygments_lexer": "ipython3",
   "version": "3.9.7"
  }
 },
 "nbformat": 4,
 "nbformat_minor": 5
}
