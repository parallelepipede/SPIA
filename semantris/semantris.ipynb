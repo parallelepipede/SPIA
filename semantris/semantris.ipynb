{
 "cells": [
  {
   "cell_type": "code",
   "execution_count": null,
   "id": "c1fdfa5a",
   "metadata": {},
   "outputs": [],
   "source": [
    "!pip install pyautogui\n",
    "!pip install annoy\n",
    "!pip install tensorflow_hub"
   ]
  },
  {
   "cell_type": "code",
   "execution_count": null,
   "id": "9d0c4fb3",
   "metadata": {},
   "outputs": [],
   "source": [
    "import annoy\n",
    "import cv2\n",
    "import matplotlib.pyplot as plt\n",
    "import numpy as np\n",
    "import os\n",
    "import pickle\n",
    "import pyautogui\n",
    "import pyperclip\n",
    "import pytesseract\n",
    "import string\n",
    "import random\n",
    "import tensorflow as tf\n",
    "import tensorflow_hub as hub\n",
    "import time\n",
    "os.environ['TFHUB_CACHE_DIR'] = os.getcwd()\n",
    "#print(os.getcwd())"
   ]
  },
  {
   "cell_type": "code",
   "execution_count": null,
   "id": "60fb456e",
   "metadata": {},
   "outputs": [],
   "source": [
    "def screenshot(bbox=None): #bbox format : left - top - width - height\n",
    "    return pyautogui.screenshot(region=bbox)\n",
    "\n",
    "FIGSIZE = (6,6)\n",
    "def plot_img(image, figsize=FIGSIZE,cmap=None):\n",
    "    plt.figure(figsize=figsize)\n",
    "    plt.imshow(image,cmap=cmap)"
   ]
  },
  {
   "cell_type": "code",
   "execution_count": null,
   "id": "61316609",
   "metadata": {},
   "outputs": [],
   "source": [
    "def start_game():\n",
    "    pyautogui.click(242, 585)\n",
    "    pyautogui.click(242, 585)"
   ]
  },
  {
   "cell_type": "code",
   "execution_count": null,
   "id": "856afe9f",
   "metadata": {},
   "outputs": [],
   "source": [
    "triangle_area = (218,130,11,390) #218\n",
    "threshold = 120\n",
    "fn = lambda x : 255 if x> threshold else 0\n",
    "resize = 1\n",
    "screen = screenshot(triangle_area).convert(\"L\")\n",
    "plot_img(screen,cmap = 'gray')\n",
    "array_screen = np.array(screen)"
   ]
  },
  {
   "cell_type": "code",
   "execution_count": null,
   "id": "0afaca76",
   "metadata": {},
   "outputs": [],
   "source": [
    "template = cv2.imread('arrow.png', cv2.IMREAD_GRAYSCALE) #\n",
    "\n",
    "#print(template.shape, array_screen.shape)\n",
    "w, h = template.shape\n",
    "\n",
    "method = cv2.TM_CCORR\n",
    "img = array_screen.copy()\n",
    "res = cv2.matchTemplate(img,template,method)\n",
    "min_val, max_val, min_loc, max_loc = cv2.minMaxLoc(res)\n",
    "\n",
    "top_left = max_loc\n",
    "bottom_right = (top_left[0] + w, top_left[1] + h)\n",
    "cv2.rectangle(img,top_left, bottom_right, 255, 2)\n",
    "plt.subplot(121),plt.imshow(res,cmap = 'gray')\n",
    "plt.title('Matching Result'), plt.xticks([]), plt.yticks([])\n",
    "plt.subplot(122),plt.imshow(img,cmap = 'gray')\n",
    "plt.title('Detected Point'), plt.xticks([]), plt.yticks([])\n",
    "plt.suptitle(method)\n",
    "plt.show()"
   ]
  },
  {
   "cell_type": "code",
   "execution_count": null,
   "id": "6530c738",
   "metadata": {},
   "outputs": [],
   "source": [
    "threshold = 120\n",
    "fn = lambda x : 255 if x> threshold else 0\n",
    "resize = 1\n",
    "triangle_area = (220,130,11,390)\n",
    "\n",
    "def take_screenshot():\n",
    "    return np.array(screenshot(triangle_area).convert(\"L\"))\n",
    "\n",
    "def screenshot_text(line_index):\n",
    "    text_area = (239,130 + line_index - 6, 240,21)\n",
    "    text_screen = screenshot(text_area).convert(\"L\")\n",
    "    return np.array(text_screen)"
   ]
  },
  {
   "cell_type": "code",
   "execution_count": null,
   "id": "0dceb637",
   "metadata": {},
   "outputs": [],
   "source": [
    "tim = time.time()\n",
    "method = cv2.TM_CCORR\n",
    "\n",
    "def find_arrow_index() : \n",
    "    screen = take_screenshot()\n",
    "    res = cv2.matchTemplate(screen,template,method)\n",
    "    _, _, _, max_loc = cv2.minMaxLoc(res)\n",
    "    return max_loc[1]\n",
    "\n",
    "arrow_index = find_arrow_index()\n",
    "text_screen = screenshot_text(arrow_index) #line_index\n",
    "plot_img(text_screen,cmap='gray')\n"
   ]
  },
  {
   "cell_type": "code",
   "execution_count": null,
   "id": "b506219b",
   "metadata": {},
   "outputs": [],
   "source": [
    "embedding_dimension = 64\n",
    "index_filename = 'index2'\n",
    "index = annoy.AnnoyIndex(embedding_dimension,metric = 'angular')\n",
    "index.load(index_filename)\n",
    "print('Annoy index is loaded.')\n",
    "with open(index_filename + '.mapping', 'rb') as handle:\n",
    "    mapping = pickle.load(handle)\n",
    "print('Mapping file is loaded.')"
   ]
  },
  {
   "cell_type": "code",
   "execution_count": null,
   "id": "ac33d61b",
   "metadata": {},
   "outputs": [],
   "source": [
    "model_url = 'https://tfhub.dev/google/universal-sentence-encoder/4'\n",
    "print(\"Loading the TF-Hub model...\")\n",
    "try : \n",
    "    %time embed_fn = hub.load(model_url)\n",
    "except OSError as oserror : \n",
    "    print(\"Check the access rights of current folder\")\n",
    "print(\"TF-Hub model is loaded.\")"
   ]
  },
  {
   "cell_type": "code",
   "execution_count": null,
   "id": "01ac659b",
   "metadata": {},
   "outputs": [],
   "source": [
    "def find_similar_items(embedding, num_matches=5):\n",
    "    '''Finds similar items to a given embedding in the ANN index'''\n",
    "    ids = index.get_nns_by_vector(embedding, num_matches, search_k=-1, include_distances=False)\n",
    "    items = [mapping[i] for i in ids]\n",
    "    return items"
   ]
  },
  {
   "cell_type": "code",
   "execution_count": null,
   "id": "fcbd042a",
   "metadata": {},
   "outputs": [],
   "source": [
    "random_projection_matrix = None\n",
    "random_projection_matrix_filename = 'random_projection_matrix2'\n",
    "if os.path.exists(random_projection_matrix_filename):\n",
    "    print(\"Loading random projection matrix...\")\n",
    "    with open(random_projection_matrix_filename, 'rb') as handle:\n",
    "        random_projection_matrix = pickle.load(handle)\n",
    "    print('random projection matrix is loaded.')\n",
    "\n",
    "def extract_embeddings(query):\n",
    "    '''Generates the embedding for the query'''\n",
    "    query_embedding =  embed_fn([query])[0].numpy()\n",
    "\n",
    "    if random_projection_matrix is not None:\n",
    "        query_embedding = random_projection_matrix.transform(query_embedding.reshape(1,-1)).reshape(-1,)\n",
    "    return query_embedding"
   ]
  },
  {
   "cell_type": "code",
   "execution_count": null,
   "id": "96a06611",
   "metadata": {},
   "outputs": [],
   "source": [
    "query = 'treadmill'\n",
    "\n",
    "print(\"Generating embedding for the query...\")\n",
    "%time query_embedding = extract_embeddings(query)\n",
    "\n",
    "print(\"\")\n",
    "print(\"Finding relevant items in the index...\")\n",
    "%time items = find_similar_items(query_embedding, 10)\n",
    "\n",
    "print(\"\")\n",
    "for item in items:\n",
    "    print(item)\n",
    "    "
   ]
  },
  {
   "cell_type": "code",
   "execution_count": null,
   "id": "81ba7882",
   "metadata": {},
   "outputs": [],
   "source": [
    "import time\n",
    "tim = time.time()\n",
    "text = pytesseract.image_to_string(text_screen,config='--psm 10 --oem 3')\n",
    "print(text, time.time() - tim)"
   ]
  },
  {
   "cell_type": "code",
   "execution_count": null,
   "id": "e7bcc1a6",
   "metadata": {},
   "outputs": [],
   "source": [
    "def begin_with(root,words) :\n",
    "    return not root.startswith(words[:3])\n",
    "\n",
    "def get_words(query,items): \n",
    "    return list(filter(lambda word : begin_with(query,word),items))\n",
    "\n",
    "punctuation = string.punctuation\n",
    "not_accepted_punctutation = punctuation[:6] + punctuation[7:]\n",
    "def is_possible_text(text):\n",
    "    if len(text) <= 2 : \n",
    "        return False\n",
    "    for character in not_accepted_punctutation : \n",
    "        if character in text : \n",
    "            return False\n",
    "    return True"
   ]
  },
  {
   "cell_type": "code",
   "execution_count": null,
   "id": "5b0041e5",
   "metadata": {},
   "outputs": [],
   "source": [
    "def run(verbose = False):\n",
    "    line_index = -1\n",
    "    while True :   \n",
    "        line_index_temp = find_arrow_index()\n",
    "        \n",
    "        if line_index_temp < 20 : \n",
    "            continue\n",
    "        if abs(line_index - line_index_temp) < 5 : \n",
    "            break\n",
    "        line_index = line_index_temp\n",
    "    text_screen = screenshot_text(line_index)\n",
    "    if verbose : \n",
    "        plot_img(text_screen,cmap='gray')\n",
    "    try : \n",
    "        text = pytesseract.image_to_string(text_screen,config='--psm 10 --oem 3')\n",
    "        text = text.strip().lower()\n",
    "    except IndexError : \n",
    "        return\n",
    "    if not is_possible_text(text) : \n",
    "        return\n",
    "    print(text)\n",
    "    query_embedding = extract_embeddings(text)\n",
    "    items = find_similar_items(query_embedding, 10)\n",
    "    words = get_words(text,items)\n",
    "    selected_word = words[random.randint(0,(len(words)-1))//2]\n",
    "    pyperclip.copy(selected_word)\n",
    "    pyautogui.click(x=100, y=200)\n",
    "    pyautogui.hotkey('command', 'v')\n",
    "    pyautogui.press('enter')"
   ]
  },
  {
   "cell_type": "code",
   "execution_count": null,
   "id": "7d64ded9",
   "metadata": {},
   "outputs": [],
   "source": [
    "run(verbose=True)"
   ]
  },
  {
   "cell_type": "code",
   "execution_count": null,
   "id": "4cc2b3b7",
   "metadata": {},
   "outputs": [],
   "source": [
    "while True:\n",
    "    run()"
   ]
  },
  {
   "cell_type": "markdown",
   "id": "562714b1",
   "metadata": {},
   "source": [
    "\n",
    "Best score so far : \n",
    "- 3065\n",
    "- 2870\n",
    "- 2615\n",
    "- 2610\n",
    "- 2540\n",
    "- 2405"
   ]
  },
  {
   "cell_type": "markdown",
   "id": "2cbc9ba2",
   "metadata": {},
   "source": [
    "Complicated Words : \n",
    "- School\n",
    "- Technology\n",
    "- Camera\n",
    "- Electricity\n",
    "- Map\n",
    "- Avocado\n",
    "- Printing\n",
    "- Rock climbing"
   ]
  },
  {
   "cell_type": "code",
   "execution_count": null,
   "id": "23c45d90",
   "metadata": {},
   "outputs": [],
   "source": [
    "def remove_temporary_screenshots():\n",
    "    !rm -fv screenshot*\n",
    "    !rm -fv ..screenshot*"
   ]
  },
  {
   "cell_type": "code",
   "execution_count": null,
   "id": "85d766cf",
   "metadata": {},
   "outputs": [],
   "source": [
    "remove_temporary_screenshots()\n",
    "os.listdir()"
   ]
  },
  {
   "cell_type": "code",
   "execution_count": null,
   "id": "6dd23235",
   "metadata": {},
   "outputs": [],
   "source": []
  },
  {
   "cell_type": "code",
   "execution_count": null,
   "id": "1a64621d",
   "metadata": {},
   "outputs": [],
   "source": []
  }
 ],
 "metadata": {
  "kernelspec": {
   "display_name": "Python 3 (ipykernel)",
   "language": "python",
   "name": "python3"
  },
  "language_info": {
   "codemirror_mode": {
    "name": "ipython",
    "version": 3
   },
   "file_extension": ".py",
   "mimetype": "text/x-python",
   "name": "python",
   "nbconvert_exporter": "python",
   "pygments_lexer": "ipython3",
   "version": "3.9.7"
  }
 },
 "nbformat": 4,
 "nbformat_minor": 5
}
