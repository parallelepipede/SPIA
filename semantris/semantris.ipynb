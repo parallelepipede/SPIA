{
 "cells": [
  {
   "cell_type": "code",
   "execution_count": null,
   "id": "c1fdfa5a",
   "metadata": {},
   "outputs": [],
   "source": [
    "!pip install pyautogui\n",
    "!pip install annoy\n",
    "!pip install tensorflow_hub"
   ]
  },
  {
   "cell_type": "code",
   "execution_count": null,
   "id": "9d0c4fb3",
   "metadata": {},
   "outputs": [],
   "source": [
    "import annoy\n",
    "import matplotlib.pyplot as plt\n",
    "import numpy as np\n",
    "import os\n",
    "import pickle\n",
    "import pyautogui\n",
    "import pyperclip\n",
    "import pytesseract\n",
    "import random\n",
    "import tensorflow as tf\n",
    "import tensorflow_hub as hub\n",
    "import time"
   ]
  },
  {
   "cell_type": "code",
   "execution_count": null,
   "id": "60fb456e",
   "metadata": {},
   "outputs": [],
   "source": [
    "def screenshot(bbox=None): #bbox format : left - top - width - height\n",
    "    return pyautogui.screenshot(region=bbox)\n",
    "\n",
    "FIGSIZE = (6,6)\n",
    "def plot_img(image, figsize=FIGSIZE,cmap=None):\n",
    "    plt.figure(figsize=figsize)\n",
    "    plt.imshow(image,cmap=cmap)"
   ]
  },
  {
   "cell_type": "code",
   "execution_count": null,
   "id": "61316609",
   "metadata": {},
   "outputs": [],
   "source": [
    "def start_game():\n",
    "    pyautogui.click(242, 585)\n",
    "    pyautogui.click(242, 585)"
   ]
  },
  {
   "cell_type": "code",
   "execution_count": null,
   "id": "856afe9f",
   "metadata": {},
   "outputs": [],
   "source": [
    "triangle_area = (220,130,1,390)\n",
    "threshold = 120\n",
    "fn = lambda x : 255 if x> threshold else 0\n",
    "resize = 1\n",
    "screen = screenshot(triangle_area).convert(\"L\")\n",
    "plot_img(screen,cmap = 'gray')\n",
    "array = np.array(screen)"
   ]
  },
  {
   "cell_type": "code",
   "execution_count": null,
   "id": "6530c738",
   "metadata": {},
   "outputs": [],
   "source": [
    "threshold = 120\n",
    "fn = lambda x : 255 if x> threshold else 0\n",
    "resize = 1\n",
    "triangle_area = (220,130,1,390)\n",
    "\n",
    "def take_screenshot():\n",
    "    return np.array(screenshot(triangle_area).convert(\"L\"))\n",
    "\n",
    "def screenshot_text(array,line_index):\n",
    "    \n",
    "    text_area = (239,130 + line_index - 6, 240,21)\n",
    "    screen = screenshot(triangle_area).convert(\"L\")\n",
    "    array = np.array(screen)\n",
    "    text_screen = screenshot(text_area).convert(\"L\")\n",
    "    return np.array(text_screen)"
   ]
  },
  {
   "cell_type": "code",
   "execution_count": null,
   "id": "0dceb637",
   "metadata": {},
   "outputs": [],
   "source": [
    "screen = take_screenshot()\n",
    "line_index = np.where(screen >= (max(screen) - 8))[0][0]\n",
    "text_screen = screenshot_text(screen,line_index)\n",
    "plot_img(text_screen,cmap='gray')"
   ]
  },
  {
   "cell_type": "code",
   "execution_count": null,
   "id": "b506219b",
   "metadata": {},
   "outputs": [],
   "source": [
    "embedding_dimension = 64\n",
    "index_filename = 'index2'\n",
    "index = annoy.AnnoyIndex(embedding_dimension,metric = 'angular')\n",
    "index.load(index_filename)\n",
    "print('Annoy index is loaded.')\n",
    "with open(index_filename + '.mapping', 'rb') as handle:\n",
    "    mapping = pickle.load(handle)\n",
    "print('Mapping file is loaded.')"
   ]
  },
  {
   "cell_type": "code",
   "execution_count": null,
   "id": "ac33d61b",
   "metadata": {},
   "outputs": [],
   "source": [
    "model_url = 'https://tfhub.dev/google/universal-sentence-encoder/4'\n",
    "print(\"Loading the TF-Hub model...\")\n",
    "%time embed_fn = hub.load(model_url)\n",
    "print(\"TF-Hub model is loaded.\")"
   ]
  },
  {
   "cell_type": "code",
   "execution_count": null,
   "id": "01ac659b",
   "metadata": {},
   "outputs": [],
   "source": [
    "def find_similar_items(embedding, num_matches=5):\n",
    "    '''Finds similar items to a given embedding in the ANN index'''\n",
    "    ids = index.get_nns_by_vector(embedding, num_matches, search_k=-1, include_distances=False)\n",
    "    items = [mapping[i] for i in ids]\n",
    "    return items"
   ]
  },
  {
   "cell_type": "code",
   "execution_count": null,
   "id": "fcbd042a",
   "metadata": {},
   "outputs": [],
   "source": [
    "random_projection_matrix = None\n",
    "random_projection_matrix_filename = 'random_projection_matrix2'\n",
    "if os.path.exists(random_projection_matrix_filename):\n",
    "    print(\"Loading random projection matrix...\")\n",
    "    with open(random_projection_matrix_filename, 'rb') as handle:\n",
    "        random_projection_matrix = pickle.load(handle)\n",
    "    print('random projection matrix is loaded.')\n",
    "\n",
    "def extract_embeddings(query):\n",
    "    '''Generates the embedding for the query'''\n",
    "    print(query, ' query')\n",
    "    query_embedding =  embed_fn([query])[0].numpy()\n",
    "\n",
    "    if random_projection_matrix is not None:\n",
    "        query_embedding = random_projection_matrix.transform(query_embedding.reshape(1,-1)).reshape(-1,)\n",
    "    return query_embedding"
   ]
  },
  {
   "cell_type": "code",
   "execution_count": null,
   "id": "96a06611",
   "metadata": {},
   "outputs": [],
   "source": [
    "query = 'cranberry'\n",
    "\n",
    "print(\"Generating embedding for the query...\")\n",
    "%time query_embedding = extract_embeddings(query)\n",
    "\n",
    "print(\"\")\n",
    "print(\"Finding relevant items in the index...\")\n",
    "%time items = find_similar_items(query_embedding, 10)\n",
    "\n",
    "print(\"\")\n",
    "for item in items:\n",
    "    print(item)\n",
    "    \n",
    "print(get_words(query,items))"
   ]
  },
  {
   "cell_type": "code",
   "execution_count": null,
   "id": "81ba7882",
   "metadata": {},
   "outputs": [],
   "source": [
    "text = pytesseract.image_to_string(text_screen,config='--psm 10 --oem 3')\n",
    "print(text)"
   ]
  },
  {
   "cell_type": "code",
   "execution_count": null,
   "id": "e7bcc1a6",
   "metadata": {},
   "outputs": [],
   "source": [
    "def begin_with(root,words) :\n",
    "    return not root.startswith(words[:3])\n",
    "\n",
    "def get_words(query,items): \n",
    "    return list(filter(lambda word : begin_with(query,word),items))\n"
   ]
  },
  {
   "cell_type": "code",
   "execution_count": null,
   "id": "5b0041e5",
   "metadata": {},
   "outputs": [],
   "source": [
    "screen = take_screenshot()\n",
    "line_index = np.where(screen >= (max(screen) - 8))[0][0]\n",
    "text_screen = screenshot_text(screen,line_index)\n",
    "plot_img(text_screen,cmap='gray')\n",
    "\n",
    "def run(verbose=True):\n",
    "    go = False\n",
    "    tim = time.time()\n",
    "    line_index = -1\n",
    "    while not go : \n",
    "        screen = take_screenshot()\n",
    "        line_index_temp = np.where(screen >= (max(screen) - 8))[0][0]\n",
    "        if line_index == line_index_temp : \n",
    "            break\n",
    "        line_index = line_index_temp\n",
    "        \n",
    "    text_screen = screenshot_text(screen,line_index)\n",
    "    if verbose : \n",
    "        plot_img(text_screen,cmap='gray')\n",
    "    try : \n",
    "        text = pytesseract.image_to_string(text_screen,config='--psm 10 --oem 3')\n",
    "        text = text.strip().lower()\n",
    "    except IndexError : \n",
    "        return run()\n",
    "    query_embedding = extract_embeddings(text)\n",
    "    items = find_similar_items(query_embedding, 10)\n",
    "    words = get_words(text,items)\n",
    "    selected_words = words[random.randint(0,(len(words)-1))//2]\n",
    "    print(items, words, selected_words)\n",
    "    pyperclip.copy(selected_words)\n",
    "    pyautogui.click(x=100, y=200)\n",
    "    pyautogui.hotkey('command', 'v')\n",
    "    pyautogui.press('enter')\n",
    "    print(time.time() - tim, ' temps global')"
   ]
  },
  {
   "cell_type": "code",
   "execution_count": null,
   "id": "7d64ded9",
   "metadata": {},
   "outputs": [],
   "source": [
    "run(verbose=True)"
   ]
  },
  {
   "cell_type": "code",
   "execution_count": null,
   "id": "4cc2b3b7",
   "metadata": {},
   "outputs": [],
   "source": [
    "#Best score so far : 2870\n",
    "\n",
    "while True: \n",
    "    run()"
   ]
  },
  {
   "cell_type": "code",
   "execution_count": null,
   "id": "fd6348f4",
   "metadata": {},
   "outputs": [],
   "source": []
  }
 ],
 "metadata": {
  "kernelspec": {
   "display_name": "Python 3 (ipykernel)",
   "language": "python",
   "name": "python3"
  },
  "language_info": {
   "codemirror_mode": {
    "name": "ipython",
    "version": 3
   },
   "file_extension": ".py",
   "mimetype": "text/x-python",
   "name": "python",
   "nbconvert_exporter": "python",
   "pygments_lexer": "ipython3",
   "version": "3.9.7"
  }
 },
 "nbformat": 4,
 "nbformat_minor": 5
}
