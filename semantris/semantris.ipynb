{
 "cells": [
  {
   "cell_type": "code",
   "execution_count": 185,
   "id": "c1fdfa5a",
   "metadata": {},
   "outputs": [
    {
     "name": "stdout",
     "output_type": "stream",
     "text": [
      "Requirement already satisfied: pyautogui in /Users/paul/opt/anaconda3/lib/python3.9/site-packages (0.9.53)\n",
      "Requirement already satisfied: pyscreeze>=0.1.21 in /Users/paul/opt/anaconda3/lib/python3.9/site-packages (from pyautogui) (0.1.28)\n",
      "Requirement already satisfied: pyobjc in /Users/paul/opt/anaconda3/lib/python3.9/site-packages (from pyautogui) (8.4)\n",
      "Requirement already satisfied: mouseinfo in /Users/paul/opt/anaconda3/lib/python3.9/site-packages (from pyautogui) (0.1.3)\n",
      "Requirement already satisfied: pygetwindow>=0.0.5 in /Users/paul/opt/anaconda3/lib/python3.9/site-packages (from pyautogui) (0.0.9)\n",
      "Requirement already satisfied: PyTweening>=1.0.1 in /Users/paul/opt/anaconda3/lib/python3.9/site-packages (from pyautogui) (1.0.4)\n",
      "Requirement already satisfied: pyobjc-core in /Users/paul/opt/anaconda3/lib/python3.9/site-packages (from pyautogui) (8.4)\n",
      "Requirement already satisfied: pymsgbox in /Users/paul/opt/anaconda3/lib/python3.9/site-packages (from pyautogui) (1.0.9)\n",
      "Requirement already satisfied: pyrect in /Users/paul/opt/anaconda3/lib/python3.9/site-packages (from pygetwindow>=0.0.5->pyautogui) (0.1.4)\n",
      "Requirement already satisfied: pyperclip in /Users/paul/opt/anaconda3/lib/python3.9/site-packages (from mouseinfo->pyautogui) (1.8.2)\n",
      "Requirement already satisfied: rubicon-objc in /Users/paul/opt/anaconda3/lib/python3.9/site-packages (from mouseinfo->pyautogui) (0.4.2)\n",
      "Requirement already satisfied: pyobjc-framework-WebKit==8.4 in /Users/paul/opt/anaconda3/lib/python3.9/site-packages (from pyobjc->pyautogui) (8.4)\n",
      "Requirement already satisfied: pyobjc-framework-SceneKit==8.4 in /Users/paul/opt/anaconda3/lib/python3.9/site-packages (from pyobjc->pyautogui) (8.4)\n",
      "Requirement already satisfied: pyobjc-framework-PhotosUI==8.4 in /Users/paul/opt/anaconda3/lib/python3.9/site-packages (from pyobjc->pyautogui) (8.4)\n",
      "Requirement already satisfied: pyobjc-framework-DiscRecordingUI==8.4 in /Users/paul/opt/anaconda3/lib/python3.9/site-packages (from pyobjc->pyautogui) (8.4)\n",
      "Requirement already satisfied: pyobjc-framework-CFNetwork==8.4 in /Users/paul/opt/anaconda3/lib/python3.9/site-packages (from pyobjc->pyautogui) (8.4)\n",
      "Requirement already satisfied: pyobjc-framework-AppleScriptObjC==8.4 in /Users/paul/opt/anaconda3/lib/python3.9/site-packages (from pyobjc->pyautogui) (8.4)\n",
      "Requirement already satisfied: pyobjc-framework-PreferencePanes==8.4 in /Users/paul/opt/anaconda3/lib/python3.9/site-packages (from pyobjc->pyautogui) (8.4)\n",
      "Requirement already satisfied: pyobjc-framework-CoreBluetooth==8.4 in /Users/paul/opt/anaconda3/lib/python3.9/site-packages (from pyobjc->pyautogui) (8.4)\n",
      "Requirement already satisfied: pyobjc-framework-ModelIO==8.4 in /Users/paul/opt/anaconda3/lib/python3.9/site-packages (from pyobjc->pyautogui) (8.4)\n",
      "Requirement already satisfied: pyobjc-framework-PushKit==8.4 in /Users/paul/opt/anaconda3/lib/python3.9/site-packages (from pyobjc->pyautogui) (8.4)\n",
      "Requirement already satisfied: pyobjc-framework-CoreText==8.4 in /Users/paul/opt/anaconda3/lib/python3.9/site-packages (from pyobjc->pyautogui) (8.4)\n",
      "Requirement already satisfied: pyobjc-framework-BusinessChat==8.4 in /Users/paul/opt/anaconda3/lib/python3.9/site-packages (from pyobjc->pyautogui) (8.4)\n",
      "Requirement already satisfied: pyobjc-framework-LaunchServices==8.4 in /Users/paul/opt/anaconda3/lib/python3.9/site-packages (from pyobjc->pyautogui) (8.4)\n",
      "Requirement already satisfied: pyobjc-framework-ExternalAccessory==8.4 in /Users/paul/opt/anaconda3/lib/python3.9/site-packages (from pyobjc->pyautogui) (8.4)\n",
      "Requirement already satisfied: pyobjc-framework-CloudKit==8.4 in /Users/paul/opt/anaconda3/lib/python3.9/site-packages (from pyobjc->pyautogui) (8.4)\n",
      "Requirement already satisfied: pyobjc-framework-Vision==8.4 in /Users/paul/opt/anaconda3/lib/python3.9/site-packages (from pyobjc->pyautogui) (8.4)\n",
      "Requirement already satisfied: pyobjc-framework-SoundAnalysis==8.4 in /Users/paul/opt/anaconda3/lib/python3.9/site-packages (from pyobjc->pyautogui) (8.4)\n",
      "Requirement already satisfied: pyobjc-framework-Photos==8.4 in /Users/paul/opt/anaconda3/lib/python3.9/site-packages (from pyobjc->pyautogui) (8.4)\n",
      "Requirement already satisfied: pyobjc-framework-SafariServices==8.4 in /Users/paul/opt/anaconda3/lib/python3.9/site-packages (from pyobjc->pyautogui) (8.4)\n",
      "Requirement already satisfied: pyobjc-framework-CoreMediaIO==8.4 in /Users/paul/opt/anaconda3/lib/python3.9/site-packages (from pyobjc->pyautogui) (8.4)\n",
      "Requirement already satisfied: pyobjc-framework-CoreMIDI==8.4 in /Users/paul/opt/anaconda3/lib/python3.9/site-packages (from pyobjc->pyautogui) (8.4)\n",
      "Requirement already satisfied: pyobjc-framework-UserNotifications==8.4 in /Users/paul/opt/anaconda3/lib/python3.9/site-packages (from pyobjc->pyautogui) (8.4)\n",
      "Requirement already satisfied: pyobjc-framework-Social==8.4 in /Users/paul/opt/anaconda3/lib/python3.9/site-packages (from pyobjc->pyautogui) (8.4)\n",
      "Requirement already satisfied: pyobjc-framework-QuickLookThumbnailing==8.4 in /Users/paul/opt/anaconda3/lib/python3.9/site-packages (from pyobjc->pyautogui) (8.4)\n",
      "Requirement already satisfied: pyobjc-framework-Speech==8.4 in /Users/paul/opt/anaconda3/lib/python3.9/site-packages (from pyobjc->pyautogui) (8.4)\n",
      "Requirement already satisfied: pyobjc-framework-SystemConfiguration==8.4 in /Users/paul/opt/anaconda3/lib/python3.9/site-packages (from pyobjc->pyautogui) (8.4)\n",
      "Requirement already satisfied: pyobjc-framework-OSLog==8.4 in /Users/paul/opt/anaconda3/lib/python3.9/site-packages (from pyobjc->pyautogui) (8.4)\n",
      "Requirement already satisfied: pyobjc-framework-DVDPlayback==8.4 in /Users/paul/opt/anaconda3/lib/python3.9/site-packages (from pyobjc->pyautogui) (8.4)\n",
      "Requirement already satisfied: pyobjc-framework-AutomaticAssessmentConfiguration==8.4 in /Users/paul/opt/anaconda3/lib/python3.9/site-packages (from pyobjc->pyautogui) (8.4)\n",
      "Requirement already satisfied: pyobjc-framework-ExecutionPolicy==8.4 in /Users/paul/opt/anaconda3/lib/python3.9/site-packages (from pyobjc->pyautogui) (8.4)\n",
      "Requirement already satisfied: pyobjc-framework-NotificationCenter==8.4 in /Users/paul/opt/anaconda3/lib/python3.9/site-packages (from pyobjc->pyautogui) (8.4)\n",
      "Requirement already satisfied: pyobjc-framework-ScreenTime==8.4 in /Users/paul/opt/anaconda3/lib/python3.9/site-packages (from pyobjc->pyautogui) (8.4)\n",
      "Requirement already satisfied: pyobjc-framework-Collaboration==8.4 in /Users/paul/opt/anaconda3/lib/python3.9/site-packages (from pyobjc->pyautogui) (8.4)\n",
      "Requirement already satisfied: pyobjc-framework-SecurityFoundation==8.4 in /Users/paul/opt/anaconda3/lib/python3.9/site-packages (from pyobjc->pyautogui) (8.4)\n",
      "Requirement already satisfied: pyobjc-framework-PassKit==8.4 in /Users/paul/opt/anaconda3/lib/python3.9/site-packages (from pyobjc->pyautogui) (8.4)\n",
      "Requirement already satisfied: pyobjc-framework-OpenDirectory==8.4 in /Users/paul/opt/anaconda3/lib/python3.9/site-packages (from pyobjc->pyautogui) (8.4)\n",
      "Requirement already satisfied: pyobjc-framework-Contacts==8.4 in /Users/paul/opt/anaconda3/lib/python3.9/site-packages (from pyobjc->pyautogui) (8.4)\n",
      "Requirement already satisfied: pyobjc-framework-NaturalLanguage==8.4 in /Users/paul/opt/anaconda3/lib/python3.9/site-packages (from pyobjc->pyautogui) (8.4)\n",
      "Requirement already satisfied: pyobjc-framework-SyncServices==8.4 in /Users/paul/opt/anaconda3/lib/python3.9/site-packages (from pyobjc->pyautogui) (8.4)\n",
      "Requirement already satisfied: pyobjc-framework-MediaAccessibility==8.4 in /Users/paul/opt/anaconda3/lib/python3.9/site-packages (from pyobjc->pyautogui) (8.4)\n",
      "Requirement already satisfied: pyobjc-framework-CoreML==8.4 in /Users/paul/opt/anaconda3/lib/python3.9/site-packages (from pyobjc->pyautogui) (8.4)\n",
      "Requirement already satisfied: pyobjc-framework-FileProvider==8.4 in /Users/paul/opt/anaconda3/lib/python3.9/site-packages (from pyobjc->pyautogui) (8.4)\n",
      "Requirement already satisfied: pyobjc-framework-CoreWLAN==8.4 in /Users/paul/opt/anaconda3/lib/python3.9/site-packages (from pyobjc->pyautogui) (8.4)\n",
      "Requirement already satisfied: pyobjc-framework-ContactsUI==8.4 in /Users/paul/opt/anaconda3/lib/python3.9/site-packages (from pyobjc->pyautogui) (8.4)\n",
      "Requirement already satisfied: pyobjc-framework-Network==8.4 in /Users/paul/opt/anaconda3/lib/python3.9/site-packages (from pyobjc->pyautogui) (8.4)\n",
      "Requirement already satisfied: pyobjc-framework-NetworkExtension==8.4 in /Users/paul/opt/anaconda3/lib/python3.9/site-packages (from pyobjc->pyautogui) (8.4)\n",
      "Requirement already satisfied: pyobjc-framework-ScriptingBridge==8.4 in /Users/paul/opt/anaconda3/lib/python3.9/site-packages (from pyobjc->pyautogui) (8.4)\n",
      "Requirement already satisfied: pyobjc-framework-PencilKit==8.4 in /Users/paul/opt/anaconda3/lib/python3.9/site-packages (from pyobjc->pyautogui) (8.4)\n"
     ]
    },
    {
     "name": "stdout",
     "output_type": "stream",
     "text": [
      "Requirement already satisfied: pyobjc-framework-CryptoTokenKit==8.4 in /Users/paul/opt/anaconda3/lib/python3.9/site-packages (from pyobjc->pyautogui) (8.4)\n",
      "Requirement already satisfied: pyobjc-framework-MLCompute==8.4 in /Users/paul/opt/anaconda3/lib/python3.9/site-packages (from pyobjc->pyautogui) (8.4)\n",
      "Requirement already satisfied: pyobjc-framework-InstallerPlugins==8.4 in /Users/paul/opt/anaconda3/lib/python3.9/site-packages (from pyobjc->pyautogui) (8.4)\n",
      "Requirement already satisfied: pyobjc-framework-AVFoundation==8.4 in /Users/paul/opt/anaconda3/lib/python3.9/site-packages (from pyobjc->pyautogui) (8.4)\n",
      "Requirement already satisfied: pyobjc-framework-Quartz==8.4 in /Users/paul/opt/anaconda3/lib/python3.9/site-packages (from pyobjc->pyautogui) (8.4)\n",
      "Requirement already satisfied: pyobjc-framework-ImageCaptureCore==8.4 in /Users/paul/opt/anaconda3/lib/python3.9/site-packages (from pyobjc->pyautogui) (8.4)\n",
      "Requirement already satisfied: pyobjc-framework-LatentSemanticMapping==8.4 in /Users/paul/opt/anaconda3/lib/python3.9/site-packages (from pyobjc->pyautogui) (8.4)\n",
      "Requirement already satisfied: pyobjc-framework-libdispatch==8.4 in /Users/paul/opt/anaconda3/lib/python3.9/site-packages (from pyobjc->pyautogui) (8.4)\n",
      "Requirement already satisfied: pyobjc-framework-ReplayKit==8.4 in /Users/paul/opt/anaconda3/lib/python3.9/site-packages (from pyobjc->pyautogui) (8.4)\n",
      "Requirement already satisfied: pyobjc-framework-Security==8.4 in /Users/paul/opt/anaconda3/lib/python3.9/site-packages (from pyobjc->pyautogui) (8.4)\n",
      "Requirement already satisfied: pyobjc-framework-SecurityInterface==8.4 in /Users/paul/opt/anaconda3/lib/python3.9/site-packages (from pyobjc->pyautogui) (8.4)\n",
      "Requirement already satisfied: pyobjc-framework-SearchKit==8.4 in /Users/paul/opt/anaconda3/lib/python3.9/site-packages (from pyobjc->pyautogui) (8.4)\n",
      "Requirement already satisfied: pyobjc-framework-AudioVideoBridging==8.4 in /Users/paul/opt/anaconda3/lib/python3.9/site-packages (from pyobjc->pyautogui) (8.4)\n",
      "Requirement already satisfied: pyobjc-framework-CoreAudioKit==8.4 in /Users/paul/opt/anaconda3/lib/python3.9/site-packages (from pyobjc->pyautogui) (8.4)\n",
      "Requirement already satisfied: pyobjc-framework-ScreenSaver==8.4 in /Users/paul/opt/anaconda3/lib/python3.9/site-packages (from pyobjc->pyautogui) (8.4)\n",
      "Requirement already satisfied: pyobjc-framework-ApplicationServices==8.4 in /Users/paul/opt/anaconda3/lib/python3.9/site-packages (from pyobjc->pyautogui) (8.4)\n",
      "Requirement already satisfied: pyobjc-framework-InstantMessage==8.4 in /Users/paul/opt/anaconda3/lib/python3.9/site-packages (from pyobjc->pyautogui) (8.4)\n",
      "Requirement already satisfied: pyobjc-framework-GameplayKit==8.4 in /Users/paul/opt/anaconda3/lib/python3.9/site-packages (from pyobjc->pyautogui) (8.4)\n",
      "Requirement already satisfied: pyobjc-framework-MetalPerformanceShaders==8.4 in /Users/paul/opt/anaconda3/lib/python3.9/site-packages (from pyobjc->pyautogui) (8.4)\n",
      "Requirement already satisfied: pyobjc-framework-MailKit==8.4 in /Users/paul/opt/anaconda3/lib/python3.9/site-packages (from pyobjc->pyautogui) (8.4)\n",
      "Requirement already satisfied: pyobjc-framework-Intents==8.4 in /Users/paul/opt/anaconda3/lib/python3.9/site-packages (from pyobjc->pyautogui) (8.4)\n",
      "Requirement already satisfied: pyobjc-framework-FinderSync==8.4 in /Users/paul/opt/anaconda3/lib/python3.9/site-packages (from pyobjc->pyautogui) (8.4)\n",
      "Requirement already satisfied: pyobjc-framework-MetalKit==8.4 in /Users/paul/opt/anaconda3/lib/python3.9/site-packages (from pyobjc->pyautogui) (8.4)\n",
      "Requirement already satisfied: pyobjc-framework-CoreAudio==8.4 in /Users/paul/opt/anaconda3/lib/python3.9/site-packages (from pyobjc->pyautogui) (8.4)\n",
      "Requirement already satisfied: pyobjc-framework-AdSupport==8.4 in /Users/paul/opt/anaconda3/lib/python3.9/site-packages (from pyobjc->pyautogui) (8.4)\n",
      "Requirement already satisfied: pyobjc-framework-Accounts==8.4 in /Users/paul/opt/anaconda3/lib/python3.9/site-packages (from pyobjc->pyautogui) (8.4)\n",
      "Requirement already satisfied: pyobjc-framework-AppleScriptKit==8.4 in /Users/paul/opt/anaconda3/lib/python3.9/site-packages (from pyobjc->pyautogui) (8.4)\n",
      "Requirement already satisfied: pyobjc-framework-KernelManagement==8.4 in /Users/paul/opt/anaconda3/lib/python3.9/site-packages (from pyobjc->pyautogui) (8.4)\n",
      "Requirement already satisfied: pyobjc-framework-MultipeerConnectivity==8.4 in /Users/paul/opt/anaconda3/lib/python3.9/site-packages (from pyobjc->pyautogui) (8.4)\n",
      "Requirement already satisfied: pyobjc-framework-LinkPresentation==8.4 in /Users/paul/opt/anaconda3/lib/python3.9/site-packages (from pyobjc->pyautogui) (8.4)\n",
      "Requirement already satisfied: pyobjc-framework-DeviceCheck==8.4 in /Users/paul/opt/anaconda3/lib/python3.9/site-packages (from pyobjc->pyautogui) (8.4)\n",
      "Requirement already satisfied: pyobjc-framework-VideoSubscriberAccount==8.4 in /Users/paul/opt/anaconda3/lib/python3.9/site-packages (from pyobjc->pyautogui) (8.4)\n",
      "Requirement already satisfied: pyobjc-framework-MetalPerformanceShadersGraph==8.4 in /Users/paul/opt/anaconda3/lib/python3.9/site-packages (from pyobjc->pyautogui) (8.4)\n",
      "Requirement already satisfied: pyobjc-framework-DictionaryServices==8.4 in /Users/paul/opt/anaconda3/lib/python3.9/site-packages (from pyobjc->pyautogui) (8.4)\n",
      "Requirement already satisfied: pyobjc-framework-CoreMedia==8.4 in /Users/paul/opt/anaconda3/lib/python3.9/site-packages (from pyobjc->pyautogui) (8.4)\n",
      "Requirement already satisfied: pyobjc-framework-DiskArbitration==8.4 in /Users/paul/opt/anaconda3/lib/python3.9/site-packages (from pyobjc->pyautogui) (8.4)\n",
      "Requirement already satisfied: pyobjc-framework-CoreData==8.4 in /Users/paul/opt/anaconda3/lib/python3.9/site-packages (from pyobjc->pyautogui) (8.4)\n",
      "Requirement already satisfied: pyobjc-framework-CalendarStore==8.4 in /Users/paul/opt/anaconda3/lib/python3.9/site-packages (from pyobjc->pyautogui) (8.4)\n",
      "Requirement already satisfied: pyobjc-framework-FSEvents==8.4 in /Users/paul/opt/anaconda3/lib/python3.9/site-packages (from pyobjc->pyautogui) (8.4)\n",
      "Requirement already satisfied: pyobjc-framework-GameCenter==8.4 in /Users/paul/opt/anaconda3/lib/python3.9/site-packages (from pyobjc->pyautogui) (8.4)\n",
      "Requirement already satisfied: pyobjc-framework-MediaPlayer==8.4 in /Users/paul/opt/anaconda3/lib/python3.9/site-packages (from pyobjc->pyautogui) (8.4)\n",
      "Requirement already satisfied: pyobjc-framework-ColorSync==8.4 in /Users/paul/opt/anaconda3/lib/python3.9/site-packages (from pyobjc->pyautogui) (8.4)\n",
      "Requirement already satisfied: pyobjc-framework-AppTrackingTransparency==8.4 in /Users/paul/opt/anaconda3/lib/python3.9/site-packages (from pyobjc->pyautogui) (8.4)\n",
      "Requirement already satisfied: pyobjc-framework-MetricKit==8.4 in /Users/paul/opt/anaconda3/lib/python3.9/site-packages (from pyobjc->pyautogui) (8.4)\n",
      "Requirement already satisfied: pyobjc-framework-FileProviderUI==8.4 in /Users/paul/opt/anaconda3/lib/python3.9/site-packages (from pyobjc->pyautogui) (8.4)\n",
      "Requirement already satisfied: pyobjc-framework-CoreLocation==8.4 in /Users/paul/opt/anaconda3/lib/python3.9/site-packages (from pyobjc->pyautogui) (8.4)\n",
      "Requirement already satisfied: pyobjc-framework-ServiceManagement==8.4 in /Users/paul/opt/anaconda3/lib/python3.9/site-packages (from pyobjc->pyautogui) (8.4)\n",
      "Requirement already satisfied: pyobjc-framework-ShazamKit==8.4 in /Users/paul/opt/anaconda3/lib/python3.9/site-packages (from pyobjc->pyautogui) (8.4)\n",
      "Requirement already satisfied: pyobjc-framework-Cocoa==8.4 in /Users/paul/opt/anaconda3/lib/python3.9/site-packages (from pyobjc->pyautogui) (8.4)\n",
      "Requirement already satisfied: pyobjc-framework-VideoToolbox==8.4 in /Users/paul/opt/anaconda3/lib/python3.9/site-packages (from pyobjc->pyautogui) (8.4)\n",
      "Requirement already satisfied: pyobjc-framework-Accessibility==8.4 in /Users/paul/opt/anaconda3/lib/python3.9/site-packages (from pyobjc->pyautogui) (8.4)\n",
      "Requirement already satisfied: pyobjc-framework-iTunesLibrary==8.4 in /Users/paul/opt/anaconda3/lib/python3.9/site-packages (from pyobjc->pyautogui) (8.4)\n",
      "Requirement already satisfied: pyobjc-framework-AVKit==8.4 in /Users/paul/opt/anaconda3/lib/python3.9/site-packages (from pyobjc->pyautogui) (8.4)\n",
      "Requirement already satisfied: pyobjc-framework-ScreenCaptureKit==8.4 in /Users/paul/opt/anaconda3/lib/python3.9/site-packages (from pyobjc->pyautogui) (8.4)\n",
      "Requirement already satisfied: pyobjc-framework-CoreMotion==8.4 in /Users/paul/opt/anaconda3/lib/python3.9/site-packages (from pyobjc->pyautogui) (8.4)\n",
      "Requirement already satisfied: pyobjc-framework-CallKit==8.4 in /Users/paul/opt/anaconda3/lib/python3.9/site-packages (from pyobjc->pyautogui) (8.4)\n"
     ]
    },
    {
     "name": "stdout",
     "output_type": "stream",
     "text": [
      "Requirement already satisfied: pyobjc-framework-AdServices==8.4 in /Users/paul/opt/anaconda3/lib/python3.9/site-packages (from pyobjc->pyautogui) (8.4)\n",
      "Requirement already satisfied: pyobjc-framework-SpriteKit==8.4 in /Users/paul/opt/anaconda3/lib/python3.9/site-packages (from pyobjc->pyautogui) (8.4)\n",
      "Requirement already satisfied: pyobjc-framework-LocalAuthenticationEmbeddedUI==8.4 in /Users/paul/opt/anaconda3/lib/python3.9/site-packages (from pyobjc->pyautogui) (8.4)\n",
      "Requirement already satisfied: pyobjc-framework-ExceptionHandling==8.4 in /Users/paul/opt/anaconda3/lib/python3.9/site-packages (from pyobjc->pyautogui) (8.4)\n",
      "Requirement already satisfied: pyobjc-framework-DiscRecording==8.4 in /Users/paul/opt/anaconda3/lib/python3.9/site-packages (from pyobjc->pyautogui) (8.4)\n",
      "Requirement already satisfied: pyobjc-framework-Metal==8.4 in /Users/paul/opt/anaconda3/lib/python3.9/site-packages (from pyobjc->pyautogui) (8.4)\n",
      "Requirement already satisfied: pyobjc-framework-AddressBook==8.4 in /Users/paul/opt/anaconda3/lib/python3.9/site-packages (from pyobjc->pyautogui) (8.4)\n",
      "Requirement already satisfied: pyobjc-framework-Automator==8.4 in /Users/paul/opt/anaconda3/lib/python3.9/site-packages (from pyobjc->pyautogui) (8.4)\n",
      "Requirement already satisfied: pyobjc-framework-GameController==8.4 in /Users/paul/opt/anaconda3/lib/python3.9/site-packages (from pyobjc->pyautogui) (8.4)\n",
      "Requirement already satisfied: pyobjc-framework-StoreKit==8.4 in /Users/paul/opt/anaconda3/lib/python3.9/site-packages (from pyobjc->pyautogui) (8.4)\n",
      "Requirement already satisfied: pyobjc-framework-InputMethodKit==8.4 in /Users/paul/opt/anaconda3/lib/python3.9/site-packages (from pyobjc->pyautogui) (8.4)\n",
      "Requirement already satisfied: pyobjc-framework-OSAKit==8.4 in /Users/paul/opt/anaconda3/lib/python3.9/site-packages (from pyobjc->pyautogui) (8.4)\n",
      "Requirement already satisfied: pyobjc-framework-IntentsUI==8.4 in /Users/paul/opt/anaconda3/lib/python3.9/site-packages (from pyobjc->pyautogui) (8.4)\n",
      "Requirement already satisfied: pyobjc-framework-GameKit==8.4 in /Users/paul/opt/anaconda3/lib/python3.9/site-packages (from pyobjc->pyautogui) (8.4)\n",
      "Requirement already satisfied: pyobjc-framework-CoreServices==8.4 in /Users/paul/opt/anaconda3/lib/python3.9/site-packages (from pyobjc->pyautogui) (8.4)\n",
      "Requirement already satisfied: pyobjc-framework-UniformTypeIdentifiers==8.4 in /Users/paul/opt/anaconda3/lib/python3.9/site-packages (from pyobjc->pyautogui) (8.4)\n",
      "Requirement already satisfied: pyobjc-framework-SystemExtensions==8.4 in /Users/paul/opt/anaconda3/lib/python3.9/site-packages (from pyobjc->pyautogui) (8.4)\n",
      "Requirement already satisfied: pyobjc-framework-IMServicePlugIn==8.4 in /Users/paul/opt/anaconda3/lib/python3.9/site-packages (from pyobjc->pyautogui) (8.4)\n",
      "Requirement already satisfied: pyobjc-framework-CoreSpotlight==8.4 in /Users/paul/opt/anaconda3/lib/python3.9/site-packages (from pyobjc->pyautogui) (8.4)\n",
      "Requirement already satisfied: pyobjc-framework-DataDetection==8.4 in /Users/paul/opt/anaconda3/lib/python3.9/site-packages (from pyobjc->pyautogui) (8.4)\n",
      "Requirement already satisfied: pyobjc-framework-IOSurface==8.4 in /Users/paul/opt/anaconda3/lib/python3.9/site-packages (from pyobjc->pyautogui) (8.4)\n",
      "Requirement already satisfied: pyobjc-framework-UserNotificationsUI==8.4 in /Users/paul/opt/anaconda3/lib/python3.9/site-packages (from pyobjc->pyautogui) (8.4)\n",
      "Requirement already satisfied: pyobjc-framework-Virtualization==8.4 in /Users/paul/opt/anaconda3/lib/python3.9/site-packages (from pyobjc->pyautogui) (8.4)\n",
      "Requirement already satisfied: pyobjc-framework-LocalAuthentication==8.4 in /Users/paul/opt/anaconda3/lib/python3.9/site-packages (from pyobjc->pyautogui) (8.4)\n",
      "Requirement already satisfied: pyobjc-framework-MediaToolbox==8.4 in /Users/paul/opt/anaconda3/lib/python3.9/site-packages (from pyobjc->pyautogui) (8.4)\n",
      "Requirement already satisfied: pyobjc-framework-NetFS==8.4 in /Users/paul/opt/anaconda3/lib/python3.9/site-packages (from pyobjc->pyautogui) (8.4)\n",
      "Requirement already satisfied: pyobjc-framework-ClassKit==8.4 in /Users/paul/opt/anaconda3/lib/python3.9/site-packages (from pyobjc->pyautogui) (8.4)\n",
      "Requirement already satisfied: pyobjc-framework-EventKit==8.4 in /Users/paul/opt/anaconda3/lib/python3.9/site-packages (from pyobjc->pyautogui) (8.4)\n",
      "Requirement already satisfied: pyobjc-framework-AuthenticationServices==8.4 in /Users/paul/opt/anaconda3/lib/python3.9/site-packages (from pyobjc->pyautogui) (8.4)\n",
      "Requirement already satisfied: pyobjc-framework-CoreHaptics==8.4 in /Users/paul/opt/anaconda3/lib/python3.9/site-packages (from pyobjc->pyautogui) (8.4)\n",
      "Requirement already satisfied: pyobjc-framework-MediaLibrary==8.4 in /Users/paul/opt/anaconda3/lib/python3.9/site-packages (from pyobjc->pyautogui) (8.4)\n",
      "Requirement already satisfied: pyobjc-framework-MapKit==8.4 in /Users/paul/opt/anaconda3/lib/python3.9/site-packages (from pyobjc->pyautogui) (8.4)\n",
      "Requirement already satisfied: annoy in /Users/paul/opt/anaconda3/lib/python3.9/site-packages (1.17.0)\n",
      "Requirement already satisfied: tensorflow_hub in /Users/paul/opt/anaconda3/lib/python3.9/site-packages (0.12.0)\n",
      "Requirement already satisfied: protobuf>=3.8.0 in /Users/paul/opt/anaconda3/lib/python3.9/site-packages (from tensorflow_hub) (3.19.4)\n",
      "Requirement already satisfied: numpy>=1.12.0 in /Users/paul/opt/anaconda3/lib/python3.9/site-packages (from tensorflow_hub) (1.20.3)\n",
      "Requirement already satisfied: scikit-learn in /Users/paul/opt/anaconda3/lib/python3.9/site-packages (1.0.2)\n",
      "Requirement already satisfied: numpy>=1.14.6 in /Users/paul/opt/anaconda3/lib/python3.9/site-packages (from scikit-learn) (1.20.3)\n",
      "Requirement already satisfied: threadpoolctl>=2.0.0 in /Users/paul/opt/anaconda3/lib/python3.9/site-packages (from scikit-learn) (2.2.0)\n",
      "Requirement already satisfied: scipy>=1.1.0 in /Users/paul/opt/anaconda3/lib/python3.9/site-packages (from scikit-learn) (1.7.1)\n",
      "Requirement already satisfied: joblib>=0.11 in /Users/paul/opt/anaconda3/lib/python3.9/site-packages (from scikit-learn) (1.1.0)\n",
      "Requirement already satisfied: keras-ocr in /Users/paul/opt/anaconda3/lib/python3.9/site-packages (0.8.9)\n",
      "Requirement already satisfied: editdistance in /Users/paul/opt/anaconda3/lib/python3.9/site-packages (from keras-ocr) (0.6.0)\n",
      "Requirement already satisfied: validators in /Users/paul/opt/anaconda3/lib/python3.9/site-packages (from keras-ocr) (0.18.2)\n",
      "Requirement already satisfied: shapely in /Users/paul/opt/anaconda3/lib/python3.9/site-packages (from keras-ocr) (1.8.1.post1)\n",
      "Requirement already satisfied: essential_generators in /Users/paul/opt/anaconda3/lib/python3.9/site-packages (from keras-ocr) (1.0)\n",
      "Requirement already satisfied: pyclipper in /Users/paul/opt/anaconda3/lib/python3.9/site-packages (from keras-ocr) (1.3.0.post2)\n",
      "Requirement already satisfied: fonttools in /Users/paul/opt/anaconda3/lib/python3.9/site-packages (from keras-ocr) (4.25.0)\n",
      "Requirement already satisfied: efficientnet==1.0.0 in /Users/paul/opt/anaconda3/lib/python3.9/site-packages (from keras-ocr) (1.0.0)\n",
      "Requirement already satisfied: tqdm in /Users/paul/opt/anaconda3/lib/python3.9/site-packages (from keras-ocr) (4.62.3)\n",
      "Requirement already satisfied: imgaug in /Users/paul/opt/anaconda3/lib/python3.9/site-packages (from keras-ocr) (0.4.0)\n",
      "Requirement already satisfied: keras-applications<=1.0.8,>=1.0.7 in /Users/paul/opt/anaconda3/lib/python3.9/site-packages (from efficientnet==1.0.0->keras-ocr) (1.0.8)\n",
      "Requirement already satisfied: scikit-image in /Users/paul/opt/anaconda3/lib/python3.9/site-packages (from efficientnet==1.0.0->keras-ocr) (0.18.3)\n",
      "Requirement already satisfied: numpy>=1.9.1 in /Users/paul/opt/anaconda3/lib/python3.9/site-packages (from keras-applications<=1.0.8,>=1.0.7->efficientnet==1.0.0->keras-ocr) (1.20.3)\n",
      "Requirement already satisfied: h5py in /Users/paul/opt/anaconda3/lib/python3.9/site-packages (from keras-applications<=1.0.8,>=1.0.7->efficientnet==1.0.0->keras-ocr) (3.2.1)\n",
      "Requirement already satisfied: scipy in /Users/paul/opt/anaconda3/lib/python3.9/site-packages (from imgaug->keras-ocr) (1.7.1)\n",
      "Requirement already satisfied: matplotlib in /Users/paul/opt/anaconda3/lib/python3.9/site-packages (from imgaug->keras-ocr) (3.4.3)\n",
      "Requirement already satisfied: six in /Users/paul/opt/anaconda3/lib/python3.9/site-packages (from imgaug->keras-ocr) (1.16.0)\n",
      "Requirement already satisfied: Pillow in /Users/paul/opt/anaconda3/lib/python3.9/site-packages (from imgaug->keras-ocr) (8.4.0)\n",
      "Requirement already satisfied: opencv-python in /Users/paul/opt/anaconda3/lib/python3.9/site-packages (from imgaug->keras-ocr) (4.5.4.60)\n",
      "Requirement already satisfied: imageio in /Users/paul/opt/anaconda3/lib/python3.9/site-packages (from imgaug->keras-ocr) (2.9.0)\n"
     ]
    },
    {
     "name": "stdout",
     "output_type": "stream",
     "text": [
      "Requirement already satisfied: networkx>=2.0 in /Users/paul/opt/anaconda3/lib/python3.9/site-packages (from scikit-image->efficientnet==1.0.0->keras-ocr) (2.6.3)\n",
      "Requirement already satisfied: tifffile>=2019.7.26 in /Users/paul/opt/anaconda3/lib/python3.9/site-packages (from scikit-image->efficientnet==1.0.0->keras-ocr) (2021.7.2)\n",
      "Requirement already satisfied: PyWavelets>=1.1.1 in /Users/paul/opt/anaconda3/lib/python3.9/site-packages (from scikit-image->efficientnet==1.0.0->keras-ocr) (1.1.1)\n",
      "Requirement already satisfied: cycler>=0.10 in /Users/paul/opt/anaconda3/lib/python3.9/site-packages (from matplotlib->imgaug->keras-ocr) (0.10.0)\n",
      "Requirement already satisfied: pyparsing>=2.2.1 in /Users/paul/opt/anaconda3/lib/python3.9/site-packages (from matplotlib->imgaug->keras-ocr) (2.4.7)\n",
      "Requirement already satisfied: python-dateutil>=2.7 in /Users/paul/opt/anaconda3/lib/python3.9/site-packages (from matplotlib->imgaug->keras-ocr) (2.8.2)\n",
      "Requirement already satisfied: kiwisolver>=1.0.1 in /Users/paul/opt/anaconda3/lib/python3.9/site-packages (from matplotlib->imgaug->keras-ocr) (1.3.1)\n",
      "Requirement already satisfied: decorator>=3.4.0 in /Users/paul/opt/anaconda3/lib/python3.9/site-packages (from validators->keras-ocr) (5.1.0)\n"
     ]
    }
   ],
   "source": [
    "!pip install pyautogui\n",
    "!pip install annoy\n",
    "!pip install tensorflow_hub\n",
    "!pip install --upgrade scikit-learn\n",
    "!pip install keras-ocr"
   ]
  },
  {
   "cell_type": "code",
   "execution_count": 186,
   "id": "9d0c4fb3",
   "metadata": {},
   "outputs": [],
   "source": [
    "import numpy as np\n",
    "import pyautogui\n",
    "import annoy\n",
    "import pickle\n",
    "import os\n",
    "import pyperclip\n",
    "import keras_ocr\n",
    "import matplotlib.pyplot as plt\n",
    "import tensorflow as tf\n",
    "import tensorflow_hub as hub\n",
    "import random"
   ]
  },
  {
   "cell_type": "code",
   "execution_count": 187,
   "id": "60fb456e",
   "metadata": {},
   "outputs": [],
   "source": [
    "def screenshot(bbox=None): #bbox format : left - top - width - height\n",
    "    return pyautogui.screenshot(region=bbox)\n",
    "\n",
    "FIGSIZE = (6,6)\n",
    "def plot_img(image, figsize=FIGSIZE,cmap=None,image_name = 'image.png'):\n",
    "    plt.figure(figsize=figsize)\n",
    "    plt.imshow(image,cmap=cmap)\n",
    "    plt.imsave(image_name,image,cmap=cmap)\n",
    "    #plt.show()"
   ]
  },
  {
   "cell_type": "code",
   "execution_count": 188,
   "id": "61316609",
   "metadata": {},
   "outputs": [],
   "source": [
    "#screen = screenshot()\n",
    "#plot_img(screen)\n",
    "def start_game():\n",
    "    pyautogui.click(242, 585)\n",
    "    pyautogui.click(242, 585)"
   ]
  },
  {
   "cell_type": "code",
   "execution_count": 223,
   "id": "856afe9f",
   "metadata": {},
   "outputs": [
    {
     "data": {
      "image/png": "[encoded data removed]",
      "text/plain": [
       "<Figure size 432x432 with 1 Axes>"
      ]
     },
     "metadata": {
      "needs_background": "light"
     },
     "output_type": "display_data"
    }
   ],
   "source": [
    "triangle_area = (220,130,1,390)\n",
    "threshold = 120\n",
    "fn = lambda x : 255 if x> threshold else 0\n",
    "resize = 1\n",
    "screen = screenshot(triangle_area).convert(\"L\")#.point(fn,mode='1')\n",
    "plot_img(screen,cmap = 'gray')\n",
    "array = np.array(screen)"
   ]
  },
  {
   "cell_type": "code",
   "execution_count": 212,
   "id": "6530c738",
   "metadata": {},
   "outputs": [],
   "source": [
    "threshold = 120\n",
    "fn = lambda x : 255 if x> threshold else 0\n",
    "resize = 1\n",
    "triangle_area = (220,130,1,390)\n",
    "\n",
    "def take_screenshot():\n",
    "    screen = screenshot(triangle_area).convert(\"L\")#.point(fn,mode='1')\n",
    "    #plot_img(screen,cmap = 'gray')\n",
    "    array = np.array(screen)\n",
    "    text_area = (239,130 + np.where(array >= 80)[0][0] - 6, 240,16)\n",
    "    screen = screenshot(triangle_area).convert(\"L\")\n",
    "    array = np.array(screen)\n",
    "    text_screen = screenshot(text_area).convert(\"RGB\")\n",
    "    #plot_img(text_screen,cmap='gray')\n",
    "    return np.array(text_screen)"
   ]
  },
  {
   "cell_type": "code",
   "execution_count": 232,
   "id": "0dceb637",
   "metadata": {},
   "outputs": [
    {
     "data": {
      "image/png": "[encoded data removed]",
      "text/plain": [
       "<Figure size 432x432 with 1 Axes>"
      ]
     },
     "metadata": {
      "needs_background": "light"
     },
     "output_type": "display_data"
    }
   ],
   "source": [
    "text_screen = take_screenshot()\n",
    "plot_img(text_screen,cmap='gray')"
   ]
  },
  {
   "cell_type": "code",
   "execution_count": 192,
   "id": "aabc97ff",
   "metadata": {},
   "outputs": [],
   "source": [
    "#run()"
   ]
  },
  {
   "cell_type": "code",
   "execution_count": 193,
   "id": "b506219b",
   "metadata": {},
   "outputs": [
    {
     "name": "stdout",
     "output_type": "stream",
     "text": [
      "Annoy index is loaded.\n",
      "Mapping file is loaded.\n"
     ]
    }
   ],
   "source": [
    "embedding_dimension = 64\n",
    "index_filename = 'index'\n",
    "index = annoy.AnnoyIndex(embedding_dimension,metric = 'angular')\n",
    "index.load(index_filename)\n",
    "print('Annoy index is loaded.')\n",
    "with open(index_filename + '.mapping', 'rb') as handle:\n",
    "    mapping = pickle.load(handle)\n",
    "print('Mapping file is loaded.')"
   ]
  },
  {
   "cell_type": "code",
   "execution_count": 214,
   "id": "ac33d61b",
   "metadata": {},
   "outputs": [
    {
     "name": "stdout",
     "output_type": "stream",
     "text": [
      "Loading the TF-Hub model...\n",
      "CPU times: user 5.73 s, sys: 2.47 s, total: 8.2 s\n",
      "Wall time: 17.6 s\n",
      "TF-Hub model is loaded.\n"
     ]
    },
    {
     "ename": "AttributeError",
     "evalue": "'_UserObject' object has no attribute 'shape'",
     "output_type": "error",
     "traceback": [
      "\u001b[0;31m---------------------------------------------------------------------------\u001b[0m",
      "\u001b[0;31mAttributeError\u001b[0m                            Traceback (most recent call last)",
      "\u001b[0;32m/var/folders/nm/lm6vpz5s5v7_bt4xx0jq3fq00000gn/T/ipykernel_11568/507982135.py\u001b[0m in \u001b[0;36m<module>\u001b[0;34m\u001b[0m\n\u001b[1;32m      3\u001b[0m \u001b[0mget_ipython\u001b[0m\u001b[0;34m(\u001b[0m\u001b[0;34m)\u001b[0m\u001b[0;34m.\u001b[0m\u001b[0mrun_line_magic\u001b[0m\u001b[0;34m(\u001b[0m\u001b[0;34m'time'\u001b[0m\u001b[0;34m,\u001b[0m \u001b[0;34m'embed_fn = hub.load(model_url)'\u001b[0m\u001b[0;34m)\u001b[0m\u001b[0;34m\u001b[0m\u001b[0;34m\u001b[0m\u001b[0m\n\u001b[1;32m      4\u001b[0m \u001b[0mprint\u001b[0m\u001b[0;34m(\u001b[0m\u001b[0;34m\"TF-Hub model is loaded.\"\u001b[0m\u001b[0;34m)\u001b[0m\u001b[0;34m\u001b[0m\u001b[0;34m\u001b[0m\u001b[0m\n\u001b[0;32m----> 5\u001b[0;31m \u001b[0membed_fn\u001b[0m\u001b[0;34m.\u001b[0m\u001b[0mshape\u001b[0m\u001b[0;34m\u001b[0m\u001b[0;34m\u001b[0m\u001b[0m\n\u001b[0m",
      "\u001b[0;31mAttributeError\u001b[0m: '_UserObject' object has no attribute 'shape'"
     ]
    }
   ],
   "source": [
    "model_url = 'https://tfhub.dev/google/universal-sentence-encoder/4'\n",
    "print(\"Loading the TF-Hub model...\")\n",
    "%time embed_fn = hub.load(model_url)\n",
    "print(\"TF-Hub model is loaded.\")"
   ]
  },
  {
   "cell_type": "code",
   "execution_count": 195,
   "id": "01ac659b",
   "metadata": {},
   "outputs": [],
   "source": [
    "def find_similar_items(embedding, num_matches=5):\n",
    "    '''Finds similar items to a given embedding in the ANN index'''\n",
    "    ids = index.get_nns_by_vector(\n",
    "    embedding, num_matches, search_k=-1, include_distances=False)\n",
    "    items = [mapping[i] for i in ids]\n",
    "    return items"
   ]
  },
  {
   "cell_type": "code",
   "execution_count": 196,
   "id": "fcbd042a",
   "metadata": {},
   "outputs": [
    {
     "name": "stdout",
     "output_type": "stream",
     "text": [
      "Loading random projection matrix...\n",
      "random projection matrix is loaded.\n"
     ]
    }
   ],
   "source": [
    "random_projection_matrix = None\n",
    "if os.path.exists('random_projection_matrix'):\n",
    "    print(\"Loading random projection matrix...\")\n",
    "    with open('random_projection_matrix', 'rb') as handle:\n",
    "        random_projection_matrix = pickle.load(handle)\n",
    "    print('random projection matrix is loaded.')\n",
    "\n",
    "def extract_embeddings(query):\n",
    "    '''Generates the embedding for the query'''\n",
    "    print(query, ' query')\n",
    "    query_embedding =  embed_fn([query])[0].numpy()\n",
    "    print('embed ', query_embedding.shape)\n",
    "\n",
    "    if random_projection_matrix is not None:\n",
    "        query_embedding = random_projection_matrix.transform(query_embedding.reshape(1,-1)).reshape(-1,)\n",
    "        print('projected', query_embedding.shape)\n",
    "    return query_embedding"
   ]
  },
  {
   "cell_type": "code",
   "execution_count": 220,
   "id": "96a06611",
   "metadata": {},
   "outputs": [
    {
     "name": "stdout",
     "output_type": "stream",
     "text": [
      "Generating embedding for the query...\n",
      "battery  query\n",
      "embed  (512,)\n",
      "projected (64,)\n",
      "CPU times: user 7.1 ms, sys: 2.43 ms, total: 9.53 ms\n",
      "Wall time: 5.15 ms\n",
      "\n",
      "Finding relevant items in the index...\n",
      "CPU times: user 1.68 ms, sys: 1.52 ms, total: 3.2 ms\n",
      "Wall time: 4.97 ms\n",
      "\n",
      "pile\n",
      "batteries\n",
      "nucleus\n",
      "sot\n",
      "frying\n",
      "brightness\n",
      "accelerometer\n",
      "volt\n",
      "photosphere\n",
      "coil\n"
     ]
    }
   ],
   "source": [
    "query = 'battery'\n",
    "\n",
    "print(\"Generating embedding for the query...\")\n",
    "%time query_embedding = extract_embeddings(query)\n",
    "\n",
    "print(\"\")\n",
    "print(\"Finding relevant items in the index...\")\n",
    "%time items = find_similar_items(query_embedding, 10)\n",
    "\n",
    "print(\"\")\n",
    "for item in items:\n",
    "    print(item)"
   ]
  },
  {
   "cell_type": "code",
   "execution_count": 230,
   "id": "d9c718b4",
   "metadata": {},
   "outputs": [
    {
     "name": "stdout",
     "output_type": "stream",
     "text": [
      "Looking for /Users/paul/.keras-ocr/crnn_kurapan.h5\n"
     ]
    }
   ],
   "source": [
    "#pipeline = keras_ocr.pipeline.Pipeline()\n",
    "pipeline = keras_ocr.recognition.Recognizer()\n",
    "pipeline.model.load_weights('recognizer2.h5')"
   ]
  },
  {
   "cell_type": "code",
   "execution_count": 233,
   "id": "81ba7882",
   "metadata": {},
   "outputs": [
    {
     "data": {
      "text/plain": [
       "'shjd'"
      ]
     },
     "execution_count": 233,
     "metadata": {},
     "output_type": "execute_result"
    }
   ],
   "source": [
    "#print(text_screen.shape)\n",
    "#a = text_screen.reshape((text_screen.shape[0],text_screen.shape[1],1))\n",
    "#text,_ = pipeline.recognize([text_screen])[0][0]\n",
    "pipeline.recognize(text_screen)"
   ]
  },
  {
   "cell_type": "code",
   "execution_count": 200,
   "id": "e7bcc1a6",
   "metadata": {},
   "outputs": [],
   "source": [
    "def begin_with(root,words) :\n",
    "    return not root.startswith(words[:3])\n",
    "\n",
    "def get_words(query,items): \n",
    "    return list(filter(lambda word : begin_with(query,word),items))\n",
    "\n"
   ]
  },
  {
   "cell_type": "code",
   "execution_count": 225,
   "id": "5b0041e5",
   "metadata": {},
   "outputs": [],
   "source": [
    "def run():\n",
    "    go = False\n",
    "    tim = time.time()\n",
    "    while not go : \n",
    "        try : \n",
    "            screenshot = take_screenshot()\n",
    "            #print(pipeline.recognize(screenshot))\n",
    "            text,_ = pipeline.recognize([screenshot])[0][0]\n",
    "            go = True\n",
    "        except IndexError as e: \n",
    "            print(e)\n",
    "            go = False\n",
    "    print(text.strip())\n",
    "    print()\n",
    "    query_embedding = extract_embeddings(text.strip())\n",
    "    #print(query_embedding)\n",
    "    items = find_similar_items(query_embedding, 10)\n",
    "    words = get_words(text,items)\n",
    "    print(items, words)\n",
    "    pyperclip.copy(words[random.randint(0,1)])\n",
    "    pyautogui.click(x=100, y=200)\n",
    "    pyautogui.hotkey('command', 'v')\n",
    "    pyautogui.press('enter')\n",
    "    print(time.time() - tim, ' temps global')"
   ]
  },
  {
   "cell_type": "code",
   "execution_count": 226,
   "id": "7d64ded9",
   "metadata": {},
   "outputs": [
    {
     "name": "stdout",
     "output_type": "stream",
     "text": [
      "frozen\n",
      "\n",
      "frozen  query\n",
      "embed  (512,)\n",
      "projected (64,)\n",
      "['frozen', 'refreeze', 'unfreeze', 'freezing', 'freeze', 'frostbitten', 'thaw', 'defrost', 'snowstorm', 'embitter'] ['refreeze', 'unfreeze', 'freezing', 'freeze', 'thaw', 'defrost', 'snowstorm', 'embitter']\n",
      "\n",
      "just clicked\n",
      "\n",
      "command\n",
      "\n",
      "enter\n",
      "\n",
      "2.7043027877807617  temps global\n"
     ]
    }
   ],
   "source": [
    "run()"
   ]
  },
  {
   "cell_type": "code",
   "execution_count": 52,
   "id": "8887dc63",
   "metadata": {},
   "outputs": [],
   "source": [
    "pyautogui.click(x=100, y=200)\n",
    "#trans = str.maketrans('azerty','qwerty')\n",
    "#pyautogui.press('ù')\n",
    "pyperclip.copy('abcdefghijklmnopqrstuvwxyz') # copy msg in the clipboard\n",
    "#pyautogui.hotkey('ctrl', 'v') # paste msg\n",
    "#pyautogui.write('abcdefghijklmnopqrstuvwxyz'.translate(trans))"
   ]
  },
  {
   "cell_type": "code",
   "execution_count": 33,
   "id": "54a8a466",
   "metadata": {},
   "outputs": [
    {
     "data": {
      "text/plain": [
       "'qbcdefghijklmnopqrstuvwxyw'"
      ]
     },
     "execution_count": 33,
     "metadata": {},
     "output_type": "execute_result"
    }
   ],
   "source": [
    "'abcdefghijklmnopqrstuvwxyz'.translate(trans)"
   ]
  },
  {
   "cell_type": "code",
   "execution_count": 51,
   "id": "c24a59ad",
   "metadata": {},
   "outputs": [],
   "source": [
    "pyautogui.click(x=100, y=200)\n",
    "pyautogui.hotkey('command', 'v')"
   ]
  },
  {
   "cell_type": "code",
   "execution_count": 222,
   "id": "4cc2b3b7",
   "metadata": {},
   "outputs": [
    {
     "name": "stdout",
     "output_type": "stream",
     "text": [
      "lake\n",
      "\n",
      "lake  query\n",
      "embed  (512,)\n",
      "projected (64,)\n",
      "['lake', 'lacs', 'lakeside', 'sleet', 'rainstorm', 'shoreline', 'reservoir', 'waterskiing', 'puddle', 'flood'] ['lacs', 'sleet', 'rainstorm', 'shoreline', 'reservoir', 'waterskiing', 'puddle', 'flood']\n",
      "\n",
      "just clicked\n",
      "\n",
      "command\n",
      "\n",
      "enter\n",
      "\n",
      "\n",
      "lake\n",
      "\n",
      "lake  query\n",
      "embed  (512,)\n",
      "projected (64,)\n",
      "['lake', 'lacs', 'lakeside', 'sleet', 'rainstorm', 'shoreline', 'reservoir', 'waterskiing', 'puddle', 'flood'] ['lacs', 'sleet', 'rainstorm', 'shoreline', 'reservoir', 'waterskiing', 'puddle', 'flood']\n",
      "\n",
      "just clicked\n",
      "\n",
      "command\n",
      "\n",
      "enter\n",
      "\n",
      "\n",
      "list index out of range\n",
      "flute\n",
      "\n",
      "flute  query\n",
      "embed  (512,)\n",
      "projected (64,)\n",
      "['flute', 'trumpet', 'mouthpiece', 'woodwind', 'harmonica', 'trumpeter', 'harps', 'harp', 'clarinet', 'tuba'] ['trumpet', 'mouthpiece', 'woodwind', 'harmonica', 'trumpeter', 'harps', 'harp', 'clarinet', 'tuba']\n",
      "\n",
      "just clicked\n",
      "\n",
      "command\n",
      "\n",
      "enter\n",
      "\n",
      "\n",
      "list index out of range\n",
      "ter\n",
      "\n",
      "ter  query\n",
      "embed  (512,)\n",
      "projected (64,)\n",
      "['coexists', 'dextrous', 'disorientating', 'contorts', 'plosive', 'wellrounded', 'armful', 'stenographic', 'extensional', 'snivelling'] ['coexists', 'dextrous', 'disorientating', 'contorts', 'plosive', 'wellrounded', 'armful', 'stenographic', 'extensional', 'snivelling']\n",
      "\n",
      "just clicked\n",
      "\n",
      "command\n",
      "\n",
      "enter\n",
      "\n",
      "\n",
      "thunder\n",
      "\n",
      "thunder  query\n",
      "embed  (512,)\n",
      "projected (64,)\n",
      "['thunder', 'thunders', 'thundering', 'groaning', 'mermen', 'muggy', 'thunderstorm', 'stormy', 'novelistic', 'gasps'] ['groaning', 'mermen', 'muggy', 'stormy', 'novelistic', 'gasps']\n",
      "\n",
      "just clicked\n",
      "\n",
      "command\n",
      "\n",
      "enter\n",
      "\n",
      "\n",
      "earth\n",
      "\n",
      "earth  query\n",
      "embed  (512,)\n",
      "projected (64,)\n",
      "['earth', 'planet', 'mort', 'land', 'dead', 'everlasting', 'air', 'alive', 'car', 'dog'] ['planet', 'mort', 'land', 'dead', 'everlasting', 'air', 'alive', 'car', 'dog']\n",
      "\n",
      "just clicked\n",
      "\n",
      "command\n",
      "\n",
      "enter\n",
      "\n",
      "\n",
      "index 0 is out of bounds for axis 0 with size 0\n",
      "list index out of range\n",
      "list index out of range\n",
      "doctor\n",
      "\n",
      "doctor  query\n",
      "embed  (512,)\n",
      "projected (64,)\n",
      "['doctor', 'dr', 'physician', 'doctors', 'scientist', 'geek', 'charlatan', 'cops', 'doctorate', 'uncaring'] ['dr', 'physician', 'scientist', 'geek', 'charlatan', 'cops', 'uncaring']\n",
      "\n",
      "just clicked\n",
      "\n",
      "command\n",
      "\n",
      "enter\n",
      "\n",
      "\n",
      "index 0 is out of bounds for axis 0 with size 0\n",
      "danc\n",
      "\n",
      "danc  query\n",
      "embed  (512,)\n",
      "projected (64,)\n",
      "['situationist', 'typewritten', 'sparseness', 'reflectiveness', 'shrewdest', 'gracing', 'prickling', 'foreboded', 'embarks', 'mislabelled'] ['situationist', 'typewritten', 'sparseness', 'reflectiveness', 'shrewdest', 'gracing', 'prickling', 'foreboded', 'embarks', 'mislabelled']\n",
      "\n",
      "just clicked\n",
      "\n",
      "command\n",
      "\n",
      "enter\n",
      "\n",
      "\n",
      "color\n",
      "\n",
      "color  query\n",
      "embed  (512,)\n",
      "projected (64,)\n",
      "['colours', 'split', 'box', 'colouring', 'toenail', 'piece', 'lengthwise', 'scoop', 'sleeves', 'opposite'] ['split', 'box', 'toenail', 'piece', 'lengthwise', 'scoop', 'sleeves', 'opposite']\n",
      "\n",
      "just clicked\n",
      "\n",
      "command\n",
      "\n",
      "enter\n",
      "\n",
      "\n",
      "color\n",
      "\n",
      "color  query\n",
      "embed  (512,)\n",
      "projected (64,)\n",
      "['colours', 'split', 'box', 'colouring', 'toenail', 'piece', 'lengthwise', 'scoop', 'sleeves', 'opposite'] ['split', 'box', 'toenail', 'piece', 'lengthwise', 'scoop', 'sleeves', 'opposite']\n",
      "\n",
      "just clicked\n",
      "\n",
      "command\n",
      "\n",
      "enter\n",
      "\n",
      "\n",
      "color\n",
      "\n",
      "color  query\n",
      "embed  (512,)\n",
      "projected (64,)\n",
      "['colours', 'split', 'box', 'colouring', 'toenail', 'piece', 'lengthwise', 'scoop', 'sleeves', 'opposite'] ['split', 'box', 'toenail', 'piece', 'lengthwise', 'scoop', 'sleeves', 'opposite']\n",
      "\n",
      "just clicked\n",
      "\n",
      "command\n",
      "\n",
      "enter\n",
      "\n",
      "\n",
      "color\n",
      "\n",
      "color  query\n",
      "embed  (512,)\n",
      "projected (64,)\n",
      "['colours', 'split', 'box', 'colouring', 'toenail', 'piece', 'lengthwise', 'scoop', 'sleeves', 'opposite'] ['split', 'box', 'toenail', 'piece', 'lengthwise', 'scoop', 'sleeves', 'opposite']\n",
      "\n",
      "just clicked\n",
      "\n",
      "command\n",
      "\n",
      "enter\n",
      "\n",
      "\n",
      "index 0 is out of bounds for axis 0 with size 0\n",
      "color\n",
      "\n",
      "color  query\n",
      "embed  (512,)\n",
      "projected (64,)\n",
      "['colours', 'split', 'box', 'colouring', 'toenail', 'piece', 'lengthwise', 'scoop', 'sleeves', 'opposite'] ['split', 'box', 'toenail', 'piece', 'lengthwise', 'scoop', 'sleeves', 'opposite']\n",
      "\n",
      "just clicked\n",
      "\n",
      "command\n",
      "\n",
      "enter\n",
      "\n",
      "\n",
      "index 0 is out of bounds for axis 0 with size 0\n"
     ]
    },
    {
     "ename": "KeyboardInterrupt",
     "evalue": "",
     "output_type": "error",
     "traceback": [
      "\u001b[0;31m---------------------------------------------------------------------------\u001b[0m",
      "\u001b[0;31mKeyboardInterrupt\u001b[0m                         Traceback (most recent call last)",
      "\u001b[0;32m/var/folders/nm/lm6vpz5s5v7_bt4xx0jq3fq00000gn/T/ipykernel_11568/2842650767.py\u001b[0m in \u001b[0;36m<module>\u001b[0;34m\u001b[0m\n\u001b[1;32m      2\u001b[0m \u001b[0;32mimport\u001b[0m \u001b[0mtime\u001b[0m\u001b[0;34m\u001b[0m\u001b[0;34m\u001b[0m\u001b[0m\n\u001b[1;32m      3\u001b[0m \u001b[0;32mwhile\u001b[0m \u001b[0mi\u001b[0m \u001b[0;34m<\u001b[0m \u001b[0;36m100\u001b[0m \u001b[0;34m:\u001b[0m\u001b[0;34m\u001b[0m\u001b[0;34m\u001b[0m\u001b[0m\n\u001b[0;32m----> 4\u001b[0;31m     \u001b[0mrun\u001b[0m\u001b[0;34m(\u001b[0m\u001b[0;34m)\u001b[0m\u001b[0;34m\u001b[0m\u001b[0;34m\u001b[0m\u001b[0m\n\u001b[0m\u001b[1;32m      5\u001b[0m     \u001b[0;32mif\u001b[0m \u001b[0mi\u001b[0m \u001b[0;34m<\u001b[0m \u001b[0;36m5\u001b[0m \u001b[0;34m:\u001b[0m\u001b[0;34m\u001b[0m\u001b[0;34m\u001b[0m\u001b[0m\n\u001b[1;32m      6\u001b[0m         \u001b[0mtime\u001b[0m\u001b[0;34m.\u001b[0m\u001b[0msleep\u001b[0m\u001b[0;34m(\u001b[0m\u001b[0;36m2.5\u001b[0m\u001b[0;34m)\u001b[0m\u001b[0;34m\u001b[0m\u001b[0;34m\u001b[0m\u001b[0m\n",
      "\u001b[0;32m/var/folders/nm/lm6vpz5s5v7_bt4xx0jq3fq00000gn/T/ipykernel_11568/2829123741.py\u001b[0m in \u001b[0;36mrun\u001b[0;34m()\u001b[0m\n\u001b[1;32m      3\u001b[0m     \u001b[0;32mwhile\u001b[0m \u001b[0;32mnot\u001b[0m \u001b[0mgo\u001b[0m \u001b[0;34m:\u001b[0m\u001b[0;34m\u001b[0m\u001b[0;34m\u001b[0m\u001b[0m\n\u001b[1;32m      4\u001b[0m         \u001b[0;32mtry\u001b[0m \u001b[0;34m:\u001b[0m\u001b[0;34m\u001b[0m\u001b[0;34m\u001b[0m\u001b[0m\n\u001b[0;32m----> 5\u001b[0;31m             \u001b[0mscreenshot\u001b[0m \u001b[0;34m=\u001b[0m \u001b[0mtake_screenshot\u001b[0m\u001b[0;34m(\u001b[0m\u001b[0;34m)\u001b[0m\u001b[0;34m\u001b[0m\u001b[0;34m\u001b[0m\u001b[0m\n\u001b[0m\u001b[1;32m      6\u001b[0m             \u001b[0;31m#print(pipeline.recognize(screenshot))\u001b[0m\u001b[0;34m\u001b[0m\u001b[0;34m\u001b[0m\u001b[0m\n\u001b[1;32m      7\u001b[0m             \u001b[0mtext\u001b[0m\u001b[0;34m,\u001b[0m\u001b[0m_\u001b[0m \u001b[0;34m=\u001b[0m \u001b[0mpipeline\u001b[0m\u001b[0;34m.\u001b[0m\u001b[0mrecognize\u001b[0m\u001b[0;34m(\u001b[0m\u001b[0;34m[\u001b[0m\u001b[0mscreenshot\u001b[0m\u001b[0;34m]\u001b[0m\u001b[0;34m)\u001b[0m\u001b[0;34m[\u001b[0m\u001b[0;36m0\u001b[0m\u001b[0;34m]\u001b[0m\u001b[0;34m[\u001b[0m\u001b[0;36m0\u001b[0m\u001b[0;34m]\u001b[0m\u001b[0;34m\u001b[0m\u001b[0;34m\u001b[0m\u001b[0m\n",
      "\u001b[0;32m/var/folders/nm/lm6vpz5s5v7_bt4xx0jq3fq00000gn/T/ipykernel_11568/3212483055.py\u001b[0m in \u001b[0;36mtake_screenshot\u001b[0;34m()\u001b[0m\n\u001b[1;32m     11\u001b[0m     \u001b[0mscreen\u001b[0m \u001b[0;34m=\u001b[0m \u001b[0mscreenshot\u001b[0m\u001b[0;34m(\u001b[0m\u001b[0mtriangle_area\u001b[0m\u001b[0;34m)\u001b[0m\u001b[0;34m.\u001b[0m\u001b[0mconvert\u001b[0m\u001b[0;34m(\u001b[0m\u001b[0;34m\"L\"\u001b[0m\u001b[0;34m)\u001b[0m\u001b[0;34m\u001b[0m\u001b[0;34m\u001b[0m\u001b[0m\n\u001b[1;32m     12\u001b[0m     \u001b[0marray\u001b[0m \u001b[0;34m=\u001b[0m \u001b[0mnp\u001b[0m\u001b[0;34m.\u001b[0m\u001b[0marray\u001b[0m\u001b[0;34m(\u001b[0m\u001b[0mscreen\u001b[0m\u001b[0;34m)\u001b[0m\u001b[0;34m\u001b[0m\u001b[0;34m\u001b[0m\u001b[0m\n\u001b[0;32m---> 13\u001b[0;31m     \u001b[0mtext_screen\u001b[0m \u001b[0;34m=\u001b[0m \u001b[0mscreenshot\u001b[0m\u001b[0;34m(\u001b[0m\u001b[0mtext_area\u001b[0m\u001b[0;34m)\u001b[0m\u001b[0;34m.\u001b[0m\u001b[0mconvert\u001b[0m\u001b[0;34m(\u001b[0m\u001b[0;34m\"RGB\"\u001b[0m\u001b[0;34m)\u001b[0m\u001b[0;34m\u001b[0m\u001b[0;34m\u001b[0m\u001b[0m\n\u001b[0m\u001b[1;32m     14\u001b[0m     \u001b[0;31m#plot_img(text_screen,cmap='gray')\u001b[0m\u001b[0;34m\u001b[0m\u001b[0;34m\u001b[0m\u001b[0m\n\u001b[1;32m     15\u001b[0m     \u001b[0;32mreturn\u001b[0m \u001b[0mnp\u001b[0m\u001b[0;34m.\u001b[0m\u001b[0marray\u001b[0m\u001b[0;34m(\u001b[0m\u001b[0mtext_screen\u001b[0m\u001b[0;34m)\u001b[0m\u001b[0;34m\u001b[0m\u001b[0;34m\u001b[0m\u001b[0m\n",
      "\u001b[0;32m/var/folders/nm/lm6vpz5s5v7_bt4xx0jq3fq00000gn/T/ipykernel_11568/1221973155.py\u001b[0m in \u001b[0;36mscreenshot\u001b[0;34m(bbox)\u001b[0m\n\u001b[1;32m      1\u001b[0m \u001b[0;32mdef\u001b[0m \u001b[0mscreenshot\u001b[0m\u001b[0;34m(\u001b[0m\u001b[0mbbox\u001b[0m\u001b[0;34m=\u001b[0m\u001b[0;32mNone\u001b[0m\u001b[0;34m)\u001b[0m\u001b[0;34m:\u001b[0m \u001b[0;31m#bbox format : left - top - width - height\u001b[0m\u001b[0;34m\u001b[0m\u001b[0;34m\u001b[0m\u001b[0m\n\u001b[0;32m----> 2\u001b[0;31m     \u001b[0;32mreturn\u001b[0m \u001b[0mpyautogui\u001b[0m\u001b[0;34m.\u001b[0m\u001b[0mscreenshot\u001b[0m\u001b[0;34m(\u001b[0m\u001b[0mregion\u001b[0m\u001b[0;34m=\u001b[0m\u001b[0mbbox\u001b[0m\u001b[0;34m)\u001b[0m\u001b[0;34m\u001b[0m\u001b[0;34m\u001b[0m\u001b[0m\n\u001b[0m\u001b[1;32m      3\u001b[0m \u001b[0;34m\u001b[0m\u001b[0m\n\u001b[1;32m      4\u001b[0m \u001b[0mFIGSIZE\u001b[0m \u001b[0;34m=\u001b[0m \u001b[0;34m(\u001b[0m\u001b[0;36m6\u001b[0m\u001b[0;34m,\u001b[0m\u001b[0;36m6\u001b[0m\u001b[0;34m)\u001b[0m\u001b[0;34m\u001b[0m\u001b[0;34m\u001b[0m\u001b[0m\n\u001b[1;32m      5\u001b[0m \u001b[0;32mdef\u001b[0m \u001b[0mplot_img\u001b[0m\u001b[0;34m(\u001b[0m\u001b[0mimage\u001b[0m\u001b[0;34m,\u001b[0m \u001b[0mfigsize\u001b[0m\u001b[0;34m=\u001b[0m\u001b[0mFIGSIZE\u001b[0m\u001b[0;34m,\u001b[0m\u001b[0mcmap\u001b[0m\u001b[0;34m=\u001b[0m\u001b[0;32mNone\u001b[0m\u001b[0;34m,\u001b[0m\u001b[0mimage_name\u001b[0m \u001b[0;34m=\u001b[0m \u001b[0;34m'image.png'\u001b[0m\u001b[0;34m)\u001b[0m\u001b[0;34m:\u001b[0m\u001b[0;34m\u001b[0m\u001b[0;34m\u001b[0m\u001b[0m\n",
      "\u001b[0;32m~/opt/anaconda3/lib/python3.9/site-packages/pyscreeze/__init__.py\u001b[0m in \u001b[0;36m_screenshot_osx\u001b[0;34m(imageFilename, region)\u001b[0m\n\u001b[1;32m    474\u001b[0m     \u001b[0;32melse\u001b[0m\u001b[0;34m:\u001b[0m\u001b[0;34m\u001b[0m\u001b[0;34m\u001b[0m\u001b[0m\n\u001b[1;32m    475\u001b[0m         \u001b[0mtmpFilename\u001b[0m \u001b[0;34m=\u001b[0m \u001b[0mimageFilename\u001b[0m\u001b[0;34m\u001b[0m\u001b[0;34m\u001b[0m\u001b[0m\n\u001b[0;32m--> 476\u001b[0;31m     \u001b[0msubprocess\u001b[0m\u001b[0;34m.\u001b[0m\u001b[0mcall\u001b[0m\u001b[0;34m(\u001b[0m\u001b[0;34m[\u001b[0m\u001b[0;34m'screencapture'\u001b[0m\u001b[0;34m,\u001b[0m \u001b[0;34m'-x'\u001b[0m\u001b[0;34m,\u001b[0m \u001b[0mtmpFilename\u001b[0m\u001b[0;34m]\u001b[0m\u001b[0;34m)\u001b[0m\u001b[0;34m\u001b[0m\u001b[0;34m\u001b[0m\u001b[0m\n\u001b[0m\u001b[1;32m    477\u001b[0m     \u001b[0mim\u001b[0m \u001b[0;34m=\u001b[0m \u001b[0mImage\u001b[0m\u001b[0;34m.\u001b[0m\u001b[0mopen\u001b[0m\u001b[0;34m(\u001b[0m\u001b[0mtmpFilename\u001b[0m\u001b[0;34m)\u001b[0m\u001b[0;34m\u001b[0m\u001b[0;34m\u001b[0m\u001b[0m\n\u001b[1;32m    478\u001b[0m \u001b[0;34m\u001b[0m\u001b[0m\n",
      "\u001b[0;32m~/opt/anaconda3/lib/python3.9/subprocess.py\u001b[0m in \u001b[0;36mcall\u001b[0;34m(timeout, *popenargs, **kwargs)\u001b[0m\n\u001b[1;32m    349\u001b[0m     \u001b[0;32mwith\u001b[0m \u001b[0mPopen\u001b[0m\u001b[0;34m(\u001b[0m\u001b[0;34m*\u001b[0m\u001b[0mpopenargs\u001b[0m\u001b[0;34m,\u001b[0m \u001b[0;34m**\u001b[0m\u001b[0mkwargs\u001b[0m\u001b[0;34m)\u001b[0m \u001b[0;32mas\u001b[0m \u001b[0mp\u001b[0m\u001b[0;34m:\u001b[0m\u001b[0;34m\u001b[0m\u001b[0;34m\u001b[0m\u001b[0m\n\u001b[1;32m    350\u001b[0m         \u001b[0;32mtry\u001b[0m\u001b[0;34m:\u001b[0m\u001b[0;34m\u001b[0m\u001b[0;34m\u001b[0m\u001b[0m\n\u001b[0;32m--> 351\u001b[0;31m             \u001b[0;32mreturn\u001b[0m \u001b[0mp\u001b[0m\u001b[0;34m.\u001b[0m\u001b[0mwait\u001b[0m\u001b[0;34m(\u001b[0m\u001b[0mtimeout\u001b[0m\u001b[0;34m=\u001b[0m\u001b[0mtimeout\u001b[0m\u001b[0;34m)\u001b[0m\u001b[0;34m\u001b[0m\u001b[0;34m\u001b[0m\u001b[0m\n\u001b[0m\u001b[1;32m    352\u001b[0m         \u001b[0;32mexcept\u001b[0m\u001b[0;34m:\u001b[0m  \u001b[0;31m# Including KeyboardInterrupt, wait handled that.\u001b[0m\u001b[0;34m\u001b[0m\u001b[0;34m\u001b[0m\u001b[0m\n\u001b[1;32m    353\u001b[0m             \u001b[0mp\u001b[0m\u001b[0;34m.\u001b[0m\u001b[0mkill\u001b[0m\u001b[0;34m(\u001b[0m\u001b[0;34m)\u001b[0m\u001b[0;34m\u001b[0m\u001b[0;34m\u001b[0m\u001b[0m\n",
      "\u001b[0;32m~/opt/anaconda3/lib/python3.9/subprocess.py\u001b[0m in \u001b[0;36mwait\u001b[0;34m(self, timeout)\u001b[0m\n\u001b[1;32m   1187\u001b[0m             \u001b[0mendtime\u001b[0m \u001b[0;34m=\u001b[0m \u001b[0m_time\u001b[0m\u001b[0;34m(\u001b[0m\u001b[0;34m)\u001b[0m \u001b[0;34m+\u001b[0m \u001b[0mtimeout\u001b[0m\u001b[0;34m\u001b[0m\u001b[0;34m\u001b[0m\u001b[0m\n\u001b[1;32m   1188\u001b[0m         \u001b[0;32mtry\u001b[0m\u001b[0;34m:\u001b[0m\u001b[0;34m\u001b[0m\u001b[0;34m\u001b[0m\u001b[0m\n\u001b[0;32m-> 1189\u001b[0;31m             \u001b[0;32mreturn\u001b[0m \u001b[0mself\u001b[0m\u001b[0;34m.\u001b[0m\u001b[0m_wait\u001b[0m\u001b[0;34m(\u001b[0m\u001b[0mtimeout\u001b[0m\u001b[0;34m=\u001b[0m\u001b[0mtimeout\u001b[0m\u001b[0;34m)\u001b[0m\u001b[0;34m\u001b[0m\u001b[0;34m\u001b[0m\u001b[0m\n\u001b[0m\u001b[1;32m   1190\u001b[0m         \u001b[0;32mexcept\u001b[0m \u001b[0mKeyboardInterrupt\u001b[0m\u001b[0;34m:\u001b[0m\u001b[0;34m\u001b[0m\u001b[0;34m\u001b[0m\u001b[0m\n\u001b[1;32m   1191\u001b[0m             \u001b[0;31m# https://bugs.python.org/issue25942\u001b[0m\u001b[0;34m\u001b[0m\u001b[0;34m\u001b[0m\u001b[0m\n",
      "\u001b[0;32m~/opt/anaconda3/lib/python3.9/subprocess.py\u001b[0m in \u001b[0;36m_wait\u001b[0;34m(self, timeout)\u001b[0m\n\u001b[1;32m   1915\u001b[0m                         \u001b[0;32mif\u001b[0m \u001b[0mself\u001b[0m\u001b[0;34m.\u001b[0m\u001b[0mreturncode\u001b[0m \u001b[0;32mis\u001b[0m \u001b[0;32mnot\u001b[0m \u001b[0;32mNone\u001b[0m\u001b[0;34m:\u001b[0m\u001b[0;34m\u001b[0m\u001b[0;34m\u001b[0m\u001b[0m\n\u001b[1;32m   1916\u001b[0m                             \u001b[0;32mbreak\u001b[0m  \u001b[0;31m# Another thread waited.\u001b[0m\u001b[0;34m\u001b[0m\u001b[0;34m\u001b[0m\u001b[0m\n\u001b[0;32m-> 1917\u001b[0;31m                         \u001b[0;34m(\u001b[0m\u001b[0mpid\u001b[0m\u001b[0;34m,\u001b[0m \u001b[0msts\u001b[0m\u001b[0;34m)\u001b[0m \u001b[0;34m=\u001b[0m \u001b[0mself\u001b[0m\u001b[0;34m.\u001b[0m\u001b[0m_try_wait\u001b[0m\u001b[0;34m(\u001b[0m\u001b[0;36m0\u001b[0m\u001b[0;34m)\u001b[0m\u001b[0;34m\u001b[0m\u001b[0;34m\u001b[0m\u001b[0m\n\u001b[0m\u001b[1;32m   1918\u001b[0m                         \u001b[0;31m# Check the pid and loop as waitpid has been known to\u001b[0m\u001b[0;34m\u001b[0m\u001b[0;34m\u001b[0m\u001b[0m\n\u001b[1;32m   1919\u001b[0m                         \u001b[0;31m# return 0 even without WNOHANG in odd situations.\u001b[0m\u001b[0;34m\u001b[0m\u001b[0;34m\u001b[0m\u001b[0m\n",
      "\u001b[0;32m~/opt/anaconda3/lib/python3.9/subprocess.py\u001b[0m in \u001b[0;36m_try_wait\u001b[0;34m(self, wait_flags)\u001b[0m\n\u001b[1;32m   1873\u001b[0m             \u001b[0;34m\"\"\"All callers to this function MUST hold self._waitpid_lock.\"\"\"\u001b[0m\u001b[0;34m\u001b[0m\u001b[0;34m\u001b[0m\u001b[0m\n\u001b[1;32m   1874\u001b[0m             \u001b[0;32mtry\u001b[0m\u001b[0;34m:\u001b[0m\u001b[0;34m\u001b[0m\u001b[0;34m\u001b[0m\u001b[0m\n\u001b[0;32m-> 1875\u001b[0;31m                 \u001b[0;34m(\u001b[0m\u001b[0mpid\u001b[0m\u001b[0;34m,\u001b[0m \u001b[0msts\u001b[0m\u001b[0;34m)\u001b[0m \u001b[0;34m=\u001b[0m \u001b[0mos\u001b[0m\u001b[0;34m.\u001b[0m\u001b[0mwaitpid\u001b[0m\u001b[0;34m(\u001b[0m\u001b[0mself\u001b[0m\u001b[0;34m.\u001b[0m\u001b[0mpid\u001b[0m\u001b[0;34m,\u001b[0m \u001b[0mwait_flags\u001b[0m\u001b[0;34m)\u001b[0m\u001b[0;34m\u001b[0m\u001b[0;34m\u001b[0m\u001b[0m\n\u001b[0m\u001b[1;32m   1876\u001b[0m             \u001b[0;32mexcept\u001b[0m \u001b[0mChildProcessError\u001b[0m\u001b[0;34m:\u001b[0m\u001b[0;34m\u001b[0m\u001b[0;34m\u001b[0m\u001b[0m\n\u001b[1;32m   1877\u001b[0m                 \u001b[0;31m# This happens if SIGCLD is set to be ignored or waiting\u001b[0m\u001b[0;34m\u001b[0m\u001b[0;34m\u001b[0m\u001b[0m\n",
      "\u001b[0;31mKeyboardInterrupt\u001b[0m: "
     ]
    }
   ],
   "source": [
    "i = 0\n",
    "import time\n",
    "while i < 100 : \n",
    "    run()\n",
    "    if i < 5 : \n",
    "        time.sleep(2.5)\n",
    "    else:\n",
    "        time.sleep(0.3)\n",
    "    i += 1"
   ]
  }
 ],
 "metadata": {
  "kernelspec": {
   "display_name": "Python 3 (ipykernel)",
   "language": "python",
   "name": "python3"
  },
  "language_info": {
   "codemirror_mode": {
    "name": "ipython",
    "version": 3
   },
   "file_extension": ".py",
   "mimetype": "text/x-python",
   "name": "python",
   "nbconvert_exporter": "python",
   "pygments_lexer": "ipython3",
   "version": "3.9.7"
  }
 },
 "nbformat": 4,
 "nbformat_minor": 5
}
