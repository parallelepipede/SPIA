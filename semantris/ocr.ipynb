{
 "cells": [
  {
   "cell_type": "code",
   "execution_count": 24,
   "id": "6ceadbda",
   "metadata": {},
   "outputs": [],
   "source": [
    "import os\n",
    "import numpy as np\n",
    "import pandas as pd\n",
    "from sklearn.model_selection import train_test_split\n",
    "import tensorflow as tf \n",
    "from tensorflow import keras\n",
    "from tensorflow.keras import layers\n",
    "import string\n",
    "import matplotlib.pyplot as plt"
   ]
  },
  {
   "cell_type": "code",
   "execution_count": 25,
   "id": "d2092afb",
   "metadata": {},
   "outputs": [],
   "source": [
    "img_folder = 'completeBDD'\n",
    "#img_folder = '../captcha/samples/'"
   ]
  },
  {
   "cell_type": "code",
   "execution_count": 26,
   "id": "c96edbb5",
   "metadata": {},
   "outputs": [],
   "source": [
    "letters = string.ascii_letters\n",
    "WIDTH, HEIGHT = 280, 25\n",
    "#WIDTH, HEIGHT = 200, 50\n",
    "\n",
    "vocabulary = {'2','3','4','5','6','7','8','b','c','d','e','f','g','m','n','p','w','x','y'}\n",
    "char_to_num = {'2':0,'3':1,'4':2,'5':3,'6':4,'7':5,'8':6,'b':7,'c':8,'d':9,'e':10,'f':11,'g':12,'m':13,'n':14,'p':15,'w':16,'x':17,'y':18}"
   ]
  },
  {
   "cell_type": "code",
   "execution_count": 27,
   "id": "9c8d35c9",
   "metadata": {},
   "outputs": [],
   "source": [
    "def encode_single_image(img_path,label, crop = True, show = True):\n",
    "    img = tf.io.read_file(img_path)\n",
    "    img = tf.io.decode_png(img,channels = 1)\n",
    "    img = tf.image.convert_image_dtype(img, tf.float32)\n",
    "    if crop : \n",
    "        #img = tf.image.crop_to_bounding_box(img,offset_height = 0, offset_width = 0, target_height = 25, target_width = min(280*len(label)//30 + 10,img.shape[1]))\n",
    "        img = tf.image.crop_to_bounding_box(img,offset_height = 0, offset_width = 0, target_height = 25, target_width = 125)\n",
    "        img = tf.image.resize(img, size = [HEIGHT, WIDTH], method = 'bilinear', preserve_aspect_ratio = False, antialias = False, name = None)\n",
    "    if show : \n",
    "        plt.imshow(img, cmap = 'gray')\n",
    "    img = tf.transpose(img, perm=[1,0,2])\n",
    "    label = ''.join(label.split(' '))\n",
    "    label = list(map(lambda x : letters.index(x), label))\n",
    "    #label = list(map(lambda x:char_to_num[x], label))\n",
    "    return img.numpy(), label\n",
    "    "
   ]
  },
  {
   "cell_type": "code",
   "execution_count": 28,
   "id": "421f9e62",
   "metadata": {},
   "outputs": [
    {
     "data": {
      "image/png": "[encoded data removed]",
      "text/plain": [
       "<Figure size 432x288 with 1 Axes>"
      ]
     },
     "metadata": {
      "needs_background": "light"
     },
     "output_type": "display_data"
    }
   ],
   "source": [
    "img,label = encode_single_image(os.path.join(img_folder, 'CfsoaFCwHOuVXez.png'), 'CfsoaFCwHOuVXez', False, True)"
   ]
  },
  {
   "cell_type": "code",
   "execution_count": 29,
   "id": "9cc61790",
   "metadata": {},
   "outputs": [],
   "source": [
    "def create_train_valid_dataset():\n",
    "    X,y = [],[]\n",
    "    for _, _, files in os.walk(img_folder):\n",
    "        for f in files: \n",
    "            if not f.endswith('.png'):\n",
    "                continue\n",
    "            #print(f)\n",
    "            label = f.split('.')[0]\n",
    "            img,label = encode_single_image(os.path.join(img_folder, f), label,crop=False,show=False)\n",
    "            X.append(img)\n",
    "            y.append(label)\n",
    "    X,y = np.array(X).astype('float32'), np.array(y)\n",
    "    X_train,X_val, y_train, y_val = train_test_split(X, y, test_size = 0.1, shuffle = True, random_state = 42)\n",
    "    return X_train.astype('float32'), X_val.astype('float32'), y_train, y_val\n",
    "    #return  np.asarray(X_train).astype('float32'),np.asarray(X_val).astype('float32'), np.asarray(y_train).astype(int), np.asarray(y_val).astype(int)\n",
    "\n"
   ]
  },
  {
   "cell_type": "code",
   "execution_count": 30,
   "id": "39696a7f",
   "metadata": {},
   "outputs": [
    {
     "name": "stdout",
     "output_type": "stream",
     "text": [
      "(1800, 280, 25, 1) (200, 280, 25, 1) (1800,) (200,)\n"
     ]
    },
    {
     "name": "stderr",
     "output_type": "stream",
     "text": [
      "/var/folders/nm/lm6vpz5s5v7_bt4xx0jq3fq00000gn/T/ipykernel_5490/2744048437.py:12: VisibleDeprecationWarning: Creating an ndarray from ragged nested sequences (which is a list-or-tuple of lists-or-tuples-or ndarrays with different lengths or shapes) is deprecated. If you meant to do this, you must specify 'dtype=object' when creating the ndarray.\n",
      "  X,y = np.array(X).astype('float32'), np.array(y)\n"
     ]
    }
   ],
   "source": [
    "X_train,X_val, y_train, y_val  = create_train_valid_dataset()\n",
    "print(X_train.shape,X_val.shape, y_train.shape, y_val.shape)"
   ]
  },
  {
   "cell_type": "code",
   "execution_count": null,
   "id": "744101cd",
   "metadata": {},
   "outputs": [],
   "source": []
  },
  {
   "cell_type": "code",
   "execution_count": 31,
   "id": "f9332fa7",
   "metadata": {},
   "outputs": [
    {
     "data": {
      "text/plain": [
       "Text(0.5, 1.0, '[6, 6, 48, 36, 51, 35, 5, 46, 15, 41, 41, 23, 3, 41, 21, 14]')"
      ]
     },
     "execution_count": 31,
     "metadata": {},
     "output_type": "execute_result"
    },
    {
     "data": {
      "image/png": "[encoded data removed]",
      "text/plain": [
       "<Figure size 432x288 with 1 Axes>"
      ]
     },
     "metadata": {
      "needs_background": "light"
     },
     "output_type": "display_data"
    }
   ],
   "source": [
    "index = 11\n",
    "plt.imshow(X_train[index], cmap = 'gray')\n",
    "plt.title(y_train[index])"
   ]
  },
  {
   "cell_type": "code",
   "execution_count": 32,
   "id": "5e30f7dc",
   "metadata": {},
   "outputs": [],
   "source": [
    "## Dimension : (280, 25) -> (25,12,64) -> (nb character, 25*12*64/nb_character) -> (nb_character, len(letters))"
   ]
  },
  {
   "cell_type": "code",
   "execution_count": 33,
   "id": "136ab9cf",
   "metadata": {},
   "outputs": [],
   "source": [
    "def build_model2():\n",
    "    input_img = layers.Input(shape = (WIDTH,HEIGHT,1), name = 'image', dtype = 'float32')\n",
    "    x = layers.Conv2D(32,(3,3), activation = \"relu\", kernel_initializer = \"he_normal\", \n",
    "                      padding = \"same\", name = \"Conv1\")(input_img)\n",
    "    x = layers.MaxPooling2D((2,2), name = \"pool1\")(x)\n",
    "    x = layers.Conv2D(64, (3,3), activation = \"relu\", kernel_initializer = \"he_normal\", \n",
    "                      padding = \"same\", name = \"Conv2\")(x)\n",
    "    x = layers.MaxPooling2D((2,2), name = \"pool2\")(x)\n",
    "    x = layers.Reshape(target_shape = (5,-1), name = 'reshape')(x)\n",
    "    x = layers.Dense(256, activation = 'relu', name = \"dense1\")(x)\n",
    "    x = layers.Dense(64, activation = 'relu', name = 'dense2')(x)\n",
    "    output = layers.Dense(len(letters), activation = 'softmax', name = 'dense3')(x)\n",
    "    model = keras.models.Model(inputs = input_img, outputs = output, name = 'ocr')\n",
    "    #model = keras.models.Model(inputs = input_img, outputs = output, name = 'ocr')\n",
    "    model.compile(optimizer = keras.optimizers.Adam(), loss = \"sparse_categorical_crossentropy\", metrics = 'accuracy')\n",
    "    return model"
   ]
  },
  {
   "cell_type": "code",
   "execution_count": 34,
   "id": "e8de0478",
   "metadata": {},
   "outputs": [],
   "source": [
    "def vgg_style(x):\n",
    "    \"\"\"\n",
    "    The original feature extraction structure from CRNN paper.\n",
    "    Related paper: https://ieeexplore.ieee.org/abstract/document/7801919\n",
    "    \"\"\"\n",
    "    x = layers.Conv2D(\n",
    "        64, 3, padding='same', activation='relu', name='conv1')(x)\n",
    "    x = layers.MaxPool2D(pool_size=2, padding='same', name='pool1')(x)\n",
    "\n",
    "    x = layers.Conv2D(\n",
    "        128, 3, padding='same', activation='relu', name='conv2')(x)\n",
    "    x = layers.MaxPool2D(pool_size=2, padding='same', name='pool2')(x)\n",
    "\n",
    "    x = layers.Conv2D(256, 3, padding='same', use_bias=False, name='conv3')(x)\n",
    "    x = layers.BatchNormalization(name='bn3')(x)\n",
    "    x = layers.Activation('relu', name='relu3')(x)\n",
    "    x = layers.Conv2D(\n",
    "        256, 3, padding='same', activation='relu', name='conv4')(x)\n",
    "    x = layers.MaxPool2D(\n",
    "        pool_size=2, strides=(2, 1), padding='same', name='pool4')(x)\n",
    "\n",
    "    x = layers.Conv2D(512, 3, padding='same', use_bias=False, name='conv5')(x)\n",
    "    x = layers.BatchNormalization(name='bn5')(x)\n",
    "    x = layers.Activation('relu', name='relu5')(x)\n",
    "    x = layers.Conv2D(\n",
    "        512, 3, padding='same', activation='relu', name='conv6')(x)\n",
    "    x = layers.MaxPool2D(\n",
    "        pool_size=2, strides=(2, 1), padding='same', name='pool6')(x)\n",
    "\n",
    "    x = layers.Conv2D(512, 2, use_bias=False, name='conv7')(x)\n",
    "    x = layers.BatchNormalization(name='bn7')(x)\n",
    "    x = layers.Activation('relu', name='relu7')(x)\n",
    "\n",
    "    x = layers.Reshape((-1, 512), name='reshape7')(x)\n",
    "    return x\n",
    "\n",
    "\n",
    "def build_model(num_classes,\n",
    "                weight=None,\n",
    "                preprocess=None,\n",
    "                postprocess=None,\n",
    "                img_shape=(32, None, 3),\n",
    "                model_name='crnn'):\n",
    "    x = img_input = keras.Input(shape=img_shape)\n",
    "    if preprocess is not None:\n",
    "        x = preprocess(x)\n",
    "    \n",
    "    x = vgg_style(x)\n",
    "    x = layers.Bidirectional(\n",
    "        layers.LSTM(units=256, return_sequences=True), name='bi_lstm1')(x)\n",
    "    x = layers.Bidirectional(\n",
    "        layers.LSTM(units=256, return_sequences=True), name='bi_lstm2')(x)\n",
    "    x = layers.Dense(units=num_classes, name='logits')(x)\n",
    "    \n",
    "    if postprocess is not None:\n",
    "        x = postprocess(x)\n",
    "\n",
    "    model = keras.Model(inputs=img_input, outputs=x, name=model_name)\n",
    "    if weight is not None:\n",
    "        model.load_weights(weight, by_name=True, skip_mismatch=True)\n",
    "    return model"
   ]
  },
  {
   "cell_type": "code",
   "execution_count": 35,
   "id": "566679f0",
   "metadata": {},
   "outputs": [],
   "source": [
    "class CTCLoss(keras.losses.Loss):\n",
    "    \"\"\" A class that wraps the function of tf.nn.ctc_loss. \n",
    "    \n",
    "    Attributes:\n",
    "        logits_time_major: If False (default) , shape is [batch, time, logits], \n",
    "            If True, logits is shaped [time, batch, logits]. \n",
    "        blank_index: Set the class index to use for the blank label. default is\n",
    "            -1 (num_classes - 1). \n",
    "    \"\"\"\n",
    "\n",
    "    def __init__(self, logits_time_major=False, blank_index=-1, \n",
    "                 name='ctc_loss'):\n",
    "        super().__init__(name=name)\n",
    "        self.logits_time_major = logits_time_major\n",
    "        self.blank_index = blank_index\n",
    "\n",
    "    def call(self, y_true, y_pred):\n",
    "        \"\"\" Computes CTC (Connectionist Temporal Classification) loss. work on\n",
    "        CPU, because y_true is a SparseTensor.\n",
    "        \"\"\"\n",
    "        y_true = tf.cast(y_true, tf.int32)\n",
    "        y_pred_shape = tf.shape(y_pred)\n",
    "        logit_length = tf.fill([y_pred_shape[0]], y_pred_shape[1])\n",
    "        loss = tf.nn.ctc_loss(\n",
    "            labels=y_true,\n",
    "            logits=y_pred,\n",
    "            label_length=None,\n",
    "            logit_length=logit_length,\n",
    "            logits_time_major=self.logits_time_major,\n",
    "            blank_index=self.blank_index)\n",
    "        return tf.math.reduce_mean(loss)"
   ]
  },
  {
   "cell_type": "code",
   "execution_count": 36,
   "id": "496b452f",
   "metadata": {},
   "outputs": [],
   "source": [
    "class SequenceAccuracy(keras.metrics.Metric):\n",
    "    def __init__(self, name='sequence_accuracy', **kwargs):\n",
    "        super().__init__(name=name, **kwargs)\n",
    "        self.total = self.add_weight(name='total', initializer='zeros')\n",
    "        self.count = self.add_weight(name='count', initializer='zeros')\n",
    "                \n",
    "    def update_state(self, y_true, y_pred, sample_weight=None):\n",
    "\n",
    "        def sparse2dense(tensor, shape):\n",
    "            tensor = tf.sparse.reset_shape(tensor, shape)\n",
    "            tensor = tf.sparse.to_dense(tensor, default_value=-1)\n",
    "            tensor = tf.cast(tensor, tf.float32)\n",
    "            return tensor\n",
    "\n",
    "        y_true_shape = tf.shape(y_true)\n",
    "        batch_size = y_true_shape[0]\n",
    "        y_pred_shape = tf.shape(y_pred)\n",
    "        max_width = tf.math.maximum(y_true_shape[1], y_pred_shape[1])\n",
    "        logit_length = tf.fill([batch_size], y_pred_shape[1])      \n",
    "        decoded, _ = tf.nn.ctc_greedy_decoder(\n",
    "            inputs=tf.transpose(y_pred, perm=[1, 0, 2]),\n",
    "            sequence_length=logit_length)\n",
    "        y_true = sparse2dense(y_true, [batch_size, max_width])\n",
    "        y_pred = sparse2dense(decoded[0], [batch_size, max_width])\n",
    "        num_errors = tf.math.reduce_any(\n",
    "            tf.math.not_equal(y_true, y_pred), axis=1)\n",
    "        num_errors = tf.cast(num_errors, tf.float32)\n",
    "        num_errors = tf.math.reduce_sum(num_errors)\n",
    "        batch_size = tf.cast(batch_size, tf.float32)\n",
    "        self.total.assign_add(batch_size)\n",
    "        self.count.assign_add(batch_size - num_errors)\n",
    "\n",
    "    def result(self):\n",
    "        return self.count / self.total\n",
    "\n",
    "    def reset_states(self):\n",
    "        self.count.assign(0)\n",
    "        self.total.assign(0)"
   ]
  },
  {
   "cell_type": "code",
   "execution_count": 23,
   "id": "f0a8dd6e",
   "metadata": {},
   "outputs": [
    {
     "name": "stdout",
     "output_type": "stream",
     "text": [
      "WARNING:tensorflow:There are non-GPU devices in `tf.distribute.Strategy`, not using nccl allreduce.\n",
      "INFO:tensorflow:Using MirroredStrategy with devices ('/job:localhost/replica:0/task:0/device:CPU:0',)\n",
      "Model: \"crnn\"\n",
      "_________________________________________________________________\n",
      " Layer (type)                Output Shape              Param #   \n",
      "=================================================================\n",
      " input_7 (InputLayer)        [(None, 32, None, 3)]     0         \n",
      "                                                                 \n",
      " conv1 (Conv2D)              (None, 32, None, 64)      1792      \n",
      "                                                                 \n",
      " pool1 (MaxPooling2D)        (None, 16, None, 64)      0         \n",
      "                                                                 \n",
      " conv2 (Conv2D)              (None, 16, None, 128)     73856     \n",
      "                                                                 \n",
      " pool2 (MaxPooling2D)        (None, 8, None, 128)      0         \n",
      "                                                                 \n",
      " conv3 (Conv2D)              (None, 8, None, 256)      294912    \n",
      "                                                                 \n",
      " bn3 (BatchNormalization)    (None, 8, None, 256)      1024      \n",
      "                                                                 \n",
      " relu3 (Activation)          (None, 8, None, 256)      0         \n",
      "                                                                 \n",
      " conv4 (Conv2D)              (None, 8, None, 256)      590080    \n",
      "                                                                 \n",
      " pool4 (MaxPooling2D)        (None, 4, None, 256)      0         \n",
      "                                                                 \n",
      " conv5 (Conv2D)              (None, 4, None, 512)      1179648   \n",
      "                                                                 \n",
      " bn5 (BatchNormalization)    (None, 4, None, 512)      2048      \n",
      "                                                                 \n",
      " relu5 (Activation)          (None, 4, None, 512)      0         \n",
      "                                                                 \n",
      " conv6 (Conv2D)              (None, 4, None, 512)      2359808   \n",
      "                                                                 \n",
      " pool6 (MaxPooling2D)        (None, 2, None, 512)      0         \n",
      "                                                                 \n",
      " conv7 (Conv2D)              (None, 1, None, 512)      1048576   \n",
      "                                                                 \n",
      " bn7 (BatchNormalization)    (None, 1, None, 512)      2048      \n",
      "                                                                 \n",
      " relu7 (Activation)          (None, 1, None, 512)      0         \n",
      "                                                                 \n",
      " reshape7 (Reshape)          (None, None, 512)         0         \n",
      "                                                                 \n",
      " bi_lstm1 (Bidirectional)    (None, None, 512)         1574912   \n",
      "                                                                 \n",
      " bi_lstm2 (Bidirectional)    (None, None, 512)         1574912   \n",
      "                                                                 \n",
      " logits (Dense)              (None, None, 52)          26676     \n",
      "                                                                 \n",
      "=================================================================\n",
      "Total params: 8,730,292\n",
      "Trainable params: 8,727,732\n",
      "Non-trainable params: 2,560\n",
      "_________________________________________________________________\n"
     ]
    },
    {
     "data": {
      "text/plain": [
       "\"\\nmodel_prefix = '{epoch}_{val_loss:.4f}_{val_sequence_accuracy:.4f}'\\nmodel_path = f'{args.save_dir}/{model_prefix}.h5'\\ncallbacks = [\\n    keras.callbacks.ModelCheckpoint(model_path,\\n                                    save_weights_only=True),\\n    keras.callbacks.TensorBoard(log_dir=f'{args.save_dir}/logs',\\n                                **config['tensorboard'])\\n]\\n\""
      ]
     },
     "execution_count": 23,
     "metadata": {},
     "output_type": "execute_result"
    }
   ],
   "source": [
    "strategy = tf.distribute.MirroredStrategy()\n",
    "with strategy.scope():\n",
    "    lr_schedule = keras.optimizers.schedules.CosineDecay(initial_learning_rate=0.0001, decay_steps= 600_000, alpha=0.01, name=\"Cosine\")\n",
    "    model = build_model(len(letters),weight=None,img_shape=[32, None, 3])\n",
    "\n",
    "    model.compile(optimizer=keras.optimizers.Adam(lr_schedule),loss=CTCLoss(), metrics=[SequenceAccuracy()])\n",
    "\n",
    "model.summary()\n",
    "\"\"\"\n",
    "model_prefix = '{epoch}_{val_loss:.4f}_{val_sequence_accuracy:.4f}'\n",
    "model_path = f'{args.save_dir}/{model_prefix}.h5'\n",
    "callbacks = [\n",
    "    keras.callbacks.ModelCheckpoint(model_path,\n",
    "                                    save_weights_only=True),\n",
    "    keras.callbacks.TensorBoard(log_dir=f'{args.save_dir}/logs',\n",
    "                                **config['tensorboard'])\n",
    "]\n",
    "\"\"\"\n",
    "\n"
   ]
  },
  {
   "cell_type": "code",
   "execution_count": 17,
   "id": "93d9d5ff",
   "metadata": {},
   "outputs": [
    {
     "name": "stdout",
     "output_type": "stream",
     "text": [
      "Model: \"crnn\"\n",
      "_________________________________________________________________\n",
      " Layer (type)                Output Shape              Param #   \n",
      "=================================================================\n",
      " input_5 (InputLayer)        [(None, 32, None, 3)]     0         \n",
      "                                                                 \n",
      " conv1 (Conv2D)              (None, 32, None, 64)      1792      \n",
      "                                                                 \n",
      " pool1 (MaxPooling2D)        (None, 16, None, 64)      0         \n",
      "                                                                 \n",
      " conv2 (Conv2D)              (None, 16, None, 128)     73856     \n",
      "                                                                 \n",
      " pool2 (MaxPooling2D)        (None, 8, None, 128)      0         \n",
      "                                                                 \n",
      " conv3 (Conv2D)              (None, 8, None, 256)      294912    \n",
      "                                                                 \n",
      " bn3 (BatchNormalization)    (None, 8, None, 256)      1024      \n",
      "                                                                 \n",
      " relu3 (Activation)          (None, 8, None, 256)      0         \n",
      "                                                                 \n",
      " conv4 (Conv2D)              (None, 8, None, 256)      590080    \n",
      "                                                                 \n",
      " pool4 (MaxPooling2D)        (None, 4, None, 256)      0         \n",
      "                                                                 \n",
      " conv5 (Conv2D)              (None, 4, None, 512)      1179648   \n",
      "                                                                 \n",
      " bn5 (BatchNormalization)    (None, 4, None, 512)      2048      \n",
      "                                                                 \n",
      " relu5 (Activation)          (None, 4, None, 512)      0         \n",
      "                                                                 \n",
      " conv6 (Conv2D)              (None, 4, None, 512)      2359808   \n",
      "                                                                 \n",
      " pool6 (MaxPooling2D)        (None, 2, None, 512)      0         \n",
      "                                                                 \n",
      " conv7 (Conv2D)              (None, 1, None, 512)      1048576   \n",
      "                                                                 \n",
      " bn7 (BatchNormalization)    (None, 1, None, 512)      2048      \n",
      "                                                                 \n",
      " relu7 (Activation)          (None, 1, None, 512)      0         \n",
      "                                                                 \n",
      " reshape7 (Reshape)          (None, None, 512)         0         \n",
      "                                                                 \n",
      " bi_lstm1 (Bidirectional)    (None, None, 512)         1574912   \n",
      "                                                                 \n",
      " bi_lstm2 (Bidirectional)    (None, None, 512)         1574912   \n",
      "                                                                 \n",
      " logits (Dense)              (None, None, 52)          26676     \n",
      "                                                                 \n",
      "=================================================================\n",
      "Total params: 8,730,292\n",
      "Trainable params: 8,727,732\n",
      "Non-trainable params: 2,560\n",
      "_________________________________________________________________\n"
     ]
    }
   ],
   "source": [
    "X_train,X_val, y_train, y_val = create_train_valid_dataset()\n",
    "#history = model.fit(x = X_train, y = y_train, validation_data=(X_val, y_val), epochs = 10) \n",
    "early_stopping = keras.callbacks.EarlyStopping(monitor=\"val_loss\", patience = 10, restore_best_weights = True)\n",
    "history = model.fit(x = [X_train,y_train],\n",
    "                    y = y_train,\n",
    "                    validation_data = ([X_val,y_val],y_val),\n",
    "                    epochs = 10,\n",
    "                    callbacks = [early_stopping])"
   ]
  },
  {
   "cell_type": "code",
   "execution_count": 668,
   "id": "45081219",
   "metadata": {},
   "outputs": [
    {
     "name": "stderr",
     "output_type": "stream",
     "text": [
      "/var/folders/nm/lm6vpz5s5v7_bt4xx0jq3fq00000gn/T/ipykernel_17125/2744048437.py:12: VisibleDeprecationWarning: Creating an ndarray from ragged nested sequences (which is a list-or-tuple of lists-or-tuples-or ndarrays with different lengths or shapes) is deprecated. If you meant to do this, you must specify 'dtype=object' when creating the ndarray.\n",
      "  X,y = np.array(X).astype('float32'), np.array(y)\n"
     ]
    },
    {
     "ename": "ValueError",
     "evalue": "Failed to convert a NumPy array to a Tensor (Unsupported object type list).",
     "output_type": "error",
     "traceback": [
      "\u001b[0;31m---------------------------------------------------------------------------\u001b[0m",
      "\u001b[0;31mValueError\u001b[0m                                Traceback (most recent call last)",
      "\u001b[0;32m/var/folders/nm/lm6vpz5s5v7_bt4xx0jq3fq00000gn/T/ipykernel_17125/735650366.py\u001b[0m in \u001b[0;36m<module>\u001b[0;34m\u001b[0m\n\u001b[1;32m      1\u001b[0m \u001b[0mX_train\u001b[0m\u001b[0;34m,\u001b[0m\u001b[0mX_val\u001b[0m\u001b[0;34m,\u001b[0m \u001b[0my_train\u001b[0m\u001b[0;34m,\u001b[0m \u001b[0my_val\u001b[0m \u001b[0;34m=\u001b[0m \u001b[0mcreate_train_valid_dataset\u001b[0m\u001b[0;34m(\u001b[0m\u001b[0;34m)\u001b[0m\u001b[0;34m\u001b[0m\u001b[0;34m\u001b[0m\u001b[0m\n\u001b[0;32m----> 2\u001b[0;31m \u001b[0mhistory\u001b[0m \u001b[0;34m=\u001b[0m \u001b[0mmodel\u001b[0m\u001b[0;34m.\u001b[0m\u001b[0mfit\u001b[0m\u001b[0;34m(\u001b[0m\u001b[0mx\u001b[0m \u001b[0;34m=\u001b[0m \u001b[0mX_train\u001b[0m\u001b[0;34m,\u001b[0m \u001b[0my\u001b[0m \u001b[0;34m=\u001b[0m \u001b[0my_train\u001b[0m\u001b[0;34m,\u001b[0m \u001b[0mvalidation_data\u001b[0m\u001b[0;34m=\u001b[0m\u001b[0;34m(\u001b[0m\u001b[0mX_val\u001b[0m\u001b[0;34m,\u001b[0m \u001b[0my_val\u001b[0m\u001b[0;34m)\u001b[0m\u001b[0;34m,\u001b[0m \u001b[0mepochs\u001b[0m \u001b[0;34m=\u001b[0m \u001b[0;36m30\u001b[0m\u001b[0;34m)\u001b[0m\u001b[0;34m\u001b[0m\u001b[0;34m\u001b[0m\u001b[0m\n\u001b[0m",
      "\u001b[0;32m~/opt/anaconda3/lib/python3.9/site-packages/keras/utils/traceback_utils.py\u001b[0m in \u001b[0;36merror_handler\u001b[0;34m(*args, **kwargs)\u001b[0m\n\u001b[1;32m     65\u001b[0m     \u001b[0;32mexcept\u001b[0m \u001b[0mException\u001b[0m \u001b[0;32mas\u001b[0m \u001b[0me\u001b[0m\u001b[0;34m:\u001b[0m  \u001b[0;31m# pylint: disable=broad-except\u001b[0m\u001b[0;34m\u001b[0m\u001b[0;34m\u001b[0m\u001b[0m\n\u001b[1;32m     66\u001b[0m       \u001b[0mfiltered_tb\u001b[0m \u001b[0;34m=\u001b[0m \u001b[0m_process_traceback_frames\u001b[0m\u001b[0;34m(\u001b[0m\u001b[0me\u001b[0m\u001b[0;34m.\u001b[0m\u001b[0m__traceback__\u001b[0m\u001b[0;34m)\u001b[0m\u001b[0;34m\u001b[0m\u001b[0;34m\u001b[0m\u001b[0m\n\u001b[0;32m---> 67\u001b[0;31m       \u001b[0;32mraise\u001b[0m \u001b[0me\u001b[0m\u001b[0;34m.\u001b[0m\u001b[0mwith_traceback\u001b[0m\u001b[0;34m(\u001b[0m\u001b[0mfiltered_tb\u001b[0m\u001b[0;34m)\u001b[0m \u001b[0;32mfrom\u001b[0m \u001b[0;32mNone\u001b[0m\u001b[0;34m\u001b[0m\u001b[0;34m\u001b[0m\u001b[0m\n\u001b[0m\u001b[1;32m     68\u001b[0m     \u001b[0;32mfinally\u001b[0m\u001b[0;34m:\u001b[0m\u001b[0;34m\u001b[0m\u001b[0;34m\u001b[0m\u001b[0m\n\u001b[1;32m     69\u001b[0m       \u001b[0;32mdel\u001b[0m \u001b[0mfiltered_tb\u001b[0m\u001b[0;34m\u001b[0m\u001b[0;34m\u001b[0m\u001b[0m\n",
      "\u001b[0;32m~/opt/anaconda3/lib/python3.9/site-packages/tensorflow/python/framework/constant_op.py\u001b[0m in \u001b[0;36mconvert_to_eager_tensor\u001b[0;34m(value, ctx, dtype)\u001b[0m\n\u001b[1;32m    100\u001b[0m       \u001b[0mdtype\u001b[0m \u001b[0;34m=\u001b[0m \u001b[0mdtypes\u001b[0m\u001b[0;34m.\u001b[0m\u001b[0mas_dtype\u001b[0m\u001b[0;34m(\u001b[0m\u001b[0mdtype\u001b[0m\u001b[0;34m)\u001b[0m\u001b[0;34m.\u001b[0m\u001b[0mas_datatype_enum\u001b[0m\u001b[0;34m\u001b[0m\u001b[0;34m\u001b[0m\u001b[0m\n\u001b[1;32m    101\u001b[0m   \u001b[0mctx\u001b[0m\u001b[0;34m.\u001b[0m\u001b[0mensure_initialized\u001b[0m\u001b[0;34m(\u001b[0m\u001b[0;34m)\u001b[0m\u001b[0;34m\u001b[0m\u001b[0;34m\u001b[0m\u001b[0m\n\u001b[0;32m--> 102\u001b[0;31m   \u001b[0;32mreturn\u001b[0m \u001b[0mops\u001b[0m\u001b[0;34m.\u001b[0m\u001b[0mEagerTensor\u001b[0m\u001b[0;34m(\u001b[0m\u001b[0mvalue\u001b[0m\u001b[0;34m,\u001b[0m \u001b[0mctx\u001b[0m\u001b[0;34m.\u001b[0m\u001b[0mdevice_name\u001b[0m\u001b[0;34m,\u001b[0m \u001b[0mdtype\u001b[0m\u001b[0;34m)\u001b[0m\u001b[0;34m\u001b[0m\u001b[0;34m\u001b[0m\u001b[0m\n\u001b[0m\u001b[1;32m    103\u001b[0m \u001b[0;34m\u001b[0m\u001b[0m\n\u001b[1;32m    104\u001b[0m \u001b[0;34m\u001b[0m\u001b[0m\n",
      "\u001b[0;31mValueError\u001b[0m: Failed to convert a NumPy array to a Tensor (Unsupported object type list)."
     ]
    }
   ],
   "source": [
    "X_train,X_val, y_train, y_val = create_train_valid_dataset()\n",
    "history = model.fit(x = X_train, y = y_train, validation_data=(X_val, y_val), epochs = 30) "
   ]
  },
  {
   "cell_type": "code",
   "execution_count": null,
   "id": "ad9baaea",
   "metadata": {},
   "outputs": [],
   "source": [
    "fig = plt.figure(figsize=(20,5))\n",
    "fig.add_subplot(1,2,1)\n",
    "plt.plot(history.history['accuracy'])\n",
    "plt.plot(history.history['val_accuracy'])\n",
    "\n",
    "plt.title('Model accuracy')\n",
    "plt.ylabel('accuracy')\n",
    "plt.xlabel('epoch')\n",
    "plt.legend(['train', 'validation'], loc = 'upper left')\n",
    "plt.show()\n",
    "plt.plot(history.history['loss'])\n",
    "plt.plot(history.history['val_loss'])\n",
    "\n",
    "plt.title('Model loss')\n",
    "plt.ylabel('loss')\n",
    "plt.xlabel('epoch')\n",
    "plt.legend(['train', 'validation'], loc = 'upper left')"
   ]
  },
  {
   "cell_type": "code",
   "execution_count": null,
   "id": "e4f41c63",
   "metadata": {},
   "outputs": [],
   "source": [
    "y_pred = model.predict(X_val)\n",
    "y_pred_true = np.argmax(y_pred,axis = 2)"
   ]
  },
  {
   "cell_type": "code",
   "execution_count": null,
   "id": "471493d4",
   "metadata": {},
   "outputs": [],
   "source": [
    "np.sum(y_pred_true==y_val)/(y_pred.shape[0] * y_pred.shape[1])"
   ]
  },
  {
   "cell_type": "code",
   "execution_count": 618,
   "id": "5011a5dc",
   "metadata": {},
   "outputs": [
    {
     "data": {
      "image/png": "[encoded data removed]",
      "text/plain": [
       "<Figure size 1440x360 with 10 Axes>"
      ]
     },
     "metadata": {
      "needs_background": "light"
     },
     "output_type": "display_data"
    }
   ],
   "source": [
    "y_pred = model.predict(X_val)\n",
    "y_pred = np.argmax(y_pred, axis=2)\n",
    "num_to_char = {'-1':'UKN','0':'2','1':'3','2':'4','3':'5','4':'6','5':'7','6':'8','7':'b','8':'c','9':'d','10':'e','11':'f','12':'g','13':'m','14':'n','15':'p','16':'w','17':'x','18':'y'}\n",
    "nrow = 1\n",
    "fig=plt.figure(figsize=(20, 5))\n",
    "for i in range(0,10):\n",
    "    if i>4: nrow = 2\n",
    "    fig.add_subplot(nrow, 5, i+1)\n",
    "    plt.imshow(X_val[i].transpose((1,0,2)),cmap='gray')\n",
    "    #plt.title('Prediction : ' + str(list(map(lambda x:num_to_char[str(x)], y_pred[i]))))\n",
    "    #print(y_pred[i])\n",
    "    plt.title('Prediction : ' + str(list(map(lambda x:letters[x], y_pred[i]))))\n",
    "    plt.axis('off')\n",
    "plt.show() "
   ]
  },
  {
   "cell_type": "raw",
   "id": "f7bb4826",
   "metadata": {},
   "source": [
    "2eme partie avec un CNN LSTM \n",
    "\n",
    "Training : \n",
    "    - Image (25, 280\n",
    "    - Pre-processing, image (280,25)\n",
    "    - CNN (25, 12, 64)\n",
    "    - Reshape : (25, 768)\n",
    "    - Dense Layer : (25, 64)\n",
    "    - BRNN LSTM (50 time-steps) : (25, 256)\n",
    "    - BRNN LSTM (50 time-steps) : (25, 128)\n",
    "    - Dense Layer(25, 20)\n",
    "    - CTC Layer (len(title), 20)\n",
    "    - CTC Loss"
   ]
  },
  {
   "cell_type": "code",
   "execution_count": 528,
   "id": "f37f17b0",
   "metadata": {},
   "outputs": [],
   "source": [
    "class CTCLayer(layers.Layer):\n",
    "    \n",
    "    def __init__(self,name = None):\n",
    "        super().__init__(name = name)\n",
    "        self.loss_fn = keras.backend.ctc_batch_cost\n",
    "    \n",
    "    def call(self, y_true, y_pred):\n",
    "        \n",
    "        batch_len = tf.cast(tf.shape(y_true)[0], dtype = 'int64')\n",
    "        input_len = tf.cast(tf.shape(y_pred)[1], dtype = 'int64')\n",
    "        label_len = tf.cast(tf.shape(y_true)[1], dtype = 'int64')\n",
    "        \n",
    "        input_len *= tf.ones(shape = (batch_len, 1), dtype = 'int64')\n",
    "        label_len *= tf.ones(shape = (batch_len, 1), dtype = 'int64')\n",
    "        loss = self.loss_fn(y_true, y_pred, input_len, label_len)\n",
    "        \n",
    "        #y_pred_true = tf.math.argmax(y_pred,axis = 2)\n",
    "        #np.sum(y_pred_true==y_val)/(y_pred.shape[0] * y_pred.shape[1])\n",
    "        \n",
    "        #self.add_metric(tf.add(y_pred_true==y_true)/(y_pred.shape[0] * y_pred.shape[1]), name = 'metric')\n",
    "        self.add_loss(loss)\n",
    "        return y_pred"
   ]
  },
  {
   "cell_type": "code",
   "execution_count": 529,
   "id": "fdd0075c",
   "metadata": {},
   "outputs": [],
   "source": [
    "def build_lstm_cnn_model():\n",
    "    input_img = layers.Input(shape = (WIDTH,HEIGHT,1), name = 'image', dtype = 'float32')\n",
    "    labels = layers.Input(shape = (None,), name = \"label\", dtype = 'float32')\n",
    "    x = layers.Conv2D(32,(3,3), activation = \"relu\", kernel_initializer = \"he_normal\", \n",
    "                      padding = \"same\", name = \"Conv1\")(input_img)\n",
    "    x = layers.MaxPooling2D((2,2), name = \"pool1\")(x)\n",
    "    x = layers.Conv2D(64, (3,3), activation = \"relu\", kernel_initializer = \"he_normal\", \n",
    "                      padding = \"same\", name = \"Conv2\")(x)\n",
    "    x = layers.MaxPooling2D((2,2), name = \"pool2\")(x)\n",
    "    x = layers.Reshape(target_shape = (WIDTH//4,-1), name = 'reshape')(x)\n",
    "    x = layers.Dense(64, activation = 'relu', name = 'dense1')(x)\n",
    "    x = layers.Dropout(.2)(x)\n",
    "    x = layers.Bidirectional(layers.LSTM(128,return_sequences = True, dropout = .2))(x)\n",
    "    x = layers.Bidirectional(layers.LSTM(64,return_sequences = True, dropout = .25))(x)\n",
    "    x = layers.Dense(len(letters) + 1, activation = 'softmax', kernel_initializer='he_normal', name = 'dense2')(x)\n",
    "    \n",
    "    output = CTCLayer(name = \"ctc_loss\")(labels,x)\n",
    "    \n",
    "    model = keras.models.Model(inputs = [input_img,labels], outputs = output, name = 'ocr_cnn_bilstm')\n",
    "    #model = keras.models.Model(inputs = input_img, outputs = output, name = 'ocr')\n",
    "    #model.compile(optimizer = keras.optimizers.Adam())\n",
    "    model.compile(optimizer = keras.optimizers.SGD(learning_rate = 0.002, decay = 1e-6, momentum = 0.9, nesterov = True, clipnorm=5))\n",
    "    return model"
   ]
  },
  {
   "cell_type": "code",
   "execution_count": 530,
   "id": "61f1b63f",
   "metadata": {},
   "outputs": [
    {
     "name": "stdout",
     "output_type": "stream",
     "text": [
      "Model: \"ocr_cnn_bilstm\"\n",
      "__________________________________________________________________________________________________\n",
      " Layer (type)                   Output Shape         Param #     Connected to                     \n",
      "==================================================================================================\n",
      " image (InputLayer)             [(None, 280, 25, 1)  0           []                               \n",
      "                                ]                                                                 \n",
      "                                                                                                  \n",
      " Conv1 (Conv2D)                 (None, 280, 25, 32)  320         ['image[0][0]']                  \n",
      "                                                                                                  \n",
      " pool1 (MaxPooling2D)           (None, 140, 12, 32)  0           ['Conv1[0][0]']                  \n",
      "                                                                                                  \n",
      " Conv2 (Conv2D)                 (None, 140, 12, 64)  18496       ['pool1[0][0]']                  \n",
      "                                                                                                  \n",
      " pool2 (MaxPooling2D)           (None, 70, 6, 64)    0           ['Conv2[0][0]']                  \n",
      "                                                                                                  \n",
      " reshape (Reshape)              (None, 70, 384)      0           ['pool2[0][0]']                  \n",
      "                                                                                                  \n",
      " dense1 (Dense)                 (None, 70, 64)       24640       ['reshape[0][0]']                \n",
      "                                                                                                  \n",
      " dropout_10 (Dropout)           (None, 70, 64)       0           ['dense1[0][0]']                 \n",
      "                                                                                                  \n",
      " bidirectional_18 (Bidirectiona  (None, 70, 256)     197632      ['dropout_10[0][0]']             \n",
      " l)                                                                                               \n",
      "                                                                                                  \n",
      " bidirectional_19 (Bidirectiona  (None, 70, 128)     164352      ['bidirectional_18[0][0]']       \n",
      " l)                                                                                               \n",
      "                                                                                                  \n",
      " label (InputLayer)             [(None, None)]       0           []                               \n",
      "                                                                                                  \n",
      " dense2 (Dense)                 (None, 70, 53)       6837        ['bidirectional_19[0][0]']       \n",
      "                                                                                                  \n",
      " ctc_loss (CTCLayer)            (None, 70, 53)       0           ['label[0][0]',                  \n",
      "                                                                  'dense2[0][0]']                 \n",
      "                                                                                                  \n",
      "==================================================================================================\n",
      "Total params: 412,277\n",
      "Trainable params: 412,277\n",
      "Non-trainable params: 0\n",
      "__________________________________________________________________________________________________\n"
     ]
    }
   ],
   "source": [
    "model = build_lstm_cnn_model()\n",
    "model.summary()"
   ]
  },
  {
   "cell_type": "code",
   "execution_count": 535,
   "id": "f548a1ed",
   "metadata": {},
   "outputs": [
    {
     "name": "stdout",
     "output_type": "stream",
     "text": [
      "Epoch 1/100\n",
      "29/29 [==============================] - 10s 329ms/step - loss: 21.4600 - val_loss: 21.4996\n",
      "Epoch 2/100\n",
      "29/29 [==============================] - 9s 327ms/step - loss: 21.4531 - val_loss: 21.4929\n",
      "Epoch 3/100\n",
      "29/29 [==============================] - 10s 358ms/step - loss: 21.4534 - val_loss: 21.5159\n",
      "Epoch 4/100\n",
      "29/29 [==============================] - 10s 350ms/step - loss: 21.4474 - val_loss: 21.4962\n",
      "Epoch 5/100\n",
      "29/29 [==============================] - 10s 352ms/step - loss: 21.4386 - val_loss: 21.4920\n",
      "Epoch 6/100\n",
      "29/29 [==============================] - 10s 351ms/step - loss: 21.4472 - val_loss: 21.5051\n",
      "Epoch 7/100\n",
      "29/29 [==============================] - 10s 353ms/step - loss: 21.4483 - val_loss: 21.4856\n",
      "Epoch 8/100\n",
      "29/29 [==============================] - 11s 372ms/step - loss: 21.4406 - val_loss: 21.4884\n",
      "Epoch 9/100\n",
      "29/29 [==============================] - 10s 359ms/step - loss: 21.4350 - val_loss: 21.5011\n",
      "Epoch 10/100\n",
      "29/29 [==============================] - 10s 351ms/step - loss: 21.4243 - val_loss: 21.5089\n",
      "Epoch 11/100\n",
      "29/29 [==============================] - 10s 353ms/step - loss: 21.4214 - val_loss: 21.5004\n",
      "Epoch 12/100\n",
      "29/29 [==============================] - 10s 354ms/step - loss: 21.4188 - val_loss: 21.4780\n",
      "Epoch 13/100\n",
      "29/29 [==============================] - 10s 354ms/step - loss: 21.4154 - val_loss: 21.4903\n",
      "Epoch 14/100\n",
      "29/29 [==============================] - 10s 353ms/step - loss: 21.3929 - val_loss: 21.4748\n",
      "Epoch 15/100\n",
      "29/29 [==============================] - 10s 351ms/step - loss: 21.3772 - val_loss: 21.4735\n",
      "Epoch 16/100\n",
      "29/29 [==============================] - 10s 349ms/step - loss: 21.3568 - val_loss: 21.4689\n",
      "Epoch 17/100\n",
      "29/29 [==============================] - 10s 353ms/step - loss: 21.3270 - val_loss: 21.4729\n",
      "Epoch 18/100\n",
      "29/29 [==============================] - 10s 348ms/step - loss: 21.2744 - val_loss: 21.3613\n",
      "Epoch 19/100\n",
      "29/29 [==============================] - 10s 348ms/step - loss: 21.2006 - val_loss: 21.2449\n",
      "Epoch 20/100\n",
      "29/29 [==============================] - 10s 349ms/step - loss: 21.0171 - val_loss: 20.9910\n",
      "Epoch 21/100\n",
      "29/29 [==============================] - 10s 348ms/step - loss: 20.7816 - val_loss: 20.7241\n",
      "Epoch 22/100\n",
      "29/29 [==============================] - 10s 345ms/step - loss: 20.5508 - val_loss: 20.7219\n",
      "Epoch 23/100\n",
      "29/29 [==============================] - 10s 344ms/step - loss: 20.3719 - val_loss: 20.8338\n",
      "Epoch 24/100\n",
      "29/29 [==============================] - 10s 343ms/step - loss: 20.2506 - val_loss: 20.1775\n",
      "Epoch 25/100\n",
      "29/29 [==============================] - 10s 342ms/step - loss: 20.0875 - val_loss: 20.2419\n",
      "Epoch 26/100\n",
      "29/29 [==============================] - 10s 340ms/step - loss: 20.0162 - val_loss: 20.2429\n",
      "Epoch 27/100\n",
      "29/29 [==============================] - 10s 348ms/step - loss: 19.9421 - val_loss: 20.0670\n",
      "Epoch 28/100\n",
      "29/29 [==============================] - 11s 396ms/step - loss: 19.8872 - val_loss: 20.0680\n",
      "Epoch 29/100\n",
      "29/29 [==============================] - 10s 357ms/step - loss: 19.8570 - val_loss: 19.9819\n",
      "Epoch 30/100\n",
      "29/29 [==============================] - 10s 346ms/step - loss: 19.7796 - val_loss: 20.0214\n",
      "Epoch 31/100\n",
      "29/29 [==============================] - 10s 346ms/step - loss: 19.7349 - val_loss: 19.9728\n",
      "Epoch 32/100\n",
      "29/29 [==============================] - 10s 350ms/step - loss: 19.7246 - val_loss: 19.9816\n",
      "Epoch 33/100\n",
      "29/29 [==============================] - 10s 345ms/step - loss: 19.6807 - val_loss: 19.9530\n",
      "Epoch 34/100\n",
      "29/29 [==============================] - 10s 351ms/step - loss: 19.6548 - val_loss: 19.9239\n",
      "Epoch 35/100\n",
      "29/29 [==============================] - 11s 363ms/step - loss: 19.6264 - val_loss: 20.0588\n",
      "Epoch 36/100\n",
      "29/29 [==============================] - 10s 357ms/step - loss: 19.5669 - val_loss: 20.0231\n",
      "Epoch 37/100\n",
      "29/29 [==============================] - 10s 344ms/step - loss: 19.5582 - val_loss: 20.0025\n",
      "Epoch 38/100\n",
      "29/29 [==============================] - 10s 343ms/step - loss: 19.5044 - val_loss: 19.9836\n",
      "Epoch 39/100\n",
      "29/29 [==============================] - 10s 346ms/step - loss: 19.4622 - val_loss: 19.9490\n",
      "Epoch 40/100\n",
      "29/29 [==============================] - 10s 346ms/step - loss: 19.4177 - val_loss: 19.9853\n",
      "Epoch 41/100\n",
      "29/29 [==============================] - 10s 342ms/step - loss: 19.4134 - val_loss: 20.0464\n",
      "Epoch 42/100\n",
      "29/29 [==============================] - 10s 353ms/step - loss: 19.3570 - val_loss: 19.9417\n",
      "Epoch 43/100\n",
      "29/29 [==============================] - 10s 343ms/step - loss: 19.2772 - val_loss: 19.9631\n",
      "Epoch 44/100\n",
      "29/29 [==============================] - 10s 349ms/step - loss: 19.2364 - val_loss: 19.9122\n",
      "Epoch 45/100\n",
      "29/29 [==============================] - 10s 345ms/step - loss: 19.1734 - val_loss: 19.9617\n",
      "Epoch 46/100\n",
      "29/29 [==============================] - 10s 351ms/step - loss: 19.0673 - val_loss: 19.6854\n",
      "Epoch 47/100\n",
      "29/29 [==============================] - 10s 349ms/step - loss: 18.9982 - val_loss: 20.0853\n",
      "Epoch 48/100\n",
      "29/29 [==============================] - 10s 345ms/step - loss: 19.0318 - val_loss: 19.6537\n",
      "Epoch 49/100\n",
      "29/29 [==============================] - 11s 388ms/step - loss: 18.7717 - val_loss: 19.5573\n",
      "Epoch 50/100\n",
      "29/29 [==============================] - 10s 344ms/step - loss: 18.6271 - val_loss: 19.6421\n",
      "Epoch 51/100\n",
      "29/29 [==============================] - 10s 346ms/step - loss: 18.5828 - val_loss: 19.5189\n",
      "Epoch 52/100\n",
      "29/29 [==============================] - 10s 358ms/step - loss: 18.4605 - val_loss: 19.5554\n",
      "Epoch 53/100\n",
      "29/29 [==============================] - 11s 395ms/step - loss: 18.3738 - val_loss: 19.4741\n",
      "Epoch 54/100\n",
      "29/29 [==============================] - 11s 379ms/step - loss: 18.2246 - val_loss: 19.3004\n",
      "Epoch 55/100\n",
      "29/29 [==============================] - 10s 347ms/step - loss: 18.0586 - val_loss: 19.3187\n",
      "Epoch 56/100\n",
      "29/29 [==============================] - 10s 353ms/step - loss: 17.9901 - val_loss: 19.2997\n",
      "Epoch 57/100\n",
      "29/29 [==============================] - 10s 349ms/step - loss: 17.8563 - val_loss: 19.1064\n",
      "Epoch 58/100\n",
      "29/29 [==============================] - 10s 342ms/step - loss: 17.6942 - val_loss: 19.0963\n",
      "Epoch 59/100\n",
      "29/29 [==============================] - 10s 347ms/step - loss: 17.6102 - val_loss: 19.1171\n",
      "Epoch 60/100\n",
      "29/29 [==============================] - 10s 345ms/step - loss: 17.4033 - val_loss: 18.9902\n",
      "Epoch 61/100\n",
      "29/29 [==============================] - 10s 345ms/step - loss: 17.2161 - val_loss: 18.9814\n",
      "Epoch 62/100\n",
      "29/29 [==============================] - 10s 345ms/step - loss: 17.0960 - val_loss: 19.0925\n",
      "Epoch 63/100\n",
      "29/29 [==============================] - 11s 376ms/step - loss: 16.9614 - val_loss: 18.8967\n",
      "Epoch 64/100\n",
      "29/29 [==============================] - 11s 390ms/step - loss: 16.7349 - val_loss: 18.8860\n",
      "Epoch 65/100\n",
      "29/29 [==============================] - 10s 361ms/step - loss: 16.6171 - val_loss: 18.8979\n",
      "Epoch 66/100\n",
      "29/29 [==============================] - 10s 346ms/step - loss: 16.4010 - val_loss: 18.7790\n",
      "Epoch 67/100\n",
      "29/29 [==============================] - 10s 348ms/step - loss: 16.1994 - val_loss: 18.8018\n",
      "Epoch 68/100\n",
      "29/29 [==============================] - 10s 343ms/step - loss: 16.1408 - val_loss: 18.8476\n",
      "Epoch 69/100\n",
      "29/29 [==============================] - 10s 344ms/step - loss: 15.8945 - val_loss: 18.8859\n",
      "Epoch 70/100\n",
      "29/29 [==============================] - 10s 346ms/step - loss: 15.6228 - val_loss: 18.7909\n",
      "Epoch 71/100\n",
      "29/29 [==============================] - 10s 344ms/step - loss: 15.4392 - val_loss: 18.6909\n",
      "Epoch 72/100\n",
      "29/29 [==============================] - 11s 394ms/step - loss: 15.2788 - val_loss: 18.9348\n",
      "Epoch 73/100\n",
      "29/29 [==============================] - 11s 364ms/step - loss: 15.0233 - val_loss: 18.6408\n",
      "Epoch 74/100\n",
      "29/29 [==============================] - 11s 371ms/step - loss: 14.9146 - val_loss: 18.6288\n",
      "Epoch 75/100\n",
      "29/29 [==============================] - 12s 410ms/step - loss: 14.7055 - val_loss: 18.6795\n",
      "Epoch 76/100\n",
      "29/29 [==============================] - 11s 363ms/step - loss: 14.5008 - val_loss: 18.4952\n",
      "Epoch 77/100\n",
      "29/29 [==============================] - 10s 349ms/step - loss: 14.3538 - val_loss: 18.5616\n",
      "Epoch 78/100\n",
      "29/29 [==============================] - 10s 343ms/step - loss: 14.1495 - val_loss: 18.4828\n",
      "Epoch 79/100\n"
     ]
    },
    {
     "name": "stdout",
     "output_type": "stream",
     "text": [
      "29/29 [==============================] - 11s 369ms/step - loss: 13.9286 - val_loss: 18.5985\n",
      "Epoch 80/100\n",
      "29/29 [==============================] - 10s 346ms/step - loss: 13.7752 - val_loss: 18.5638\n",
      "Epoch 81/100\n",
      "29/29 [==============================] - 10s 350ms/step - loss: 13.5585 - val_loss: 18.5102\n",
      "Epoch 82/100\n",
      "29/29 [==============================] - 10s 342ms/step - loss: 13.3497 - val_loss: 18.6013\n",
      "Epoch 83/100\n",
      "29/29 [==============================] - 11s 367ms/step - loss: 13.1355 - val_loss: 18.6500\n",
      "Epoch 84/100\n",
      "29/29 [==============================] - 11s 365ms/step - loss: 13.0216 - val_loss: 18.6410\n",
      "Epoch 85/100\n",
      "29/29 [==============================] - 10s 347ms/step - loss: 12.7500 - val_loss: 18.6318\n",
      "Epoch 86/100\n",
      "29/29 [==============================] - 10s 343ms/step - loss: 12.6029 - val_loss: 18.7462\n",
      "Epoch 87/100\n",
      "29/29 [==============================] - 10s 339ms/step - loss: 12.3504 - val_loss: 18.7152\n",
      "Epoch 88/100\n",
      "29/29 [==============================] - 10s 343ms/step - loss: 12.1852 - val_loss: 18.7964\n"
     ]
    }
   ],
   "source": [
    "X_train,X_val, y_train, y_val = create_train_valid_dataset()\n",
    "#history = model.fit(x = X_train, y = y_train, validation_data=(X_val, y_val), epochs = 10) \n",
    "early_stopping = keras.callbacks.EarlyStopping(monitor=\"val_loss\", patience = 10, restore_best_weights = True)\n",
    "history = model.fit(x = [X_train,y_train],\n",
    "                    y = y_train,\n",
    "                    validation_data = ([X_val,y_val],y_val),\n",
    "                    epochs = 100,\n",
    "                    callbacks = [early_stopping])"
   ]
  },
  {
   "cell_type": "code",
   "execution_count": 536,
   "id": "55186d9d",
   "metadata": {},
   "outputs": [
    {
     "data": {
      "text/plain": [
       "array([[35, 46,  3, 36, 50],\n",
       "       [31, 50, 37, 30, 48],\n",
       "       [19, 12, 13, 28, 10],\n",
       "       [ 5,  4, 27, 46, 32],\n",
       "       [ 5, 12, 24,  8, 49],\n",
       "       [26,  5, 34, 10, 14],\n",
       "       [14, 25, 47,  4, 24],\n",
       "       [15, 42, 45, 46, 34],\n",
       "       [ 8,  9, 18, 48,  6],\n",
       "       [34, 15, 13,  2, 19],\n",
       "       [17,  5, 22, 36, 16],\n",
       "       [22, 43, 19, 11, 40],\n",
       "       [34, 25, 47, 39,  3],\n",
       "       [12, 42, 13, 16,  3],\n",
       "       [34, 16, 12, 20, 41],\n",
       "       [33, 46, 49, 30, 44],\n",
       "       [11, 42, 24, 36, 21],\n",
       "       [23, 24, 10, 36, 10],\n",
       "       [18, 29, 24, 42, 32],\n",
       "       [34,  1, 32, 48, 13],\n",
       "       [12, 26, 17, 29,  4],\n",
       "       [48, 26, 31,  6,  8],\n",
       "       [ 3, 29,  3, 28, 45],\n",
       "       [42, 12, 25, 30, 10],\n",
       "       [28, 46, 42,  6, 48],\n",
       "       [15,  3, 37, 47, 49],\n",
       "       [46, 11, 29, 16, 10],\n",
       "       [49, 44,  6, 12, 31],\n",
       "       [13, 16,  5, 48, 11],\n",
       "       [29, 16,  7, 36, 14],\n",
       "       [27, 32, 45, 15, 34],\n",
       "       [11, 43, 48, 39, 24],\n",
       "       [ 1, 27, 33, 19, 34],\n",
       "       [ 4, 27, 14, 23,  5],\n",
       "       [ 4, 35, 33, 12, 43],\n",
       "       [40, 26,  1, 36, 17],\n",
       "       [41, 40, 24, 27, 49],\n",
       "       [12, 45, 37, 31, 22],\n",
       "       [22, 39, 36, 15,  2],\n",
       "       [33, 23, 10, 39, 21],\n",
       "       [28, 24,  8, 40, 33],\n",
       "       [45, 21, 39, 10, 40],\n",
       "       [45, 49, 44, 29, 46],\n",
       "       [42, 30, 45, 47, 46],\n",
       "       [19, 42, 23, 51, 45],\n",
       "       [43, 17, 16, 31,  3],\n",
       "       [35, 50, 12,  2, 50],\n",
       "       [ 1, 40, 38, 47, 51],\n",
       "       [19, 45, 14,  1, 44],\n",
       "       [29,  3, 31, 25,  0],\n",
       "       [ 2, 32, 34,  9, 44],\n",
       "       [21, 19, 40, 31, 36],\n",
       "       [47, 34, 36, 35,  1],\n",
       "       [40, 36, 12, 34, 27],\n",
       "       [ 2, 18, 28, 33, 15],\n",
       "       [ 5, 47,  3, 14, 29],\n",
       "       [16,  3, 28, 30, 15],\n",
       "       [46, 33, 49,  9, 28],\n",
       "       [21, 15, 45, 40,  2],\n",
       "       [24, 24,  1, 39, 36],\n",
       "       [ 7, 47, 33, 43,  8],\n",
       "       [15, 41, 24, 51, 46],\n",
       "       [25, 12, 33, 42, 47],\n",
       "       [38, 30, 33, 29, 48],\n",
       "       [ 6, 35, 35, 44, 42],\n",
       "       [ 8, 36, 51, 50, 51],\n",
       "       [25,  2, 35,  9, 50],\n",
       "       [23, 33, 13, 39, 50],\n",
       "       [50,  9, 20, 51,  7],\n",
       "       [46, 21, 34,  2,  5],\n",
       "       [34, 51, 28,  2, 40],\n",
       "       [26, 39, 19, 47, 30],\n",
       "       [19,  4,  7, 35,  5],\n",
       "       [44, 37, 31, 27, 16],\n",
       "       [ 7, 18, 17, 26, 44],\n",
       "       [ 5, 18, 51, 30, 24],\n",
       "       [20, 31, 31, 11, 26],\n",
       "       [40,  0, 12, 25,  2],\n",
       "       [26, 45, 24,  5, 19],\n",
       "       [39, 34, 25, 17, 17],\n",
       "       [47, 12,  7,  9, 32],\n",
       "       [40,  2, 36, 11, 38],\n",
       "       [23,  7, 15, 36, 29],\n",
       "       [21, 26, 34, 49,  0],\n",
       "       [40, 28, 21, 28, 17],\n",
       "       [41, 16, 47, 40, 30],\n",
       "       [45,  6, 51, 19, 38],\n",
       "       [13, 18, 31,  1,  7],\n",
       "       [40,  0,  9, 32, 11],\n",
       "       [45,  4,  6,  2, 18],\n",
       "       [28, 50,  4,  2, 16],\n",
       "       [19, 26, 28, 43, 12],\n",
       "       [49, 36, 18,  8, 19],\n",
       "       [22, 41, 47, 37,  7],\n",
       "       [15, 35,  1, 28, 15],\n",
       "       [30, 26, 21, 32, 10],\n",
       "       [43,  4, 14, 16, 15],\n",
       "       [33,  0,  9, 51, 25],\n",
       "       [14, 23,  8, 44,  0],\n",
       "       [48, 27, 14, 16, 19]])"
      ]
     },
     "execution_count": 536,
     "metadata": {},
     "output_type": "execute_result"
    }
   ],
   "source": [
    "y_val"
   ]
  },
  {
   "cell_type": "code",
   "execution_count": 537,
   "id": "6bfb76b3",
   "metadata": {},
   "outputs": [
    {
     "data": {
      "text/plain": [
       "<matplotlib.legend.Legend at 0x7f93ecf1c760>"
      ]
     },
     "execution_count": 537,
     "metadata": {},
     "output_type": "execute_result"
    },
    {
     "data": {
      "image/png": "[encoded data removed]",
      "text/plain": [
       "<Figure size 1440x1440 with 2 Axes>"
      ]
     },
     "metadata": {
      "needs_background": "light"
     },
     "output_type": "display_data"
    }
   ],
   "source": [
    "fig, axs = plt.subplots(2, figsize=(20,20))\n",
    "\n",
    "axs[0].plot(history.history['loss'])\n",
    "axs[0].plot(history.history['val_loss'])\n",
    "\n",
    "plt.title('Model accuracy')\n",
    "plt.ylabel('lo')\n",
    "plt.xlabel('epoch')\n",
    "plt.legend(['train', 'validation'], loc = 'upper left')\n",
    "axs[1].plot(history.history['loss'])\n",
    "axs[1].plot(history.history['val_loss'])\n",
    "\n",
    "plt.title('Model loss')\n",
    "plt.ylabel('loss')\n",
    "plt.xlabel('epoch')\n",
    "plt.legend(['train', 'validation'], loc = 'upper left')"
   ]
  },
  {
   "cell_type": "code",
   "execution_count": null,
   "id": "8f0952ee",
   "metadata": {},
   "outputs": [],
   "source": [
    "history.history"
   ]
  },
  {
   "cell_type": "code",
   "execution_count": 503,
   "id": "18cd93cb",
   "metadata": {},
   "outputs": [
    {
     "name": "stdout",
     "output_type": "stream",
     "text": [
      "Model: \"model\"\n",
      "_________________________________________________________________\n",
      " Layer (type)                Output Shape              Param #   \n",
      "=================================================================\n",
      " image (InputLayer)          [(None, 280, 25, 1)]      0         \n",
      "                                                                 \n",
      " Conv1 (Conv2D)              (None, 280, 25, 32)       320       \n",
      "                                                                 \n",
      " pool1 (MaxPooling2D)        (None, 140, 12, 32)       0         \n",
      "                                                                 \n",
      " Conv2 (Conv2D)              (None, 140, 12, 64)       18496     \n",
      "                                                                 \n",
      " pool2 (MaxPooling2D)        (None, 70, 6, 64)         0         \n",
      "                                                                 \n",
      " reshape (Reshape)           (None, 70, 384)           0         \n",
      "                                                                 \n",
      " dense1 (Dense)              (None, 70, 64)            24640     \n",
      "                                                                 \n",
      " dropout_2 (Dropout)         (None, 70, 64)            0         \n",
      "                                                                 \n",
      " bidirectional_2 (Bidirectio  (None, 70, 256)          197632    \n",
      " nal)                                                            \n",
      "                                                                 \n",
      " bidirectional_3 (Bidirectio  (None, 70, 128)          164352    \n",
      " nal)                                                            \n",
      "                                                                 \n",
      " dense2 (Dense)              (None, 70, 53)            6837      \n",
      "                                                                 \n",
      "=================================================================\n",
      "Total params: 412,277\n",
      "Trainable params: 412,277\n",
      "Non-trainable params: 0\n",
      "_________________________________________________________________\n"
     ]
    }
   ],
   "source": [
    "prediction_model = keras.models.Model(model.get_layer(name = \"image\").input, model.get_layer(name = \"dense2\").output)\n",
    "\n",
    "prediction_model.summary()\n"
   ]
  },
  {
   "cell_type": "code",
   "execution_count": 506,
   "id": "2b654873",
   "metadata": {},
   "outputs": [
    {
     "name": "stdout",
     "output_type": "stream",
     "text": [
      "(10, 70, 53)\n"
     ]
    }
   ],
   "source": [
    "#print(y_val.shape)\n",
    "y_pred = prediction_model.predict(X_val)\n",
    "print(y_pred.shape)\n",
    "y_pred = keras.backend.ctc_decode(y_pred, input_length = np.ones(y_val.shape[0] *), greedy = True)"
   ]
  },
  {
   "cell_type": "code",
   "execution_count": null,
   "id": "b487a805",
   "metadata": {},
   "outputs": [],
   "source": []
  }
 ],
 "metadata": {
  "kernelspec": {
   "display_name": "Python 3 (ipykernel)",
   "language": "python",
   "name": "python3"
  },
  "language_info": {
   "codemirror_mode": {
    "name": "ipython",
    "version": 3
   },
   "file_extension": ".py",
   "mimetype": "text/x-python",
   "name": "python",
   "nbconvert_exporter": "python",
   "pygments_lexer": "ipython3",
   "version": "3.9.7"
  }
 },
 "nbformat": 4,
 "nbformat_minor": 5
}
