{
 "cells": [
  {
   "cell_type": "markdown",
   "metadata": {},
   "source": [
    "### Arnoldi iterations\n",
    "\n",
    "This project deals with Krylov subspaces. They are used to find approximate solutions for high dimension linear algebra problems, notably useful in big data. Reduction is a key problem to reduce time computing for very large matrices pow algorithms. Finding eigenvalues and eigenvectors of those very large matrices is the key solution however it is not a simple task.\n",
    "\n",
    "Arnoldi is analogue to Graham-Schmidt algorithm for similarity transformations to Hessenberg form. Similarly it can be stopped, leaving with a partial reduction of this form with A a m x m matrix.\n",
    "\n",
    "\\begin{equation}\n",
    "A = Q H Q^{*}\n",
    "\\end{equation}\n",
    "\n",
    "Let's tackle partial reduction with n first columns of AQ = QH with Qn the m x n matrix with  first n columns of Q. \n",
    "\n",
    "\\begin{equation}\n",
    "A Q_n = Q_{n+1} \\tilde{H_n}\n",
    "\\end{equation}\n"
   ]
  },
  {
   "cell_type": "code",
   "execution_count": 9,
   "metadata": {},
   "outputs": [],
   "source": [
    "import numpy as np\n",
    "import matplotlib.pyplot as plt"
   ]
  },
  {
   "cell_type": "code",
   "execution_count": 5,
   "metadata": {},
   "outputs": [],
   "source": [
    "research_link_small = \"https://www.cs.cmu.edu/afs/cs/academic/class/15859n-f16/Handouts/TrefethenBau/ArnoldiIteration-33.pdf\"\n",
    "research_link_p_262 = \"http://mezbanhabibi.ir/wp-content/uploads/2020/01/NumericalLinearAlgebra-Lloyd-N1.-Trefethen-David-Bau.pdf\""
   ]
  },
  {
   "cell_type": "code",
   "execution_count": 51,
   "metadata": {},
   "outputs": [],
   "source": [
    "def arnoldi(A,iterations):\n",
    "    m = A[0].size\n",
    "    H = np.zeros((iterations + 1, iterations))\n",
    "    Qn = np.zeros((m,iterations + 1)) \n",
    "    b = np.ones(m)\n",
    "    Qn[:,0] = b / np.linalg.norm(b)\n",
    "    for n in range(iterations):\n",
    "        v = A @ Qn[:,n]\n",
    "        for j in range(n+1):\n",
    "            H[j,n] = np.vdot(Qn[:,j],v)\n",
    "            v -= H[j,n] * Qn[:,j]\n",
    "        H[n+1,n] = np.linalg.norm(v) # TODO deal with case = 0\n",
    "        try : \n",
    "            Qn[:,n+1] = v / H[n+1,n]  \n",
    "        except ZeroDivisionError : \n",
    "            Qn[:,n+1] = np.zeros((n+1,))\n",
    "    Q = Qn[:, :iterations]\n",
    "    H = H[:iterations, :]\n",
    "    return Q,H"
   ]
  },
  {
   "cell_type": "code",
   "execution_count": 59,
   "metadata": {},
   "outputs": [
    {
     "name": "stdout",
     "output_type": "stream",
     "text": [
      "[[False False  True False False  True  True False  True False]\n",
      " [False  True  True False False  True  True False  True False]\n",
      " [False  True  True False False  True  True False  True False]\n",
      " [False False  True False False  True  True False  True False]\n",
      " [False False False False False  True  True False False False]\n",
      " [False  True  True False False  True  True False  True  True]\n",
      " [False  True  True False  True  True  True False  True False]\n",
      " [False  True  True False False  True  True False  True False]\n",
      " [False False  True False False  True  True False  True False]\n",
      " [False  True  True False False  True  True False  True False]] \n",
      "\n",
      "[[80 29 49 56 73 57 47  9 79 11]\n",
      " [20  5 79 88 34 30 11 90 30 59]\n",
      " [69 11 60 61 25 89 45 84 54 42]\n",
      " [73  7 24 19 92 93 49 85 18 82]\n",
      " [51  5 21 28 57 13  1 59  6 96]\n",
      " [67  3 12 35 43 67 68 33 31  0]\n",
      " [ 5 62 24  6 82 31 61 37 18 68]\n",
      " [69 45 86 33 90 84 92  8 42  8]\n",
      " [42 44 44 37 42 64 33 15 34 55]\n",
      " [14 60 24 35 19 88 99 99 24 56]] \n",
      "\n",
      "[[79 28 49 55 72 57 47  8 79 10]\n",
      " [19  5 79 87 33 30 11 89 30 58]\n",
      " [68 11 60 60 24 89 45 83 54 41]\n",
      " [72  6 24 18 91 93 49 84 18 81]\n",
      " [50  4 20 27 56 13  1 58  5 95]\n",
      " [66  3 12 34 42 67 68 32 31  0]\n",
      " [ 4 62 24  5 82 31 61 36 18 67]\n",
      " [68 45 86 32 89 84 92  7 42  7]\n",
      " [41 43 44 36 41 64 33 14 34 54]\n",
      " [13 60 24 34 18 88 99 98 24 55]]\n"
     ]
    }
   ],
   "source": [
    "m = 10\n",
    "A = np.random.randint(0,100,(m,m))\n",
    "Q, H = arnoldi(A,m)\n",
    "arnoldi_result = (Q @ H @ Q.conj().T).astype(int)\n",
    "print(arnoldi_result == A, '\\n')\n",
    "print(A, '\\n')\n",
    "print(arnoldi_result)"
   ]
  },
  {
   "cell_type": "code",
   "execution_count": null,
   "metadata": {},
   "outputs": [],
   "source": []
  }
 ],
 "metadata": {
  "kernelspec": {
   "display_name": "Python 3",
   "language": "python",
   "name": "python3"
  },
  "language_info": {
   "codemirror_mode": {
    "name": "ipython",
    "version": 3
   },
   "file_extension": ".py",
   "mimetype": "text/x-python",
   "name": "python",
   "nbconvert_exporter": "python",
   "pygments_lexer": "ipython3",
   "version": "3.7.4"
  }
 },
 "nbformat": 4,
 "nbformat_minor": 2
}
