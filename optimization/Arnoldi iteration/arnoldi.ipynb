{
 "cells": [
  {
   "cell_type": "markdown",
   "metadata": {},
   "source": [
    "### Arnoldi iterations\n",
    "\n",
    "This project deals with Krylov subspaces. They are used to find approximate solutions for high dimension linear algebra problems, notably useful in big data. Reduction is a key problem to reduce time computing for very large matrices pow algorithms. Finding eigenvalues and eigenvectors of those very large matrices is the key solution however it is not a simple task.\n",
    "\n",
    "Arnoldi is analogue to Graham-Schmidt algorithm for similarity transformations to Hessenberg form (nearly triangular matrix). Similarly it can be stopped, leaving with a partial reduction of this form with A a m x m matrix, Q a nearly orthogonal matrix, H the Hessenberg form matrix.\n",
    "\n",
    "\\begin{equation}\n",
    "A = Q H Q^{*}\n",
    "\\end{equation}\n",
    "\n",
    "Let's tackle partial reduction with n first columns of AQ = QH with Qn the m x n matrix with  first n columns of Q. H in the next equation correspond to the upper-left (n+1) x n matrix extracted from H.\n",
    "\n",
    "\\begin{equation}\n",
    "A Q_n = Q_{n+1} \\tilde{H_n}\n",
    "\\end{equation}"
   ]
  },
  {
   "cell_type": "code",
   "execution_count": 1,
   "metadata": {},
   "outputs": [],
   "source": [
    "import numpy as np\n",
    "import matplotlib.pyplot as plt"
   ]
  },
  {
   "cell_type": "code",
   "execution_count": 2,
   "metadata": {},
   "outputs": [],
   "source": [
    "research_link_small = \"https://www.cs.cmu.edu/afs/cs/academic/class/15859n-f16/Handouts/TrefethenBau/ArnoldiIteration-33.pdf\"\n",
    "research_link_p_264 = \"http://mezbanhabibi.ir/wp-content/uploads/2020/01/NumericalLinearAlgebra-Lloyd-N1.-Trefethen-David-Bau.pdf\""
   ]
  },
  {
   "cell_type": "code",
   "execution_count": 3,
   "metadata": {},
   "outputs": [],
   "source": [
    "def arnoldi(A,iterations):\n",
    "    m = A[0].size\n",
    "    Qn = np.zeros((m,iterations + 1)) \n",
    "    H = np.zeros((iterations + 1, iterations))\n",
    "    b = np.random.randn(m)\n",
    "    Qn[:,0] = b / np.linalg.norm(b)\n",
    "    eps = 1e12\n",
    "    for n in range(iterations):\n",
    "        v = A @ Qn[:,n]\n",
    "        for j in range(n + 1):\n",
    "            H[j,n] = Qn[:,j].conj().T @ v\n",
    "            v -= H[j,n] * Qn[:,j]\n",
    "        H[n+1,n] = np.linalg.norm(v)\n",
    "        if H[n+1,n] > eps : \n",
    "            Qn[:,n+1] = v / H[n+1,n]  \n",
    "        else: \n",
    "            return Qn, H\n",
    "    Q = Qn[:, :iterations]\n",
    "    H = H[:iterations, :]\n",
    "    return Q,H"
   ]
  },
  {
   "cell_type": "markdown",
   "metadata": {},
   "source": [
    "Qn columns {qj} form orthonormal bases for successive Krylov subspaces\n",
    "H is the upper Hessenberg matrice"
   ]
  },
  {
   "cell_type": "code",
   "execution_count": 4,
   "metadata": {},
   "outputs": [
    {
     "name": "stdout",
     "output_type": "stream",
     "text": [
      "[[ True False False False False  True]\n",
      " [ True False  True False False  True]\n",
      " [ True False False False False  True]\n",
      " [ True  True False False False  True]\n",
      " [ True False False False False  True]\n",
      " [ True  True  True False False  True]] \n",
      "\n",
      "[[21 81 79 61 98 82]\n",
      " [92 20  6 61 47  8]\n",
      " [43 66 51 90 89 26]\n",
      " [ 0 96 30 12 86 50]\n",
      " [13 48 37 26 58 15]\n",
      " [59 83  4 12 16 32]] \n",
      "\n",
      "[[21 80 78 60 97 82]\n",
      " [92 19  6 60 46  8]\n",
      " [43 65 50 89 88 26]\n",
      " [ 0 96 29 11 85 50]\n",
      " [13 47 36 25 57 15]\n",
      " [59 83  4 11 15 32]]\n"
     ]
    }
   ],
   "source": [
    "m = 6\n",
    "A = np.random.randint(0,100,(m,m))\n",
    "Q, H = arnoldi(A,m)\n",
    "arnoldi_result = (Q @ H @ Q.conj().T).astype(int)\n",
    "print(arnoldi_result == A, '\\n')\n",
    "print(A, '\\n')\n",
    "print(arnoldi_result)"
   ]
  },
  {
   "cell_type": "code",
   "execution_count": 6,
   "metadata": {},
   "outputs": [
    {
     "name": "stdout",
     "output_type": "stream",
     "text": [
      "[[80 98  7  7 82 62 62 38 94 30]\n",
      " [41 50 13 46 73 88  6 64 11 91]\n",
      " [62 31 27 91 32  9 82 41 65 53]\n",
      " [89 40 56  6 81 34  3 30 10 54]\n",
      " [30 29 84 95 62 87  7  7  7 83]\n",
      " [32 35 89 94 57  2 79 72 26 25]\n",
      " [64 28 58 82 73 30 10 12  5 59]\n",
      " [70 48 69 86 62 51  2 44 35 16]\n",
      " [10 61  3 17 47 72 96 10 52 99]\n",
      " [ 5 18 56 89 51 80 18 44 32 90]] \n",
      "\n",
      "[[80 98  7  7 82 62 62 38 94 30]\n",
      " [41 50 12 46 73 88  5 63 11 90]\n",
      " [62 31 27 91 32  9 82 40 65 53]\n",
      " [89 40 56  6 81 34  3 30 10 54]\n",
      " [30 29 84 94 61 87  7  6  7 83]\n",
      " [32 35 89 93 57  2 79 72 25 25]\n",
      " [64 28 58 82 73 30  9 12  4 58]\n",
      " [70 48 69 86 62 51  1 44 35 16]\n",
      " [10 60  3 16 47 71 96 10 52 99]\n",
      " [ 5 18 55 89 51 80 18 44 32 90]]\n"
     ]
    }
   ],
   "source": [
    "def Graham_Schmidt(A):\n",
    "    m,n = A.shape\n",
    "    v = np.zeros((m,n))\n",
    "    r, q = np.zeros((m,n)), np.zeros((m,n))\n",
    "    for i in range(n):\n",
    "        v[:,i] = A[:,i]\n",
    "    for i in range(n):\n",
    "        r[i,i] = np.linalg.norm(v[:,i])\n",
    "        q[:,i] = v[:,i] / r[i,i]\n",
    "        for j in range(i + 1, n):\n",
    "            r[i,j] = q[:,i].conj().T @ v[:,j]\n",
    "            v[:,j] -= r[i,j] * q[:,i]\n",
    "            \n",
    "    return q, r\n",
    "        \n",
    "        \n",
    "\n",
    "m = 10\n",
    "A = np.random.randint(0,100,(m,m))\n",
    "q,r = Graham_Schmidt(A)\n",
    "\n",
    "print(A, '\\n')\n",
    "print((q @ r).astype(int))"
   ]
  },
  {
   "cell_type": "markdown",
   "metadata": {},
   "source": [
    "## Compute eigenvalues with Arnoldi iteration\n",
    "\n",
    "At each regular step, the eigenvalues of Hn matrix is computer with QR algorithm (Graham-Schmidt algorithm implemented). Thoses eigenvalues are called \"Arnoldi estimates\" or \"Ritz values\". \n",
    "Not all eigenvalues are computer because n << dim(A) however extreme eigenvalues (near the edge of spectrum of A). Those are the most useful ones for most applications.\n",
    "\n"
   ]
  },
  {
   "cell_type": "code",
   "execution_count": null,
   "metadata": {},
   "outputs": [],
   "source": [
    "def lemniscates(A,iterations):\n",
    "    m,n = A.shape\n",
    "    b = np.ones(m)\n",
    "    Q,H = arnoldi(A,iterations)\n",
    "    p_coeffs = np.poly(H)\n",
    "    p = np.poly1d(p_coeffs)\n",
    "\n",
    "    pA = 0\n",
    "    power = p_coeffs.size - 1\n",
    "    for coeff in p_coeffs:\n",
    "        print(pA)\n",
    "        pA += coeff*np.linalg.matrix_power(A,power)\n",
    "        power -= 1\n",
    "\n",
    "    C = np.linalg.norm(pA @ b) / p.linalg.norm(b)\n",
    "    print(\"C : \", C)"
   ]
  }
 ],
 "metadata": {
  "kernelspec": {
   "display_name": "Python 3 (ipykernel)",
   "language": "python",
   "name": "python3"
  },
  "language_info": {
   "codemirror_mode": {
    "name": "ipython",
    "version": 3
   },
   "file_extension": ".py",
   "mimetype": "text/x-python",
   "name": "python",
   "nbconvert_exporter": "python",
   "pygments_lexer": "ipython3",
   "version": "3.7.4"
  }
 },
 "nbformat": 4,
 "nbformat_minor": 2
}
