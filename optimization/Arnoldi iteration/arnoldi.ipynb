{
 "cells": [
  {
   "cell_type": "markdown",
   "metadata": {},
   "source": [
    "### Arnoldi iterations\n",
    "\n",
    "This project deals with Krylov subspaces. They are used to find approximate solutions for high dimension linear algebra problems, notably useful in big data. Reduction is a key problem to reduce time computing for very large matrices pow algorithms. Finding eigenvalues and eigenvectors of those very large matrices is the key solution however it is not a simple task.\n",
    "\n",
    "Arnoldi is analogue to Graham-Schmidt algorithm for similarity transformations to Hessenberg form (nearly triangular matrix). Similarly it can be stopped, leaving with a partial reduction of this form with A a m x m matrix, Q a nearly orthogonal matrix, H the Hessenberg form matrix.\n",
    "\n",
    "\\begin{equation}\n",
    "A = Q H Q^{*}\n",
    "\\end{equation}\n",
    "\n",
    "Let's tackle partial reduction with n first columns of AQ = QH with Qn the m x n matrix with  first n columns of Q. H in the next equation correspond to the upper-left (n+1) x n matrix extracted from H.\n",
    "\n",
    "\\begin{equation}\n",
    "A Q_n = Q_{n+1} \\tilde{H_n}\n",
    "\\end{equation}\n"
   ]
  },
  {
   "cell_type": "code",
   "execution_count": 1,
   "metadata": {},
   "outputs": [],
   "source": [
    "import numpy as np\n",
    "import matplotlib.pyplot as plt"
   ]
  },
  {
   "cell_type": "code",
   "execution_count": 2,
   "metadata": {},
   "outputs": [],
   "source": [
    "research_link_small = \"https://www.cs.cmu.edu/afs/cs/academic/class/15859n-f16/Handouts/TrefethenBau/ArnoldiIteration-33.pdf\"\n",
    "research_link_p_262 = \"http://mezbanhabibi.ir/wp-content/uploads/2020/01/NumericalLinearAlgebra-Lloyd-N1.-Trefethen-David-Bau.pdf\""
   ]
  },
  {
   "cell_type": "code",
   "execution_count": 3,
   "metadata": {},
   "outputs": [],
   "source": [
    "def arnoldi(A,iterations):\n",
    "    m = A[0].size\n",
    "    Qn = np.zeros((m,iterations + 1)) \n",
    "    H = np.zeros((iterations + 1, iterations))\n",
    "    b = np.random.randn(m)\n",
    "    Qn[:,0] = b / np.linalg.norm(b)\n",
    "    for n in range(iterations):\n",
    "        v = A @ Qn[:,n]\n",
    "        for j in range(n + 1):\n",
    "            H[j,n] = Qn[:,j].conj().T @ v\n",
    "            v -= H[j,n] * Qn[:,j]\n",
    "        H[n+1,n] = np.linalg.norm(v)\n",
    "        try : \n",
    "            Qn[:,n+1] = v / H[n+1,n]  \n",
    "        except ZeroDivisionError : \n",
    "            return Qn, H\n",
    "    Q = Qn[:, :iterations]\n",
    "    H = H[:iterations, :]\n",
    "    return Q,H"
   ]
  },
  {
   "cell_type": "markdown",
   "metadata": {},
   "source": [
    "Qn columns {qj} form orthonormal bases for successive Krylov subspaces\n",
    "H is the upper Hessenberg matrice"
   ]
  },
  {
   "cell_type": "code",
   "execution_count": 4,
   "metadata": {},
   "outputs": [
    {
     "name": "stdout",
     "output_type": "stream",
     "text": [
      "[[False False  True False  True  True]\n",
      " [False  True False False False False]\n",
      " [False False  True False  True False]\n",
      " [False  True  True False  True False]\n",
      " [ True False False False False  True]\n",
      " [False False  True False  True  True]] \n",
      "\n",
      "[[70 48 69 72  3 84]\n",
      " [41 31 21 86 18 63]\n",
      " [80 50 44 53 61 48]\n",
      " [62 21 30 35 52 69]\n",
      " [ 5 63  5 61  4 65]\n",
      " [16  7 76 48 29 93]] \n",
      "\n",
      "[[69 47 69 71  3 84]\n",
      " [40 31 20 85 17 62]\n",
      " [79 49 44 52 61 47]\n",
      " [61 21 30 34 52 68]\n",
      " [ 5 62  4 60  3 65]\n",
      " [15  6 76 47 29 93]]\n"
     ]
    }
   ],
   "source": [
    "m = 6\n",
    "A = np.random.randint(0,100,(m,m))\n",
    "Q, H = arnoldi(A,m)\n",
    "arnoldi_result = (Q @ H @ Q.conj().T).astype(int)\n",
    "print(arnoldi_result == A, '\\n')\n",
    "print(A, '\\n')\n",
    "print(arnoldi_result)"
   ]
  },
  {
   "cell_type": "code",
   "execution_count": 20,
   "metadata": {},
   "outputs": [
    {
     "name": "stdout",
     "output_type": "stream",
     "text": [
      "[[68 88 75 30 93 90 19 66 16 95]\n",
      " [94 20 49  6 72 21 76 73 94 83]\n",
      " [ 7 94  2 22 59 86 30  8 90 41]\n",
      " [75 89 28 61 48  1 33 23 64 51]\n",
      " [92 90  5 48 60 72  1 88 52 39]\n",
      " [15 21 30 24 89 57 31  3 17 75]\n",
      " [15 68 99 23 17 97 54 24 26 67]\n",
      " [59 96 42 41 34  8 62 30 46  5]\n",
      " [28  9 30 40 74 12 89  6 55 33]\n",
      " [ 8 84  6 21 13 22  3 90 83 21]] \n",
      "\n",
      "[[68 88 75 30 92 90 19 66 16 94]\n",
      " [94 19 49  6 71 21 76 73 94 83]\n",
      " [ 7 94  1 22 58 86 29  7 90 41]\n",
      " [75 89 27 61 48  0 33 22 64 51]\n",
      " [92 90  5 48 59 72  1 88 51 39]\n",
      " [15 21 30 24 89 57 31  3 17 74]\n",
      " [15 68 99 22 17 97 53 23 26 67]\n",
      " [59 96 42 41 34  8 62 29 46  5]\n",
      " [28  9 30 39 74 12 89  6 55 32]\n",
      " [ 8 84  6 21 12 22  2 89 83 21]]\n",
      "[[ 0.37791194  0.14244412  0.30806391 -0.23100526  0.26990538 -0.04672161\n",
      "  -0.58948495 -0.04984778 -0.21241691 -0.46743488]\n",
      " [ 0.52240768 -0.45967904  0.14371123 -0.43588712  0.16957873 -0.19474533\n",
      "   0.36166088  0.11447482  0.28667168  0.11121364]\n",
      " [ 0.0389027   0.56333916 -0.21665529 -0.14881248  0.47227737  0.09383507\n",
      "   0.41563622 -0.37450541  0.19191984 -0.17423826]\n",
      " [ 0.41681464  0.10505168 -0.15707744  0.40915742 -0.31785391 -0.21103372\n",
      "  -0.24186791 -0.28034703  0.58278611 -0.02908701]\n",
      " [ 0.51129262  0.00501364 -0.42513808  0.04826419 -0.08304269  0.67466207\n",
      "  -0.00887597  0.18366982 -0.22687515  0.09017862]\n",
      " [ 0.08336293  0.04168067  0.19103334  0.31221049  0.57517946  0.01878065\n",
      "  -0.24241363 -0.01372371  0.01256645  0.68341017]\n",
      " [ 0.08336293  0.34527621  0.7331904  -0.017948   -0.33106342  0.3860868\n",
      "   0.19933832  0.04043763  0.15520665  0.10871337]\n",
      " [ 0.32789418  0.250501    0.00501861  0.00362192 -0.27253831 -0.4511809\n",
      "   0.21370906 -0.24967444 -0.61104134  0.26547054]\n",
      " [ 0.1556108  -0.11727236  0.18090353  0.67396188  0.22911096 -0.08783147\n",
      "   0.37861095  0.26918082 -0.15566252 -0.41813895]\n",
      " [ 0.04446023  0.4924798  -0.15898213 -0.11278008 -0.01475307 -0.30114428\n",
      "  -0.05346611  0.77149735  0.15134015  0.07494067]]\n",
      "[[179.93609977 174.50639444  97.7069083   89.81521785 157.8171364\n",
      "  103.86464986 103.71459659 134.99236691 142.8340396  141.60026828]\n",
      " [  0.         154.81123441  37.64274436  45.42092952  34.5511136\n",
      "   99.37879832  14.65100195  42.75509332  72.38845933  38.01305347]\n",
      " [  0.           0.         106.19031909   0.90087597  34.12341935\n",
      "   62.0660672   66.11585275  -6.83777833 -13.9256826   73.82744478]\n",
      " [  0.           0.           0.          46.27476879  36.89991099\n",
      "  -17.16739809  40.14772307 -40.09063645   3.34791128   0.62763065]\n",
      " [  0.           0.           0.           0.          97.99469796\n",
      "   63.08809953  25.01466512   5.00358118  38.11321801  66.47557043]\n",
      " [  0.           0.           0.           0.           0.\n",
      "   75.37217255 -34.42551594   6.12415605 -29.2546805   14.59191551]\n",
      " [  0.           0.           0.           0.           0.\n",
      "    0.          70.79996698  -7.59585374  73.30882309 -14.00899445]\n",
      " [  0.           0.           0.           0.           0.\n",
      "    0.           0.          76.27457258  36.03847785   7.79265517]\n",
      " [  0.           0.           0.           0.           0.\n",
      "    0.           0.           0.          46.46295077  38.68421965]\n",
      " [  0.           0.           0.           0.           0.\n",
      "    0.           0.           0.           0.           7.35625962]]\n"
     ]
    }
   ],
   "source": [
    "def Graham_Schmidt(A):\n",
    "    n = A[0].size\n",
    "    v = np.zeros((n,n))\n",
    "    r, q = np.zeros((n,n)), np.zeros((n,n))\n",
    "    for i in range(n):\n",
    "        v[:,i] = A[:,i]\n",
    "    for i in range(n):\n",
    "        r[i,i] = np.linalg.norm(v[:,i])\n",
    "        q[:,i] = v[:,i] / r[i,i]\n",
    "        for j in range(i + 1, n):\n",
    "            r[i,j] = q[:,i].conj().T @ v[:,j]\n",
    "            v[:,j] -= r[i,j] * q[:,i]\n",
    "            \n",
    "    return q, r\n",
    "        \n",
    "        \n",
    "\n",
    "m = 10\n",
    "A = np.random.randint(0,100,(m,m))\n",
    "q,r = Graham_Schmidt(A)\n",
    "\n",
    "print(A, '\\n')\n",
    "print((q @ r).astype(int))\n",
    "print(q)\n",
    "print(r)"
   ]
  },
  {
   "cell_type": "code",
   "execution_count": null,
   "metadata": {},
   "outputs": [],
   "source": []
  }
 ],
 "metadata": {
  "kernelspec": {
   "display_name": "Python 3",
   "language": "python",
   "name": "python3"
  },
  "language_info": {
   "codemirror_mode": {
    "name": "ipython",
    "version": 3
   },
   "file_extension": ".py",
   "mimetype": "text/x-python",
   "name": "python",
   "nbconvert_exporter": "python",
   "pygments_lexer": "ipython3",
   "version": "3.7.4"
  }
 },
 "nbformat": 4,
 "nbformat_minor": 2
}
