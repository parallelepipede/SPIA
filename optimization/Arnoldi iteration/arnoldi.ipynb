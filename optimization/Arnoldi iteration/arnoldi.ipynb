{
 "cells": [
  {
   "cell_type": "markdown",
   "metadata": {},
   "source": [
    "### Arnoldi iterations\n",
    "\n",
    "This project deals with Krylov subspaces. They are used to find approximate solutions for high dimension linear algebra problems, notably useful in big data. Reduction is a key problem to reduce time computing for very large matrices pow algorithms. Finding eigenvalues and eigenvectors of those very large matrices is the key solution however it is not a simple task.\n",
    "\n",
    "Arnoldi is analogue to Graham-Schmidt algorithm for similarity transformations to Hessenberg form. Similarly it can be stopped, leaving with a partial reduction of this form with A a m x m matrix.\n",
    "\n",
    "\\begin{equation}\n",
    "A = Q H Q^{*}\n",
    "\\end{equation}\n",
    "\n",
    "Let's tackle partial reduction with n first columns of AQ = QH with Qn the m x n matrix with  first n columns of Q. \n",
    "\n",
    "\\begin{equation}\n",
    "A Q_n = Q_{n+1} \\tilde{H_n}\n",
    "\\end{equation}\n"
   ]
  },
  {
   "cell_type": "code",
   "execution_count": 2,
   "metadata": {},
   "outputs": [],
   "source": [
    "import numpy as np\n",
    "import matplotlib.pyplot as plt"
   ]
  },
  {
   "cell_type": "code",
   "execution_count": 3,
   "metadata": {},
   "outputs": [],
   "source": [
    "research_link_small = \"https://www.cs.cmu.edu/afs/cs/academic/class/15859n-f16/Handouts/TrefethenBau/ArnoldiIteration-33.pdf\"\n",
    "research_link_p_262 = \"http://mezbanhabibi.ir/wp-content/uploads/2020/01/NumericalLinearAlgebra-Lloyd-N1.-Trefethen-David-Bau.pdf\""
   ]
  },
  {
   "cell_type": "code",
   "execution_count": 18,
   "metadata": {},
   "outputs": [],
   "source": [
    "def arnoldi(A,iterations):\n",
    "    m = A[0].size\n",
    "    Qn = np.zeros((m,iterations + 1)) \n",
    "    H = np.zeros((iterations + 1, iterations))\n",
    "    b = np.random.randn(m)\n",
    "    Qn[:,0] = b / np.linalg.norm(b)\n",
    "    for n in range(iterations):\n",
    "        v = A @ Qn[:,n]\n",
    "        for j in range(n + 1):\n",
    "            H[j,n] = Qn[:,j].conj().T @ v\n",
    "            v -= H[j,n] * Qn[:,j]\n",
    "        H[n+1,n] = np.linalg.norm(v)\n",
    "        try : \n",
    "            Qn[:,n+1] = v / H[n+1,n]  \n",
    "        except ZeroDivisionError : \n",
    "            return Qn, H\n",
    "    Q = Qn[:, :iterations]\n",
    "    H = H[:iterations, :]\n",
    "    return Q,H"
   ]
  },
  {
   "cell_type": "markdown",
   "metadata": {},
   "source": [
    "Qn columns {qj} form orthonormal bases for successive Krylov subspaces\n",
    "H is the upper Hessenberg matrice"
   ]
  },
  {
   "cell_type": "code",
   "execution_count": 19,
   "metadata": {},
   "outputs": [
    {
     "name": "stdout",
     "output_type": "stream",
     "text": [
      "[[ True  True False False  True False]\n",
      " [ True  True False False False False]\n",
      " [ True  True False False  True False]\n",
      " [ True  True False  True  True False]\n",
      " [ True  True False False  True False]\n",
      " [ True  True False False  True False]] \n",
      "\n",
      "[[19 97 57 88 14 97]\n",
      " [53 47 11 58 53 84]\n",
      " [62 74 86 61 46 46]\n",
      " [80 32 77 84 84 65]\n",
      " [ 9  4 50 21 99 52]\n",
      " [ 7  9 12 52 26 92]] \n",
      "\n",
      "[[19 97 56 87 14 96]\n",
      " [53 47 10 57 52 83]\n",
      " [62 74 85 60 46 45]\n",
      " [80 32 76 84 84 64]\n",
      " [ 9  4 49 20 99 51]\n",
      " [ 7  9 11 51 26 91]]\n"
     ]
    }
   ],
   "source": [
    "m = 6\n",
    "A = np.random.randint(0,100,(m,m))\n",
    "Q, H = arnoldi(A,m)\n",
    "arnoldi_result = (Q @ H @ Q.conj().T).astype(int)\n",
    "print(arnoldi_result == A, '\\n')\n",
    "print(A, '\\n')\n",
    "print(arnoldi_result)"
   ]
  },
  {
   "cell_type": "code",
   "execution_count": null,
   "metadata": {},
   "outputs": [],
   "source": []
  }
 ],
 "metadata": {
  "kernelspec": {
   "display_name": "Python 3",
   "language": "python",
   "name": "python3"
  },
  "language_info": {
   "codemirror_mode": {
    "name": "ipython",
    "version": 3
   },
   "file_extension": ".py",
   "mimetype": "text/x-python",
   "name": "python",
   "nbconvert_exporter": "python",
   "pygments_lexer": "ipython3",
   "version": "3.7.4"
  }
 },
 "nbformat": 4,
 "nbformat_minor": 2
}
